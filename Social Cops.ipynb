{
 "cells": [
  {
   "cell_type": "code",
   "execution_count": 264,
   "metadata": {
    "ExecuteTime": {
     "end_time": "2019-03-12T16:36:51.083194Z",
     "start_time": "2019-03-12T16:36:51.076444Z"
    }
   },
   "outputs": [],
   "source": [
    "import numpy as np\n",
    "import pandas as pd\n",
    "import matplotlib.pyplot as plt\n",
    "import matplotlib.patches as mpatches\n",
    "from pandas import read_csv\n",
    "import seaborn as sns\n",
    "from statsmodels.tsa.stattools import acf\n",
    "from statsmodels.tsa.seasonal import seasonal_decompose\n",
    "from bokeh.plotting import Figure, show, output_notebook\n",
    "from IPython.display import Image\n",
    "from scipy import stats"
   ]
  },
  {
   "cell_type": "markdown",
   "metadata": {},
   "source": [
    "# MSP data for each crop at the Mandi"
   ]
  },
  {
   "cell_type": "code",
   "execution_count": 4,
   "metadata": {
    "ExecuteTime": {
     "end_time": "2019-03-11T16:17:25.304639Z",
     "start_time": "2019-03-11T16:17:25.279785Z"
    }
   },
   "outputs": [],
   "source": [
    "df = read_csv(r\"/Users/vibhu/Desktop/Untitled Folder/drive-download-20190303T055038Z-001/CMO_MSP_Mandi.csv\")"
   ]
  },
  {
   "cell_type": "code",
   "execution_count": 5,
   "metadata": {
    "ExecuteTime": {
     "end_time": "2019-03-11T16:17:25.330647Z",
     "start_time": "2019-03-11T16:17:25.306337Z"
    }
   },
   "outputs": [
    {
     "data": {
      "text/html": [
       "<div>\n",
       "<style scoped>\n",
       "    .dataframe tbody tr th:only-of-type {\n",
       "        vertical-align: middle;\n",
       "    }\n",
       "\n",
       "    .dataframe tbody tr th {\n",
       "        vertical-align: top;\n",
       "    }\n",
       "\n",
       "    .dataframe thead th {\n",
       "        text-align: right;\n",
       "    }\n",
       "</style>\n",
       "<table border=\"1\" class=\"dataframe\">\n",
       "  <thead>\n",
       "    <tr style=\"text-align: right;\">\n",
       "      <th></th>\n",
       "      <th>commodity</th>\n",
       "      <th>year</th>\n",
       "      <th>Type</th>\n",
       "      <th>msprice</th>\n",
       "      <th>msp_filter</th>\n",
       "    </tr>\n",
       "  </thead>\n",
       "  <tbody>\n",
       "    <tr>\n",
       "      <th>0</th>\n",
       "      <td>PADDY-UNHUSKED</td>\n",
       "      <td>2012</td>\n",
       "      <td>Kharif Crops</td>\n",
       "      <td>1250.0</td>\n",
       "      <td>1</td>\n",
       "    </tr>\n",
       "    <tr>\n",
       "      <th>1</th>\n",
       "      <td>RICE(PADDY-HUS)</td>\n",
       "      <td>2012</td>\n",
       "      <td>Kharif Crops</td>\n",
       "      <td>1280.0</td>\n",
       "      <td>1</td>\n",
       "    </tr>\n",
       "    <tr>\n",
       "      <th>2</th>\n",
       "      <td>Jowar_Hybrid</td>\n",
       "      <td>2012</td>\n",
       "      <td>Kharif Crops</td>\n",
       "      <td>1500.0</td>\n",
       "      <td>1</td>\n",
       "    </tr>\n",
       "    <tr>\n",
       "      <th>3</th>\n",
       "      <td>SORGUM(JAWAR)</td>\n",
       "      <td>2012</td>\n",
       "      <td>Kharif Crops</td>\n",
       "      <td>1520.0</td>\n",
       "      <td>1</td>\n",
       "    </tr>\n",
       "    <tr>\n",
       "      <th>4</th>\n",
       "      <td>BAJRI</td>\n",
       "      <td>2012</td>\n",
       "      <td>Kharif Crops</td>\n",
       "      <td>1175.0</td>\n",
       "      <td>1</td>\n",
       "    </tr>\n",
       "  </tbody>\n",
       "</table>\n",
       "</div>"
      ],
      "text/plain": [
       "         commodity  year          Type  msprice  msp_filter\n",
       "0   PADDY-UNHUSKED  2012  Kharif Crops   1250.0           1\n",
       "1  RICE(PADDY-HUS)  2012  Kharif Crops   1280.0           1\n",
       "2     Jowar_Hybrid  2012  Kharif Crops   1500.0           1\n",
       "3    SORGUM(JAWAR)  2012  Kharif Crops   1520.0           1\n",
       "4            BAJRI  2012  Kharif Crops   1175.0           1"
      ]
     },
     "execution_count": 5,
     "metadata": {},
     "output_type": "execute_result"
    }
   ],
   "source": [
    "df.head()"
   ]
  },
  {
   "cell_type": "code",
   "execution_count": 6,
   "metadata": {
    "ExecuteTime": {
     "end_time": "2019-03-11T16:17:25.345696Z",
     "start_time": "2019-03-11T16:17:25.333556Z"
    }
   },
   "outputs": [
    {
     "name": "stdout",
     "output_type": "stream",
     "text": [
      "<class 'pandas.core.frame.DataFrame'>\n",
      "RangeIndex: 155 entries, 0 to 154\n",
      "Data columns (total 5 columns):\n",
      "commodity     155 non-null object\n",
      "year          155 non-null int64\n",
      "Type          155 non-null object\n",
      "msprice       145 non-null float64\n",
      "msp_filter    155 non-null int64\n",
      "dtypes: float64(1), int64(2), object(2)\n",
      "memory usage: 6.1+ KB\n"
     ]
    }
   ],
   "source": [
    "df.info()"
   ]
  },
  {
   "cell_type": "markdown",
   "metadata": {},
   "source": [
    "*msp_filter* has 145 not null values, which implies that there's data missing for 10 rows. They are as follows:"
   ]
  },
  {
   "cell_type": "code",
   "execution_count": 7,
   "metadata": {
    "ExecuteTime": {
     "end_time": "2019-03-11T16:17:25.362356Z",
     "start_time": "2019-03-11T16:17:25.348128Z"
    },
    "scrolled": true
   },
   "outputs": [
    {
     "data": {
      "text/html": [
       "<div>\n",
       "<style scoped>\n",
       "    .dataframe tbody tr th:only-of-type {\n",
       "        vertical-align: middle;\n",
       "    }\n",
       "\n",
       "    .dataframe tbody tr th {\n",
       "        vertical-align: top;\n",
       "    }\n",
       "\n",
       "    .dataframe thead th {\n",
       "        text-align: right;\n",
       "    }\n",
       "</style>\n",
       "<table border=\"1\" class=\"dataframe\">\n",
       "  <thead>\n",
       "    <tr style=\"text-align: right;\">\n",
       "      <th></th>\n",
       "      <th>commodity</th>\n",
       "      <th>year</th>\n",
       "      <th>Type</th>\n",
       "      <th>msprice</th>\n",
       "      <th>msp_filter</th>\n",
       "    </tr>\n",
       "  </thead>\n",
       "  <tbody>\n",
       "    <tr>\n",
       "      <th>107</th>\n",
       "      <td>Soyabean_Black</td>\n",
       "      <td>2015</td>\n",
       "      <td>Kharif Crops</td>\n",
       "      <td>NaN</td>\n",
       "      <td>1</td>\n",
       "    </tr>\n",
       "    <tr>\n",
       "      <th>138</th>\n",
       "      <td>Soyabean_Black</td>\n",
       "      <td>2016</td>\n",
       "      <td>Kharif Crops</td>\n",
       "      <td>NaN</td>\n",
       "      <td>1</td>\n",
       "    </tr>\n",
       "    <tr>\n",
       "      <th>142</th>\n",
       "      <td>WHEAT(HUSKED)</td>\n",
       "      <td>2016</td>\n",
       "      <td>Rabi Crops</td>\n",
       "      <td>NaN</td>\n",
       "      <td>1</td>\n",
       "    </tr>\n",
       "    <tr>\n",
       "      <th>143</th>\n",
       "      <td>WHEAT(UNHUSKED)</td>\n",
       "      <td>2016</td>\n",
       "      <td>Rabi Crops</td>\n",
       "      <td>NaN</td>\n",
       "      <td>1</td>\n",
       "    </tr>\n",
       "    <tr>\n",
       "      <th>144</th>\n",
       "      <td>BARLI</td>\n",
       "      <td>2016</td>\n",
       "      <td>Rabi Crops</td>\n",
       "      <td>NaN</td>\n",
       "      <td>1</td>\n",
       "    </tr>\n",
       "    <tr>\n",
       "      <th>145</th>\n",
       "      <td>Gram_Yellow</td>\n",
       "      <td>2016</td>\n",
       "      <td>Rabi Crops</td>\n",
       "      <td>NaN</td>\n",
       "      <td>1</td>\n",
       "    </tr>\n",
       "    <tr>\n",
       "      <th>146</th>\n",
       "      <td>Masur_Yellow</td>\n",
       "      <td>2016</td>\n",
       "      <td>Rabi Crops</td>\n",
       "      <td>NaN</td>\n",
       "      <td>1</td>\n",
       "    </tr>\n",
       "    <tr>\n",
       "      <th>147</th>\n",
       "      <td>MUSTARD</td>\n",
       "      <td>2016</td>\n",
       "      <td>Rabi Crops</td>\n",
       "      <td>NaN</td>\n",
       "      <td>1</td>\n",
       "    </tr>\n",
       "    <tr>\n",
       "      <th>148</th>\n",
       "      <td>SAFFLOWER</td>\n",
       "      <td>2016</td>\n",
       "      <td>Rabi Crops</td>\n",
       "      <td>NaN</td>\n",
       "      <td>1</td>\n",
       "    </tr>\n",
       "    <tr>\n",
       "      <th>149</th>\n",
       "      <td>Toria_Yellow</td>\n",
       "      <td>2016</td>\n",
       "      <td>Rabi Crops</td>\n",
       "      <td>NaN</td>\n",
       "      <td>1</td>\n",
       "    </tr>\n",
       "  </tbody>\n",
       "</table>\n",
       "</div>"
      ],
      "text/plain": [
       "           commodity  year          Type  msprice  msp_filter\n",
       "107   Soyabean_Black  2015  Kharif Crops      NaN           1\n",
       "138   Soyabean_Black  2016  Kharif Crops      NaN           1\n",
       "142    WHEAT(HUSKED)  2016    Rabi Crops      NaN           1\n",
       "143  WHEAT(UNHUSKED)  2016    Rabi Crops      NaN           1\n",
       "144            BARLI  2016    Rabi Crops      NaN           1\n",
       "145      Gram_Yellow  2016    Rabi Crops      NaN           1\n",
       "146     Masur_Yellow  2016    Rabi Crops      NaN           1\n",
       "147          MUSTARD  2016    Rabi Crops      NaN           1\n",
       "148        SAFFLOWER  2016    Rabi Crops      NaN           1\n",
       "149     Toria_Yellow  2016    Rabi Crops      NaN           1"
      ]
     },
     "execution_count": 7,
     "metadata": {},
     "output_type": "execute_result"
    }
   ],
   "source": [
    "df[df.isnull().any(axis=1)]"
   ]
  },
  {
   "cell_type": "markdown",
   "metadata": {},
   "source": [
    "* Soyabean_Black lacks data for two years.\n",
    "* The rest lack data for the year 2016 only.\n",
    "\n",
    "I will just fill up these blank spaces with the value of the previous year. Later we'll see that this proves to be a good approximation."
   ]
  },
  {
   "cell_type": "code",
   "execution_count": 8,
   "metadata": {
    "ExecuteTime": {
     "end_time": "2019-03-11T16:17:25.369307Z",
     "start_time": "2019-03-11T16:17:25.364369Z"
    }
   },
   "outputs": [],
   "source": [
    "df = df.fillna(method=\"ffill\", limit=2)"
   ]
  },
  {
   "cell_type": "code",
   "execution_count": 9,
   "metadata": {
    "ExecuteTime": {
     "end_time": "2019-03-11T16:17:25.383636Z",
     "start_time": "2019-03-11T16:17:25.371396Z"
    }
   },
   "outputs": [
    {
     "data": {
      "text/html": [
       "<div>\n",
       "<style scoped>\n",
       "    .dataframe tbody tr th:only-of-type {\n",
       "        vertical-align: middle;\n",
       "    }\n",
       "\n",
       "    .dataframe tbody tr th {\n",
       "        vertical-align: top;\n",
       "    }\n",
       "\n",
       "    .dataframe thead th {\n",
       "        text-align: right;\n",
       "    }\n",
       "</style>\n",
       "<table border=\"1\" class=\"dataframe\">\n",
       "  <thead>\n",
       "    <tr style=\"text-align: right;\">\n",
       "      <th></th>\n",
       "      <th>commodity</th>\n",
       "      <th>year</th>\n",
       "      <th>Type</th>\n",
       "      <th>msprice</th>\n",
       "      <th>msp_filter</th>\n",
       "    </tr>\n",
       "  </thead>\n",
       "  <tbody>\n",
       "    <tr>\n",
       "      <th>144</th>\n",
       "      <td>BARLI</td>\n",
       "      <td>2016</td>\n",
       "      <td>Rabi Crops</td>\n",
       "      <td>NaN</td>\n",
       "      <td>1</td>\n",
       "    </tr>\n",
       "    <tr>\n",
       "      <th>145</th>\n",
       "      <td>Gram_Yellow</td>\n",
       "      <td>2016</td>\n",
       "      <td>Rabi Crops</td>\n",
       "      <td>NaN</td>\n",
       "      <td>1</td>\n",
       "    </tr>\n",
       "    <tr>\n",
       "      <th>146</th>\n",
       "      <td>Masur_Yellow</td>\n",
       "      <td>2016</td>\n",
       "      <td>Rabi Crops</td>\n",
       "      <td>NaN</td>\n",
       "      <td>1</td>\n",
       "    </tr>\n",
       "    <tr>\n",
       "      <th>147</th>\n",
       "      <td>MUSTARD</td>\n",
       "      <td>2016</td>\n",
       "      <td>Rabi Crops</td>\n",
       "      <td>NaN</td>\n",
       "      <td>1</td>\n",
       "    </tr>\n",
       "    <tr>\n",
       "      <th>148</th>\n",
       "      <td>SAFFLOWER</td>\n",
       "      <td>2016</td>\n",
       "      <td>Rabi Crops</td>\n",
       "      <td>NaN</td>\n",
       "      <td>1</td>\n",
       "    </tr>\n",
       "    <tr>\n",
       "      <th>149</th>\n",
       "      <td>Toria_Yellow</td>\n",
       "      <td>2016</td>\n",
       "      <td>Rabi Crops</td>\n",
       "      <td>NaN</td>\n",
       "      <td>1</td>\n",
       "    </tr>\n",
       "  </tbody>\n",
       "</table>\n",
       "</div>"
      ],
      "text/plain": [
       "        commodity  year        Type  msprice  msp_filter\n",
       "144         BARLI  2016  Rabi Crops      NaN           1\n",
       "145   Gram_Yellow  2016  Rabi Crops      NaN           1\n",
       "146  Masur_Yellow  2016  Rabi Crops      NaN           1\n",
       "147       MUSTARD  2016  Rabi Crops      NaN           1\n",
       "148     SAFFLOWER  2016  Rabi Crops      NaN           1\n",
       "149  Toria_Yellow  2016  Rabi Crops      NaN           1"
      ]
     },
     "execution_count": 9,
     "metadata": {},
     "output_type": "execute_result"
    }
   ],
   "source": [
    "df[df.isnull().any(axis=1)]"
   ]
  },
  {
   "cell_type": "code",
   "execution_count": 10,
   "metadata": {
    "ExecuteTime": {
     "end_time": "2019-03-11T16:17:25.389512Z",
     "start_time": "2019-03-11T16:17:25.385716Z"
    }
   },
   "outputs": [],
   "source": [
    "df = df.fillna(method=\"ffill\", limit=1)\n"
   ]
  },
  {
   "cell_type": "code",
   "execution_count": 11,
   "metadata": {
    "ExecuteTime": {
     "end_time": "2019-03-11T16:17:25.404202Z",
     "start_time": "2019-03-11T16:17:25.391739Z"
    }
   },
   "outputs": [
    {
     "data": {
      "text/html": [
       "<div>\n",
       "<style scoped>\n",
       "    .dataframe tbody tr th:only-of-type {\n",
       "        vertical-align: middle;\n",
       "    }\n",
       "\n",
       "    .dataframe tbody tr th {\n",
       "        vertical-align: top;\n",
       "    }\n",
       "\n",
       "    .dataframe thead th {\n",
       "        text-align: right;\n",
       "    }\n",
       "</style>\n",
       "<table border=\"1\" class=\"dataframe\">\n",
       "  <thead>\n",
       "    <tr style=\"text-align: right;\">\n",
       "      <th></th>\n",
       "      <th>commodity</th>\n",
       "      <th>year</th>\n",
       "      <th>Type</th>\n",
       "      <th>msprice</th>\n",
       "      <th>msp_filter</th>\n",
       "    </tr>\n",
       "  </thead>\n",
       "  <tbody>\n",
       "    <tr>\n",
       "      <th>145</th>\n",
       "      <td>Gram_Yellow</td>\n",
       "      <td>2016</td>\n",
       "      <td>Rabi Crops</td>\n",
       "      <td>NaN</td>\n",
       "      <td>1</td>\n",
       "    </tr>\n",
       "    <tr>\n",
       "      <th>146</th>\n",
       "      <td>Masur_Yellow</td>\n",
       "      <td>2016</td>\n",
       "      <td>Rabi Crops</td>\n",
       "      <td>NaN</td>\n",
       "      <td>1</td>\n",
       "    </tr>\n",
       "    <tr>\n",
       "      <th>147</th>\n",
       "      <td>MUSTARD</td>\n",
       "      <td>2016</td>\n",
       "      <td>Rabi Crops</td>\n",
       "      <td>NaN</td>\n",
       "      <td>1</td>\n",
       "    </tr>\n",
       "    <tr>\n",
       "      <th>148</th>\n",
       "      <td>SAFFLOWER</td>\n",
       "      <td>2016</td>\n",
       "      <td>Rabi Crops</td>\n",
       "      <td>NaN</td>\n",
       "      <td>1</td>\n",
       "    </tr>\n",
       "    <tr>\n",
       "      <th>149</th>\n",
       "      <td>Toria_Yellow</td>\n",
       "      <td>2016</td>\n",
       "      <td>Rabi Crops</td>\n",
       "      <td>NaN</td>\n",
       "      <td>1</td>\n",
       "    </tr>\n",
       "  </tbody>\n",
       "</table>\n",
       "</div>"
      ],
      "text/plain": [
       "        commodity  year        Type  msprice  msp_filter\n",
       "145   Gram_Yellow  2016  Rabi Crops      NaN           1\n",
       "146  Masur_Yellow  2016  Rabi Crops      NaN           1\n",
       "147       MUSTARD  2016  Rabi Crops      NaN           1\n",
       "148     SAFFLOWER  2016  Rabi Crops      NaN           1\n",
       "149  Toria_Yellow  2016  Rabi Crops      NaN           1"
      ]
     },
     "execution_count": 11,
     "metadata": {},
     "output_type": "execute_result"
    }
   ],
   "source": [
    "df[df.isnull().any(axis=1)]"
   ]
  },
  {
   "cell_type": "code",
   "execution_count": 12,
   "metadata": {
    "ExecuteTime": {
     "end_time": "2019-03-11T16:17:25.409658Z",
     "start_time": "2019-03-11T16:17:25.405968Z"
    }
   },
   "outputs": [],
   "source": [
    "df = df.fillna(method=\"ffill\", limit=2)"
   ]
  },
  {
   "cell_type": "code",
   "execution_count": 13,
   "metadata": {
    "ExecuteTime": {
     "end_time": "2019-03-11T16:17:25.423190Z",
     "start_time": "2019-03-11T16:17:25.411799Z"
    }
   },
   "outputs": [
    {
     "data": {
      "text/html": [
       "<div>\n",
       "<style scoped>\n",
       "    .dataframe tbody tr th:only-of-type {\n",
       "        vertical-align: middle;\n",
       "    }\n",
       "\n",
       "    .dataframe tbody tr th {\n",
       "        vertical-align: top;\n",
       "    }\n",
       "\n",
       "    .dataframe thead th {\n",
       "        text-align: right;\n",
       "    }\n",
       "</style>\n",
       "<table border=\"1\" class=\"dataframe\">\n",
       "  <thead>\n",
       "    <tr style=\"text-align: right;\">\n",
       "      <th></th>\n",
       "      <th>commodity</th>\n",
       "      <th>year</th>\n",
       "      <th>Type</th>\n",
       "      <th>msprice</th>\n",
       "      <th>msp_filter</th>\n",
       "    </tr>\n",
       "  </thead>\n",
       "  <tbody>\n",
       "    <tr>\n",
       "      <th>147</th>\n",
       "      <td>MUSTARD</td>\n",
       "      <td>2016</td>\n",
       "      <td>Rabi Crops</td>\n",
       "      <td>NaN</td>\n",
       "      <td>1</td>\n",
       "    </tr>\n",
       "    <tr>\n",
       "      <th>148</th>\n",
       "      <td>SAFFLOWER</td>\n",
       "      <td>2016</td>\n",
       "      <td>Rabi Crops</td>\n",
       "      <td>NaN</td>\n",
       "      <td>1</td>\n",
       "    </tr>\n",
       "    <tr>\n",
       "      <th>149</th>\n",
       "      <td>Toria_Yellow</td>\n",
       "      <td>2016</td>\n",
       "      <td>Rabi Crops</td>\n",
       "      <td>NaN</td>\n",
       "      <td>1</td>\n",
       "    </tr>\n",
       "  </tbody>\n",
       "</table>\n",
       "</div>"
      ],
      "text/plain": [
       "        commodity  year        Type  msprice  msp_filter\n",
       "147       MUSTARD  2016  Rabi Crops      NaN           1\n",
       "148     SAFFLOWER  2016  Rabi Crops      NaN           1\n",
       "149  Toria_Yellow  2016  Rabi Crops      NaN           1"
      ]
     },
     "execution_count": 13,
     "metadata": {},
     "output_type": "execute_result"
    }
   ],
   "source": [
    "df[df.isnull().any(axis=1)]"
   ]
  },
  {
   "cell_type": "code",
   "execution_count": 14,
   "metadata": {
    "ExecuteTime": {
     "end_time": "2019-03-11T16:17:25.429114Z",
     "start_time": "2019-03-11T16:17:25.425206Z"
    }
   },
   "outputs": [],
   "source": [
    "df = df.fillna(method=\"ffill\", limit=2)"
   ]
  },
  {
   "cell_type": "code",
   "execution_count": 15,
   "metadata": {
    "ExecuteTime": {
     "end_time": "2019-03-11T16:17:25.441975Z",
     "start_time": "2019-03-11T16:17:25.431503Z"
    }
   },
   "outputs": [
    {
     "data": {
      "text/html": [
       "<div>\n",
       "<style scoped>\n",
       "    .dataframe tbody tr th:only-of-type {\n",
       "        vertical-align: middle;\n",
       "    }\n",
       "\n",
       "    .dataframe tbody tr th {\n",
       "        vertical-align: top;\n",
       "    }\n",
       "\n",
       "    .dataframe thead th {\n",
       "        text-align: right;\n",
       "    }\n",
       "</style>\n",
       "<table border=\"1\" class=\"dataframe\">\n",
       "  <thead>\n",
       "    <tr style=\"text-align: right;\">\n",
       "      <th></th>\n",
       "      <th>commodity</th>\n",
       "      <th>year</th>\n",
       "      <th>Type</th>\n",
       "      <th>msprice</th>\n",
       "      <th>msp_filter</th>\n",
       "    </tr>\n",
       "  </thead>\n",
       "  <tbody>\n",
       "    <tr>\n",
       "      <th>149</th>\n",
       "      <td>Toria_Yellow</td>\n",
       "      <td>2016</td>\n",
       "      <td>Rabi Crops</td>\n",
       "      <td>NaN</td>\n",
       "      <td>1</td>\n",
       "    </tr>\n",
       "  </tbody>\n",
       "</table>\n",
       "</div>"
      ],
      "text/plain": [
       "        commodity  year        Type  msprice  msp_filter\n",
       "149  Toria_Yellow  2016  Rabi Crops      NaN           1"
      ]
     },
     "execution_count": 15,
     "metadata": {},
     "output_type": "execute_result"
    }
   ],
   "source": [
    "df[df.isnull().any(axis=1)]"
   ]
  },
  {
   "cell_type": "code",
   "execution_count": 16,
   "metadata": {
    "ExecuteTime": {
     "end_time": "2019-03-11T16:17:25.448145Z",
     "start_time": "2019-03-11T16:17:25.444100Z"
    }
   },
   "outputs": [],
   "source": [
    "df = df.fillna(method=\"ffill\", limit=2)"
   ]
  },
  {
   "cell_type": "code",
   "execution_count": 17,
   "metadata": {
    "ExecuteTime": {
     "end_time": "2019-03-11T16:17:25.458315Z",
     "start_time": "2019-03-11T16:17:25.450034Z"
    }
   },
   "outputs": [
    {
     "data": {
      "text/html": [
       "<div>\n",
       "<style scoped>\n",
       "    .dataframe tbody tr th:only-of-type {\n",
       "        vertical-align: middle;\n",
       "    }\n",
       "\n",
       "    .dataframe tbody tr th {\n",
       "        vertical-align: top;\n",
       "    }\n",
       "\n",
       "    .dataframe thead th {\n",
       "        text-align: right;\n",
       "    }\n",
       "</style>\n",
       "<table border=\"1\" class=\"dataframe\">\n",
       "  <thead>\n",
       "    <tr style=\"text-align: right;\">\n",
       "      <th></th>\n",
       "      <th>commodity</th>\n",
       "      <th>year</th>\n",
       "      <th>Type</th>\n",
       "      <th>msprice</th>\n",
       "      <th>msp_filter</th>\n",
       "    </tr>\n",
       "  </thead>\n",
       "  <tbody>\n",
       "  </tbody>\n",
       "</table>\n",
       "</div>"
      ],
      "text/plain": [
       "Empty DataFrame\n",
       "Columns: [commodity, year, Type, msprice, msp_filter]\n",
       "Index: []"
      ]
     },
     "execution_count": 17,
     "metadata": {},
     "output_type": "execute_result"
    }
   ],
   "source": [
    "df[df.isnull().any(axis=1)]"
   ]
  },
  {
   "cell_type": "markdown",
   "metadata": {},
   "source": [
    "We have successfully filled all the missing values"
   ]
  },
  {
   "cell_type": "code",
   "execution_count": 18,
   "metadata": {
    "ExecuteTime": {
     "end_time": "2019-03-11T16:17:25.486936Z",
     "start_time": "2019-03-11T16:17:25.459848Z"
    },
    "scrolled": true
   },
   "outputs": [
    {
     "data": {
      "text/html": [
       "<div>\n",
       "<style scoped>\n",
       "    .dataframe tbody tr th:only-of-type {\n",
       "        vertical-align: middle;\n",
       "    }\n",
       "\n",
       "    .dataframe tbody tr th {\n",
       "        vertical-align: top;\n",
       "    }\n",
       "\n",
       "    .dataframe thead th {\n",
       "        text-align: right;\n",
       "    }\n",
       "</style>\n",
       "<table border=\"1\" class=\"dataframe\">\n",
       "  <thead>\n",
       "    <tr style=\"text-align: right;\">\n",
       "      <th></th>\n",
       "      <th>commodity</th>\n",
       "      <th>year</th>\n",
       "      <th>Type</th>\n",
       "      <th>msprice</th>\n",
       "      <th>msp_filter</th>\n",
       "    </tr>\n",
       "  </thead>\n",
       "  <tbody>\n",
       "    <tr>\n",
       "      <th>count</th>\n",
       "      <td>155</td>\n",
       "      <td>155.000000</td>\n",
       "      <td>155</td>\n",
       "      <td>155.000000</td>\n",
       "      <td>155.0</td>\n",
       "    </tr>\n",
       "    <tr>\n",
       "      <th>unique</th>\n",
       "      <td>32</td>\n",
       "      <td>NaN</td>\n",
       "      <td>3</td>\n",
       "      <td>NaN</td>\n",
       "      <td>NaN</td>\n",
       "    </tr>\n",
       "    <tr>\n",
       "      <th>top</th>\n",
       "      <td>PADDY-UNHUSKED</td>\n",
       "      <td>NaN</td>\n",
       "      <td>Kharif Crops</td>\n",
       "      <td>NaN</td>\n",
       "      <td>NaN</td>\n",
       "    </tr>\n",
       "    <tr>\n",
       "      <th>freq</th>\n",
       "      <td>5</td>\n",
       "      <td>NaN</td>\n",
       "      <td>90</td>\n",
       "      <td>NaN</td>\n",
       "      <td>NaN</td>\n",
       "    </tr>\n",
       "    <tr>\n",
       "      <th>mean</th>\n",
       "      <td>NaN</td>\n",
       "      <td>2014.000000</td>\n",
       "      <td>NaN</td>\n",
       "      <td>2881.967742</td>\n",
       "      <td>1.0</td>\n",
       "    </tr>\n",
       "    <tr>\n",
       "      <th>std</th>\n",
       "      <td>NaN</td>\n",
       "      <td>1.418798</td>\n",
       "      <td>NaN</td>\n",
       "      <td>1412.591279</td>\n",
       "      <td>0.0</td>\n",
       "    </tr>\n",
       "    <tr>\n",
       "      <th>min</th>\n",
       "      <td>NaN</td>\n",
       "      <td>2012.000000</td>\n",
       "      <td>NaN</td>\n",
       "      <td>170.000000</td>\n",
       "      <td>1.0</td>\n",
       "    </tr>\n",
       "    <tr>\n",
       "      <th>25%</th>\n",
       "      <td>NaN</td>\n",
       "      <td>2013.000000</td>\n",
       "      <td>NaN</td>\n",
       "      <td>1500.000000</td>\n",
       "      <td>1.0</td>\n",
       "    </tr>\n",
       "    <tr>\n",
       "      <th>50%</th>\n",
       "      <td>NaN</td>\n",
       "      <td>2014.000000</td>\n",
       "      <td>NaN</td>\n",
       "      <td>3020.000000</td>\n",
       "      <td>1.0</td>\n",
       "    </tr>\n",
       "    <tr>\n",
       "      <th>75%</th>\n",
       "      <td>NaN</td>\n",
       "      <td>2015.000000</td>\n",
       "      <td>NaN</td>\n",
       "      <td>3855.000000</td>\n",
       "      <td>1.0</td>\n",
       "    </tr>\n",
       "    <tr>\n",
       "      <th>max</th>\n",
       "      <td>NaN</td>\n",
       "      <td>2016.000000</td>\n",
       "      <td>NaN</td>\n",
       "      <td>6240.000000</td>\n",
       "      <td>1.0</td>\n",
       "    </tr>\n",
       "  </tbody>\n",
       "</table>\n",
       "</div>"
      ],
      "text/plain": [
       "             commodity         year          Type      msprice  msp_filter\n",
       "count              155   155.000000           155   155.000000       155.0\n",
       "unique              32          NaN             3          NaN         NaN\n",
       "top     PADDY-UNHUSKED          NaN  Kharif Crops          NaN         NaN\n",
       "freq                 5          NaN            90          NaN         NaN\n",
       "mean               NaN  2014.000000           NaN  2881.967742         1.0\n",
       "std                NaN     1.418798           NaN  1412.591279         0.0\n",
       "min                NaN  2012.000000           NaN   170.000000         1.0\n",
       "25%                NaN  2013.000000           NaN  1500.000000         1.0\n",
       "50%                NaN  2014.000000           NaN  3020.000000         1.0\n",
       "75%                NaN  2015.000000           NaN  3855.000000         1.0\n",
       "max                NaN  2016.000000           NaN  6240.000000         1.0"
      ]
     },
     "execution_count": 18,
     "metadata": {},
     "output_type": "execute_result"
    }
   ],
   "source": [
    "df.describe(include='all')"
   ]
  },
  {
   "cell_type": "markdown",
   "metadata": {},
   "source": [
    "* We have 32 unique commodities\n",
    "* We have data from year 2012 to 2016 => 5 yrs \n",
    "* We have three unique types of crops"
   ]
  },
  {
   "cell_type": "code",
   "execution_count": 19,
   "metadata": {
    "ExecuteTime": {
     "end_time": "2019-03-11T16:17:25.494815Z",
     "start_time": "2019-03-11T16:17:25.488922Z"
    }
   },
   "outputs": [
    {
     "data": {
      "text/plain": [
       "1    155\n",
       "Name: msp_filter, dtype: int64"
      ]
     },
     "execution_count": 19,
     "metadata": {},
     "output_type": "execute_result"
    }
   ],
   "source": [
    "df['msp_filter'].value_counts()"
   ]
  },
  {
   "cell_type": "markdown",
   "metadata": {},
   "source": [
    "the values for *msp_filter* in all the rows in the same. Thus, we can drop this column."
   ]
  },
  {
   "cell_type": "code",
   "execution_count": 20,
   "metadata": {
    "ExecuteTime": {
     "end_time": "2019-03-11T16:17:25.501140Z",
     "start_time": "2019-03-11T16:17:25.496968Z"
    }
   },
   "outputs": [],
   "source": [
    "df= df.drop(['msp_filter'], axis=1)"
   ]
  },
  {
   "cell_type": "code",
   "execution_count": 21,
   "metadata": {
    "ExecuteTime": {
     "end_time": "2019-03-11T16:17:25.520217Z",
     "start_time": "2019-03-11T16:17:25.503317Z"
    }
   },
   "outputs": [
    {
     "data": {
      "text/html": [
       "<div>\n",
       "<style scoped>\n",
       "    .dataframe tbody tr th:only-of-type {\n",
       "        vertical-align: middle;\n",
       "    }\n",
       "\n",
       "    .dataframe tbody tr th {\n",
       "        vertical-align: top;\n",
       "    }\n",
       "\n",
       "    .dataframe thead th {\n",
       "        text-align: right;\n",
       "    }\n",
       "</style>\n",
       "<table border=\"1\" class=\"dataframe\">\n",
       "  <thead>\n",
       "    <tr style=\"text-align: right;\">\n",
       "      <th>year</th>\n",
       "      <th>2012</th>\n",
       "      <th>2013</th>\n",
       "      <th>2014</th>\n",
       "      <th>2015</th>\n",
       "      <th>2016</th>\n",
       "    </tr>\n",
       "    <tr>\n",
       "      <th>commodity</th>\n",
       "      <th></th>\n",
       "      <th></th>\n",
       "      <th></th>\n",
       "      <th></th>\n",
       "      <th></th>\n",
       "    </tr>\n",
       "  </thead>\n",
       "  <tbody>\n",
       "    <tr>\n",
       "      <th>BAJRI</th>\n",
       "      <td>1</td>\n",
       "      <td>1</td>\n",
       "      <td>1</td>\n",
       "      <td>1</td>\n",
       "      <td>1</td>\n",
       "    </tr>\n",
       "    <tr>\n",
       "      <th>BARLI</th>\n",
       "      <td>1</td>\n",
       "      <td>1</td>\n",
       "      <td>1</td>\n",
       "      <td>1</td>\n",
       "      <td>1</td>\n",
       "    </tr>\n",
       "    <tr>\n",
       "      <th>COCONUT</th>\n",
       "      <td>1</td>\n",
       "      <td>1</td>\n",
       "      <td>1</td>\n",
       "      <td>1</td>\n",
       "      <td>1</td>\n",
       "    </tr>\n",
       "    <tr>\n",
       "      <th>COTTON</th>\n",
       "      <td>1</td>\n",
       "      <td>1</td>\n",
       "      <td>1</td>\n",
       "      <td>1</td>\n",
       "      <td>1</td>\n",
       "    </tr>\n",
       "    <tr>\n",
       "      <th>Copra (Ball)_Yellow</th>\n",
       "      <td>1</td>\n",
       "      <td>1</td>\n",
       "      <td>1</td>\n",
       "      <td>1</td>\n",
       "      <td>1</td>\n",
       "    </tr>\n",
       "    <tr>\n",
       "      <th>Copra (Milling)_Yellow</th>\n",
       "      <td>1</td>\n",
       "      <td>1</td>\n",
       "      <td>1</td>\n",
       "      <td>1</td>\n",
       "      <td>1</td>\n",
       "    </tr>\n",
       "    <tr>\n",
       "      <th>Cotton_Long Staple</th>\n",
       "      <td>1</td>\n",
       "      <td>1</td>\n",
       "      <td>1</td>\n",
       "      <td>1</td>\n",
       "      <td>1</td>\n",
       "    </tr>\n",
       "    <tr>\n",
       "      <th>GR.NUT KERNELS</th>\n",
       "      <td>1</td>\n",
       "      <td>1</td>\n",
       "      <td>1</td>\n",
       "      <td>1</td>\n",
       "      <td>1</td>\n",
       "    </tr>\n",
       "    <tr>\n",
       "      <th>Gram_Yellow</th>\n",
       "      <td>1</td>\n",
       "      <td>1</td>\n",
       "      <td>1</td>\n",
       "      <td>1</td>\n",
       "      <td>1</td>\n",
       "    </tr>\n",
       "    <tr>\n",
       "      <th>Jowar_Hybrid</th>\n",
       "      <td>1</td>\n",
       "      <td>1</td>\n",
       "      <td>1</td>\n",
       "      <td>1</td>\n",
       "      <td>1</td>\n",
       "    </tr>\n",
       "    <tr>\n",
       "      <th>Jute_Yellow</th>\n",
       "      <td>1</td>\n",
       "      <td>1</td>\n",
       "      <td>1</td>\n",
       "      <td>1</td>\n",
       "      <td>1</td>\n",
       "    </tr>\n",
       "    <tr>\n",
       "      <th>MAIZE</th>\n",
       "      <td>1</td>\n",
       "      <td>1</td>\n",
       "      <td>1</td>\n",
       "      <td>1</td>\n",
       "      <td>1</td>\n",
       "    </tr>\n",
       "    <tr>\n",
       "      <th>MUSTARD</th>\n",
       "      <td>1</td>\n",
       "      <td>1</td>\n",
       "      <td>1</td>\n",
       "      <td>1</td>\n",
       "      <td>1</td>\n",
       "    </tr>\n",
       "    <tr>\n",
       "      <th>Masur_Yellow</th>\n",
       "      <td>1</td>\n",
       "      <td>1</td>\n",
       "      <td>1</td>\n",
       "      <td>1</td>\n",
       "      <td>1</td>\n",
       "    </tr>\n",
       "    <tr>\n",
       "      <th>NIGER-SEED</th>\n",
       "      <td>1</td>\n",
       "      <td>1</td>\n",
       "      <td>1</td>\n",
       "      <td>1</td>\n",
       "      <td>1</td>\n",
       "    </tr>\n",
       "    <tr>\n",
       "      <th>PADDY-UNHUSKED</th>\n",
       "      <td>1</td>\n",
       "      <td>1</td>\n",
       "      <td>1</td>\n",
       "      <td>1</td>\n",
       "      <td>1</td>\n",
       "    </tr>\n",
       "    <tr>\n",
       "      <th>PIGEON PEA (TUR)</th>\n",
       "      <td>1</td>\n",
       "      <td>1</td>\n",
       "      <td>1</td>\n",
       "      <td>1</td>\n",
       "      <td>1</td>\n",
       "    </tr>\n",
       "    <tr>\n",
       "      <th>RICE(PADDY-HUS)</th>\n",
       "      <td>1</td>\n",
       "      <td>1</td>\n",
       "      <td>1</td>\n",
       "      <td>1</td>\n",
       "      <td>1</td>\n",
       "    </tr>\n",
       "    <tr>\n",
       "      <th>Ragi_Maldandi</th>\n",
       "      <td>1</td>\n",
       "      <td>1</td>\n",
       "      <td>1</td>\n",
       "      <td>1</td>\n",
       "      <td>1</td>\n",
       "    </tr>\n",
       "    <tr>\n",
       "      <th>SAFFLOWER</th>\n",
       "      <td>1</td>\n",
       "      <td>1</td>\n",
       "      <td>1</td>\n",
       "      <td>1</td>\n",
       "      <td>1</td>\n",
       "    </tr>\n",
       "    <tr>\n",
       "      <th>SESAMUM</th>\n",
       "      <td>1</td>\n",
       "      <td>1</td>\n",
       "      <td>1</td>\n",
       "      <td>1</td>\n",
       "      <td>1</td>\n",
       "    </tr>\n",
       "    <tr>\n",
       "      <th>SORGUM(JAWAR)</th>\n",
       "      <td>1</td>\n",
       "      <td>1</td>\n",
       "      <td>1</td>\n",
       "      <td>1</td>\n",
       "      <td>1</td>\n",
       "    </tr>\n",
       "    <tr>\n",
       "      <th>SOYABEAN</th>\n",
       "      <td>1</td>\n",
       "      <td>1</td>\n",
       "      <td>1</td>\n",
       "      <td>1</td>\n",
       "      <td>1</td>\n",
       "    </tr>\n",
       "    <tr>\n",
       "      <th>SPILT GERRN GRAM</th>\n",
       "      <td>1</td>\n",
       "      <td>1</td>\n",
       "      <td>1</td>\n",
       "      <td>1</td>\n",
       "      <td>1</td>\n",
       "    </tr>\n",
       "    <tr>\n",
       "      <th>SPLIT BLACK GRAM</th>\n",
       "      <td>1</td>\n",
       "      <td>1</td>\n",
       "      <td>1</td>\n",
       "      <td>1</td>\n",
       "      <td>1</td>\n",
       "    </tr>\n",
       "    <tr>\n",
       "      <th>SUGAR-CANE</th>\n",
       "      <td>1</td>\n",
       "      <td>1</td>\n",
       "      <td>1</td>\n",
       "      <td>1</td>\n",
       "      <td>0</td>\n",
       "    </tr>\n",
       "    <tr>\n",
       "      <th>SUGARCANE</th>\n",
       "      <td>0</td>\n",
       "      <td>0</td>\n",
       "      <td>0</td>\n",
       "      <td>0</td>\n",
       "      <td>1</td>\n",
       "    </tr>\n",
       "    <tr>\n",
       "      <th>SUNFLOWER</th>\n",
       "      <td>1</td>\n",
       "      <td>1</td>\n",
       "      <td>1</td>\n",
       "      <td>1</td>\n",
       "      <td>1</td>\n",
       "    </tr>\n",
       "    <tr>\n",
       "      <th>Soyabean_Black</th>\n",
       "      <td>1</td>\n",
       "      <td>1</td>\n",
       "      <td>1</td>\n",
       "      <td>1</td>\n",
       "      <td>1</td>\n",
       "    </tr>\n",
       "    <tr>\n",
       "      <th>Toria_Yellow</th>\n",
       "      <td>1</td>\n",
       "      <td>1</td>\n",
       "      <td>1</td>\n",
       "      <td>1</td>\n",
       "      <td>1</td>\n",
       "    </tr>\n",
       "    <tr>\n",
       "      <th>WHEAT(HUSKED)</th>\n",
       "      <td>1</td>\n",
       "      <td>1</td>\n",
       "      <td>1</td>\n",
       "      <td>1</td>\n",
       "      <td>1</td>\n",
       "    </tr>\n",
       "    <tr>\n",
       "      <th>WHEAT(UNHUSKED)</th>\n",
       "      <td>1</td>\n",
       "      <td>1</td>\n",
       "      <td>1</td>\n",
       "      <td>1</td>\n",
       "      <td>1</td>\n",
       "    </tr>\n",
       "  </tbody>\n",
       "</table>\n",
       "</div>"
      ],
      "text/plain": [
       "year                    2012  2013  2014  2015  2016\n",
       "commodity                                           \n",
       "BAJRI                      1     1     1     1     1\n",
       "BARLI                      1     1     1     1     1\n",
       "COCONUT                    1     1     1     1     1\n",
       "COTTON                     1     1     1     1     1\n",
       "Copra (Ball)_Yellow        1     1     1     1     1\n",
       "Copra (Milling)_Yellow     1     1     1     1     1\n",
       "Cotton_Long Staple         1     1     1     1     1\n",
       "GR.NUT KERNELS             1     1     1     1     1\n",
       "Gram_Yellow                1     1     1     1     1\n",
       "Jowar_Hybrid               1     1     1     1     1\n",
       "Jute_Yellow                1     1     1     1     1\n",
       "MAIZE                      1     1     1     1     1\n",
       "MUSTARD                    1     1     1     1     1\n",
       "Masur_Yellow               1     1     1     1     1\n",
       "NIGER-SEED                 1     1     1     1     1\n",
       "PADDY-UNHUSKED             1     1     1     1     1\n",
       "PIGEON PEA (TUR)           1     1     1     1     1\n",
       "RICE(PADDY-HUS)            1     1     1     1     1\n",
       "Ragi_Maldandi              1     1     1     1     1\n",
       "SAFFLOWER                  1     1     1     1     1\n",
       "SESAMUM                    1     1     1     1     1\n",
       "SORGUM(JAWAR)              1     1     1     1     1\n",
       "SOYABEAN                   1     1     1     1     1\n",
       "SPILT GERRN GRAM           1     1     1     1     1\n",
       "SPLIT BLACK GRAM           1     1     1     1     1\n",
       "SUGAR-CANE                 1     1     1     1     0\n",
       "SUGARCANE                  0     0     0     0     1\n",
       "SUNFLOWER                  1     1     1     1     1\n",
       "Soyabean_Black             1     1     1     1     1\n",
       "Toria_Yellow               1     1     1     1     1\n",
       "WHEAT(HUSKED)              1     1     1     1     1\n",
       "WHEAT(UNHUSKED)            1     1     1     1     1"
      ]
     },
     "execution_count": 21,
     "metadata": {},
     "output_type": "execute_result"
    }
   ],
   "source": [
    "df.groupby(df['year'])['commodity'].value_counts().unstack(level=0, fill_value=0)"
   ]
  },
  {
   "cell_type": "markdown",
   "metadata": {},
   "source": [
    "Here \"1\" signifies that there's one datapoint at the corresponding attributes. We see some discrepancy in the SUGARCANE and the SUGAR-CANE rows"
   ]
  },
  {
   "cell_type": "code",
   "execution_count": 22,
   "metadata": {
    "ExecuteTime": {
     "end_time": "2019-03-11T16:17:25.530056Z",
     "start_time": "2019-03-11T16:17:25.521961Z"
    }
   },
   "outputs": [
    {
     "data": {
      "text/html": [
       "<div>\n",
       "<style scoped>\n",
       "    .dataframe tbody tr th:only-of-type {\n",
       "        vertical-align: middle;\n",
       "    }\n",
       "\n",
       "    .dataframe tbody tr th {\n",
       "        vertical-align: top;\n",
       "    }\n",
       "\n",
       "    .dataframe thead th {\n",
       "        text-align: right;\n",
       "    }\n",
       "</style>\n",
       "<table border=\"1\" class=\"dataframe\">\n",
       "  <thead>\n",
       "    <tr style=\"text-align: right;\">\n",
       "      <th></th>\n",
       "      <th>commodity</th>\n",
       "      <th>year</th>\n",
       "      <th>Type</th>\n",
       "      <th>msprice</th>\n",
       "    </tr>\n",
       "  </thead>\n",
       "  <tbody>\n",
       "    <tr>\n",
       "      <th>30</th>\n",
       "      <td>SUGAR-CANE</td>\n",
       "      <td>2012</td>\n",
       "      <td>Other Crops</td>\n",
       "      <td>170.0</td>\n",
       "    </tr>\n",
       "    <tr>\n",
       "      <th>61</th>\n",
       "      <td>SUGAR-CANE</td>\n",
       "      <td>2013</td>\n",
       "      <td>Other Crops</td>\n",
       "      <td>210.0</td>\n",
       "    </tr>\n",
       "    <tr>\n",
       "      <th>92</th>\n",
       "      <td>SUGAR-CANE</td>\n",
       "      <td>2014</td>\n",
       "      <td>Other Crops</td>\n",
       "      <td>220.0</td>\n",
       "    </tr>\n",
       "    <tr>\n",
       "      <th>123</th>\n",
       "      <td>SUGAR-CANE</td>\n",
       "      <td>2015</td>\n",
       "      <td>Other Crops</td>\n",
       "      <td>230.0</td>\n",
       "    </tr>\n",
       "    <tr>\n",
       "      <th>154</th>\n",
       "      <td>SUGARCANE</td>\n",
       "      <td>2016</td>\n",
       "      <td>Other Crops</td>\n",
       "      <td>230.0</td>\n",
       "    </tr>\n",
       "  </tbody>\n",
       "</table>\n",
       "</div>"
      ],
      "text/plain": [
       "      commodity  year         Type  msprice\n",
       "30   SUGAR-CANE  2012  Other Crops    170.0\n",
       "61   SUGAR-CANE  2013  Other Crops    210.0\n",
       "92   SUGAR-CANE  2014  Other Crops    220.0\n",
       "123  SUGAR-CANE  2015  Other Crops    230.0\n",
       "154   SUGARCANE  2016  Other Crops    230.0"
      ]
     },
     "execution_count": 22,
     "metadata": {},
     "output_type": "execute_result"
    }
   ],
   "source": [
    "df[df['commodity'].isin(['SUGAR-CANE','SUGARCANE'])]"
   ]
  },
  {
   "cell_type": "markdown",
   "metadata": {},
   "source": [
    "Hence it's clear that there has been a typo. We will simply replace *SUGARCANE* with *SUGAR-CANE*"
   ]
  },
  {
   "cell_type": "code",
   "execution_count": 23,
   "metadata": {
    "ExecuteTime": {
     "end_time": "2019-03-11T16:17:25.536289Z",
     "start_time": "2019-03-11T16:17:25.531801Z"
    },
    "scrolled": true
   },
   "outputs": [],
   "source": [
    "df = df.replace(['SUGARCANE'], ['SUGAR-CANE'])"
   ]
  },
  {
   "cell_type": "code",
   "execution_count": 24,
   "metadata": {
    "ExecuteTime": {
     "end_time": "2019-03-11T16:17:25.551209Z",
     "start_time": "2019-03-11T16:17:25.538183Z"
    },
    "scrolled": false
   },
   "outputs": [
    {
     "data": {
      "text/html": [
       "<div>\n",
       "<style scoped>\n",
       "    .dataframe tbody tr th:only-of-type {\n",
       "        vertical-align: middle;\n",
       "    }\n",
       "\n",
       "    .dataframe tbody tr th {\n",
       "        vertical-align: top;\n",
       "    }\n",
       "\n",
       "    .dataframe thead th {\n",
       "        text-align: right;\n",
       "    }\n",
       "</style>\n",
       "<table border=\"1\" class=\"dataframe\">\n",
       "  <thead>\n",
       "    <tr style=\"text-align: right;\">\n",
       "      <th>year</th>\n",
       "      <th>2012</th>\n",
       "      <th>2013</th>\n",
       "      <th>2014</th>\n",
       "      <th>2015</th>\n",
       "      <th>2016</th>\n",
       "    </tr>\n",
       "    <tr>\n",
       "      <th>commodity</th>\n",
       "      <th></th>\n",
       "      <th></th>\n",
       "      <th></th>\n",
       "      <th></th>\n",
       "      <th></th>\n",
       "    </tr>\n",
       "  </thead>\n",
       "  <tbody>\n",
       "    <tr>\n",
       "      <th>BAJRI</th>\n",
       "      <td>1</td>\n",
       "      <td>1</td>\n",
       "      <td>1</td>\n",
       "      <td>1</td>\n",
       "      <td>1</td>\n",
       "    </tr>\n",
       "    <tr>\n",
       "      <th>BARLI</th>\n",
       "      <td>1</td>\n",
       "      <td>1</td>\n",
       "      <td>1</td>\n",
       "      <td>1</td>\n",
       "      <td>1</td>\n",
       "    </tr>\n",
       "    <tr>\n",
       "      <th>COCONUT</th>\n",
       "      <td>1</td>\n",
       "      <td>1</td>\n",
       "      <td>1</td>\n",
       "      <td>1</td>\n",
       "      <td>1</td>\n",
       "    </tr>\n",
       "    <tr>\n",
       "      <th>COTTON</th>\n",
       "      <td>1</td>\n",
       "      <td>1</td>\n",
       "      <td>1</td>\n",
       "      <td>1</td>\n",
       "      <td>1</td>\n",
       "    </tr>\n",
       "    <tr>\n",
       "      <th>Copra (Ball)_Yellow</th>\n",
       "      <td>1</td>\n",
       "      <td>1</td>\n",
       "      <td>1</td>\n",
       "      <td>1</td>\n",
       "      <td>1</td>\n",
       "    </tr>\n",
       "    <tr>\n",
       "      <th>Copra (Milling)_Yellow</th>\n",
       "      <td>1</td>\n",
       "      <td>1</td>\n",
       "      <td>1</td>\n",
       "      <td>1</td>\n",
       "      <td>1</td>\n",
       "    </tr>\n",
       "    <tr>\n",
       "      <th>Cotton_Long Staple</th>\n",
       "      <td>1</td>\n",
       "      <td>1</td>\n",
       "      <td>1</td>\n",
       "      <td>1</td>\n",
       "      <td>1</td>\n",
       "    </tr>\n",
       "    <tr>\n",
       "      <th>GR.NUT KERNELS</th>\n",
       "      <td>1</td>\n",
       "      <td>1</td>\n",
       "      <td>1</td>\n",
       "      <td>1</td>\n",
       "      <td>1</td>\n",
       "    </tr>\n",
       "    <tr>\n",
       "      <th>Gram_Yellow</th>\n",
       "      <td>1</td>\n",
       "      <td>1</td>\n",
       "      <td>1</td>\n",
       "      <td>1</td>\n",
       "      <td>1</td>\n",
       "    </tr>\n",
       "    <tr>\n",
       "      <th>Jowar_Hybrid</th>\n",
       "      <td>1</td>\n",
       "      <td>1</td>\n",
       "      <td>1</td>\n",
       "      <td>1</td>\n",
       "      <td>1</td>\n",
       "    </tr>\n",
       "    <tr>\n",
       "      <th>Jute_Yellow</th>\n",
       "      <td>1</td>\n",
       "      <td>1</td>\n",
       "      <td>1</td>\n",
       "      <td>1</td>\n",
       "      <td>1</td>\n",
       "    </tr>\n",
       "    <tr>\n",
       "      <th>MAIZE</th>\n",
       "      <td>1</td>\n",
       "      <td>1</td>\n",
       "      <td>1</td>\n",
       "      <td>1</td>\n",
       "      <td>1</td>\n",
       "    </tr>\n",
       "    <tr>\n",
       "      <th>MUSTARD</th>\n",
       "      <td>1</td>\n",
       "      <td>1</td>\n",
       "      <td>1</td>\n",
       "      <td>1</td>\n",
       "      <td>1</td>\n",
       "    </tr>\n",
       "    <tr>\n",
       "      <th>Masur_Yellow</th>\n",
       "      <td>1</td>\n",
       "      <td>1</td>\n",
       "      <td>1</td>\n",
       "      <td>1</td>\n",
       "      <td>1</td>\n",
       "    </tr>\n",
       "    <tr>\n",
       "      <th>NIGER-SEED</th>\n",
       "      <td>1</td>\n",
       "      <td>1</td>\n",
       "      <td>1</td>\n",
       "      <td>1</td>\n",
       "      <td>1</td>\n",
       "    </tr>\n",
       "    <tr>\n",
       "      <th>PADDY-UNHUSKED</th>\n",
       "      <td>1</td>\n",
       "      <td>1</td>\n",
       "      <td>1</td>\n",
       "      <td>1</td>\n",
       "      <td>1</td>\n",
       "    </tr>\n",
       "    <tr>\n",
       "      <th>PIGEON PEA (TUR)</th>\n",
       "      <td>1</td>\n",
       "      <td>1</td>\n",
       "      <td>1</td>\n",
       "      <td>1</td>\n",
       "      <td>1</td>\n",
       "    </tr>\n",
       "    <tr>\n",
       "      <th>RICE(PADDY-HUS)</th>\n",
       "      <td>1</td>\n",
       "      <td>1</td>\n",
       "      <td>1</td>\n",
       "      <td>1</td>\n",
       "      <td>1</td>\n",
       "    </tr>\n",
       "    <tr>\n",
       "      <th>Ragi_Maldandi</th>\n",
       "      <td>1</td>\n",
       "      <td>1</td>\n",
       "      <td>1</td>\n",
       "      <td>1</td>\n",
       "      <td>1</td>\n",
       "    </tr>\n",
       "    <tr>\n",
       "      <th>SAFFLOWER</th>\n",
       "      <td>1</td>\n",
       "      <td>1</td>\n",
       "      <td>1</td>\n",
       "      <td>1</td>\n",
       "      <td>1</td>\n",
       "    </tr>\n",
       "    <tr>\n",
       "      <th>SESAMUM</th>\n",
       "      <td>1</td>\n",
       "      <td>1</td>\n",
       "      <td>1</td>\n",
       "      <td>1</td>\n",
       "      <td>1</td>\n",
       "    </tr>\n",
       "    <tr>\n",
       "      <th>SORGUM(JAWAR)</th>\n",
       "      <td>1</td>\n",
       "      <td>1</td>\n",
       "      <td>1</td>\n",
       "      <td>1</td>\n",
       "      <td>1</td>\n",
       "    </tr>\n",
       "    <tr>\n",
       "      <th>SOYABEAN</th>\n",
       "      <td>1</td>\n",
       "      <td>1</td>\n",
       "      <td>1</td>\n",
       "      <td>1</td>\n",
       "      <td>1</td>\n",
       "    </tr>\n",
       "    <tr>\n",
       "      <th>SPILT GERRN GRAM</th>\n",
       "      <td>1</td>\n",
       "      <td>1</td>\n",
       "      <td>1</td>\n",
       "      <td>1</td>\n",
       "      <td>1</td>\n",
       "    </tr>\n",
       "    <tr>\n",
       "      <th>SPLIT BLACK GRAM</th>\n",
       "      <td>1</td>\n",
       "      <td>1</td>\n",
       "      <td>1</td>\n",
       "      <td>1</td>\n",
       "      <td>1</td>\n",
       "    </tr>\n",
       "    <tr>\n",
       "      <th>SUGAR-CANE</th>\n",
       "      <td>1</td>\n",
       "      <td>1</td>\n",
       "      <td>1</td>\n",
       "      <td>1</td>\n",
       "      <td>1</td>\n",
       "    </tr>\n",
       "    <tr>\n",
       "      <th>SUNFLOWER</th>\n",
       "      <td>1</td>\n",
       "      <td>1</td>\n",
       "      <td>1</td>\n",
       "      <td>1</td>\n",
       "      <td>1</td>\n",
       "    </tr>\n",
       "    <tr>\n",
       "      <th>Soyabean_Black</th>\n",
       "      <td>1</td>\n",
       "      <td>1</td>\n",
       "      <td>1</td>\n",
       "      <td>1</td>\n",
       "      <td>1</td>\n",
       "    </tr>\n",
       "    <tr>\n",
       "      <th>Toria_Yellow</th>\n",
       "      <td>1</td>\n",
       "      <td>1</td>\n",
       "      <td>1</td>\n",
       "      <td>1</td>\n",
       "      <td>1</td>\n",
       "    </tr>\n",
       "    <tr>\n",
       "      <th>WHEAT(HUSKED)</th>\n",
       "      <td>1</td>\n",
       "      <td>1</td>\n",
       "      <td>1</td>\n",
       "      <td>1</td>\n",
       "      <td>1</td>\n",
       "    </tr>\n",
       "    <tr>\n",
       "      <th>WHEAT(UNHUSKED)</th>\n",
       "      <td>1</td>\n",
       "      <td>1</td>\n",
       "      <td>1</td>\n",
       "      <td>1</td>\n",
       "      <td>1</td>\n",
       "    </tr>\n",
       "  </tbody>\n",
       "</table>\n",
       "</div>"
      ],
      "text/plain": [
       "year                    2012  2013  2014  2015  2016\n",
       "commodity                                           \n",
       "BAJRI                      1     1     1     1     1\n",
       "BARLI                      1     1     1     1     1\n",
       "COCONUT                    1     1     1     1     1\n",
       "COTTON                     1     1     1     1     1\n",
       "Copra (Ball)_Yellow        1     1     1     1     1\n",
       "Copra (Milling)_Yellow     1     1     1     1     1\n",
       "Cotton_Long Staple         1     1     1     1     1\n",
       "GR.NUT KERNELS             1     1     1     1     1\n",
       "Gram_Yellow                1     1     1     1     1\n",
       "Jowar_Hybrid               1     1     1     1     1\n",
       "Jute_Yellow                1     1     1     1     1\n",
       "MAIZE                      1     1     1     1     1\n",
       "MUSTARD                    1     1     1     1     1\n",
       "Masur_Yellow               1     1     1     1     1\n",
       "NIGER-SEED                 1     1     1     1     1\n",
       "PADDY-UNHUSKED             1     1     1     1     1\n",
       "PIGEON PEA (TUR)           1     1     1     1     1\n",
       "RICE(PADDY-HUS)            1     1     1     1     1\n",
       "Ragi_Maldandi              1     1     1     1     1\n",
       "SAFFLOWER                  1     1     1     1     1\n",
       "SESAMUM                    1     1     1     1     1\n",
       "SORGUM(JAWAR)              1     1     1     1     1\n",
       "SOYABEAN                   1     1     1     1     1\n",
       "SPILT GERRN GRAM           1     1     1     1     1\n",
       "SPLIT BLACK GRAM           1     1     1     1     1\n",
       "SUGAR-CANE                 1     1     1     1     1\n",
       "SUNFLOWER                  1     1     1     1     1\n",
       "Soyabean_Black             1     1     1     1     1\n",
       "Toria_Yellow               1     1     1     1     1\n",
       "WHEAT(HUSKED)              1     1     1     1     1\n",
       "WHEAT(UNHUSKED)            1     1     1     1     1"
      ]
     },
     "execution_count": 24,
     "metadata": {},
     "output_type": "execute_result"
    }
   ],
   "source": [
    "df.groupby(df['year'])['commodity'].value_counts().unstack(level=0, fill_value=0)"
   ]
  },
  {
   "cell_type": "markdown",
   "metadata": {},
   "source": [
    "Thus we now have 5 data points for each commodity"
   ]
  },
  {
   "cell_type": "markdown",
   "metadata": {},
   "source": [
    "A more pleasing way to see the datasheet is in a form of a pivot table:"
   ]
  },
  {
   "cell_type": "code",
   "execution_count": 25,
   "metadata": {
    "ExecuteTime": {
     "end_time": "2019-03-11T16:17:25.580730Z",
     "start_time": "2019-03-11T16:17:25.553152Z"
    },
    "scrolled": false
   },
   "outputs": [
    {
     "data": {
      "text/html": [
       "<div>\n",
       "<style scoped>\n",
       "    .dataframe tbody tr th:only-of-type {\n",
       "        vertical-align: middle;\n",
       "    }\n",
       "\n",
       "    .dataframe tbody tr th {\n",
       "        vertical-align: top;\n",
       "    }\n",
       "\n",
       "    .dataframe thead th {\n",
       "        text-align: right;\n",
       "    }\n",
       "</style>\n",
       "<table border=\"1\" class=\"dataframe\">\n",
       "  <thead>\n",
       "    <tr style=\"text-align: right;\">\n",
       "      <th>year</th>\n",
       "      <th>2012</th>\n",
       "      <th>2013</th>\n",
       "      <th>2014</th>\n",
       "      <th>2015</th>\n",
       "      <th>2016</th>\n",
       "    </tr>\n",
       "    <tr>\n",
       "      <th>commodity</th>\n",
       "      <th></th>\n",
       "      <th></th>\n",
       "      <th></th>\n",
       "      <th></th>\n",
       "      <th></th>\n",
       "    </tr>\n",
       "  </thead>\n",
       "  <tbody>\n",
       "    <tr>\n",
       "      <th>BAJRI</th>\n",
       "      <td>1175.0</td>\n",
       "      <td>1310.0</td>\n",
       "      <td>1250.0</td>\n",
       "      <td>1275.0</td>\n",
       "      <td>1330.0</td>\n",
       "    </tr>\n",
       "    <tr>\n",
       "      <th>BARLI</th>\n",
       "      <td>980.0</td>\n",
       "      <td>1100.0</td>\n",
       "      <td>1150.0</td>\n",
       "      <td>1225.0</td>\n",
       "      <td>3725.0</td>\n",
       "    </tr>\n",
       "    <tr>\n",
       "      <th>COCONUT</th>\n",
       "      <td>1400.0</td>\n",
       "      <td>1425.0</td>\n",
       "      <td>1425.0</td>\n",
       "      <td>1500.0</td>\n",
       "      <td>1600.0</td>\n",
       "    </tr>\n",
       "    <tr>\n",
       "      <th>COTTON</th>\n",
       "      <td>3600.0</td>\n",
       "      <td>3700.0</td>\n",
       "      <td>3750.0</td>\n",
       "      <td>3800.0</td>\n",
       "      <td>3860.0</td>\n",
       "    </tr>\n",
       "    <tr>\n",
       "      <th>Copra (Ball)_Yellow</th>\n",
       "      <td>5350.0</td>\n",
       "      <td>5500.0</td>\n",
       "      <td>5500.0</td>\n",
       "      <td>5830.0</td>\n",
       "      <td>6240.0</td>\n",
       "    </tr>\n",
       "    <tr>\n",
       "      <th>Copra (Milling)_Yellow</th>\n",
       "      <td>5100.0</td>\n",
       "      <td>5250.0</td>\n",
       "      <td>5250.0</td>\n",
       "      <td>5550.0</td>\n",
       "      <td>5950.0</td>\n",
       "    </tr>\n",
       "    <tr>\n",
       "      <th>Cotton_Long Staple</th>\n",
       "      <td>3900.0</td>\n",
       "      <td>4000.0</td>\n",
       "      <td>4050.0</td>\n",
       "      <td>4100.0</td>\n",
       "      <td>4160.0</td>\n",
       "    </tr>\n",
       "    <tr>\n",
       "      <th>GR.NUT KERNELS</th>\n",
       "      <td>3700.0</td>\n",
       "      <td>4000.0</td>\n",
       "      <td>4000.0</td>\n",
       "      <td>4030.0</td>\n",
       "      <td>4120.0</td>\n",
       "    </tr>\n",
       "    <tr>\n",
       "      <th>Gram_Yellow</th>\n",
       "      <td>3000.0</td>\n",
       "      <td>3100.0</td>\n",
       "      <td>3175.0</td>\n",
       "      <td>3425.0</td>\n",
       "      <td>3725.0</td>\n",
       "    </tr>\n",
       "    <tr>\n",
       "      <th>Jowar_Hybrid</th>\n",
       "      <td>1500.0</td>\n",
       "      <td>1500.0</td>\n",
       "      <td>1530.0</td>\n",
       "      <td>1570.0</td>\n",
       "      <td>1625.0</td>\n",
       "    </tr>\n",
       "    <tr>\n",
       "      <th>Jute_Yellow</th>\n",
       "      <td>2200.0</td>\n",
       "      <td>2300.0</td>\n",
       "      <td>2400.0</td>\n",
       "      <td>2700.0</td>\n",
       "      <td>3200.0</td>\n",
       "    </tr>\n",
       "    <tr>\n",
       "      <th>MAIZE</th>\n",
       "      <td>1175.0</td>\n",
       "      <td>1310.0</td>\n",
       "      <td>1310.0</td>\n",
       "      <td>1325.0</td>\n",
       "      <td>1365.0</td>\n",
       "    </tr>\n",
       "    <tr>\n",
       "      <th>MUSTARD</th>\n",
       "      <td>3000.0</td>\n",
       "      <td>3050.0</td>\n",
       "      <td>3100.0</td>\n",
       "      <td>3350.0</td>\n",
       "      <td>3725.0</td>\n",
       "    </tr>\n",
       "    <tr>\n",
       "      <th>Masur_Yellow</th>\n",
       "      <td>2900.0</td>\n",
       "      <td>2950.0</td>\n",
       "      <td>3075.0</td>\n",
       "      <td>3325.0</td>\n",
       "      <td>3725.0</td>\n",
       "    </tr>\n",
       "    <tr>\n",
       "      <th>NIGER-SEED</th>\n",
       "      <td>3500.0</td>\n",
       "      <td>3500.0</td>\n",
       "      <td>3600.0</td>\n",
       "      <td>3650.0</td>\n",
       "      <td>3725.0</td>\n",
       "    </tr>\n",
       "    <tr>\n",
       "      <th>PADDY-UNHUSKED</th>\n",
       "      <td>1250.0</td>\n",
       "      <td>1310.0</td>\n",
       "      <td>1360.0</td>\n",
       "      <td>1410.0</td>\n",
       "      <td>1470.0</td>\n",
       "    </tr>\n",
       "    <tr>\n",
       "      <th>PIGEON PEA (TUR)</th>\n",
       "      <td>3850.0</td>\n",
       "      <td>4300.0</td>\n",
       "      <td>4350.0</td>\n",
       "      <td>4425.0</td>\n",
       "      <td>4625.0</td>\n",
       "    </tr>\n",
       "    <tr>\n",
       "      <th>RICE(PADDY-HUS)</th>\n",
       "      <td>1280.0</td>\n",
       "      <td>1345.0</td>\n",
       "      <td>1400.0</td>\n",
       "      <td>1450.0</td>\n",
       "      <td>1510.0</td>\n",
       "    </tr>\n",
       "    <tr>\n",
       "      <th>Ragi_Maldandi</th>\n",
       "      <td>1500.0</td>\n",
       "      <td>1500.0</td>\n",
       "      <td>1550.0</td>\n",
       "      <td>1650.0</td>\n",
       "      <td>1725.0</td>\n",
       "    </tr>\n",
       "    <tr>\n",
       "      <th>SAFFLOWER</th>\n",
       "      <td>2800.0</td>\n",
       "      <td>3000.0</td>\n",
       "      <td>3050.0</td>\n",
       "      <td>3300.0</td>\n",
       "      <td>3725.0</td>\n",
       "    </tr>\n",
       "    <tr>\n",
       "      <th>SESAMUM</th>\n",
       "      <td>4200.0</td>\n",
       "      <td>4500.0</td>\n",
       "      <td>4600.0</td>\n",
       "      <td>4700.0</td>\n",
       "      <td>4800.0</td>\n",
       "    </tr>\n",
       "    <tr>\n",
       "      <th>SORGUM(JAWAR)</th>\n",
       "      <td>1520.0</td>\n",
       "      <td>1520.0</td>\n",
       "      <td>1550.0</td>\n",
       "      <td>1590.0</td>\n",
       "      <td>1650.0</td>\n",
       "    </tr>\n",
       "    <tr>\n",
       "      <th>SOYABEAN</th>\n",
       "      <td>2240.0</td>\n",
       "      <td>2560.0</td>\n",
       "      <td>2560.0</td>\n",
       "      <td>2600.0</td>\n",
       "      <td>2675.0</td>\n",
       "    </tr>\n",
       "    <tr>\n",
       "      <th>SPILT GERRN GRAM</th>\n",
       "      <td>4400.0</td>\n",
       "      <td>4500.0</td>\n",
       "      <td>4600.0</td>\n",
       "      <td>4650.0</td>\n",
       "      <td>4800.0</td>\n",
       "    </tr>\n",
       "    <tr>\n",
       "      <th>SPLIT BLACK GRAM</th>\n",
       "      <td>4300.0</td>\n",
       "      <td>4300.0</td>\n",
       "      <td>4350.0</td>\n",
       "      <td>4425.0</td>\n",
       "      <td>4575.0</td>\n",
       "    </tr>\n",
       "    <tr>\n",
       "      <th>SUGAR-CANE</th>\n",
       "      <td>170.0</td>\n",
       "      <td>210.0</td>\n",
       "      <td>220.0</td>\n",
       "      <td>230.0</td>\n",
       "      <td>230.0</td>\n",
       "    </tr>\n",
       "    <tr>\n",
       "      <th>SUNFLOWER</th>\n",
       "      <td>3700.0</td>\n",
       "      <td>3700.0</td>\n",
       "      <td>3750.0</td>\n",
       "      <td>3800.0</td>\n",
       "      <td>3850.0</td>\n",
       "    </tr>\n",
       "    <tr>\n",
       "      <th>Soyabean_Black</th>\n",
       "      <td>2200.0</td>\n",
       "      <td>2500.0</td>\n",
       "      <td>2500.0</td>\n",
       "      <td>3800.0</td>\n",
       "      <td>3850.0</td>\n",
       "    </tr>\n",
       "    <tr>\n",
       "      <th>Toria_Yellow</th>\n",
       "      <td>2970.0</td>\n",
       "      <td>3020.0</td>\n",
       "      <td>3020.0</td>\n",
       "      <td>3290.0</td>\n",
       "      <td>3725.0</td>\n",
       "    </tr>\n",
       "    <tr>\n",
       "      <th>WHEAT(HUSKED)</th>\n",
       "      <td>1350.0</td>\n",
       "      <td>1400.0</td>\n",
       "      <td>1450.0</td>\n",
       "      <td>1525.0</td>\n",
       "      <td>3725.0</td>\n",
       "    </tr>\n",
       "    <tr>\n",
       "      <th>WHEAT(UNHUSKED)</th>\n",
       "      <td>1350.0</td>\n",
       "      <td>1400.0</td>\n",
       "      <td>1450.0</td>\n",
       "      <td>1525.0</td>\n",
       "      <td>3725.0</td>\n",
       "    </tr>\n",
       "  </tbody>\n",
       "</table>\n",
       "</div>"
      ],
      "text/plain": [
       "year                      2012    2013    2014    2015    2016\n",
       "commodity                                                     \n",
       "BAJRI                   1175.0  1310.0  1250.0  1275.0  1330.0\n",
       "BARLI                    980.0  1100.0  1150.0  1225.0  3725.0\n",
       "COCONUT                 1400.0  1425.0  1425.0  1500.0  1600.0\n",
       "COTTON                  3600.0  3700.0  3750.0  3800.0  3860.0\n",
       "Copra (Ball)_Yellow     5350.0  5500.0  5500.0  5830.0  6240.0\n",
       "Copra (Milling)_Yellow  5100.0  5250.0  5250.0  5550.0  5950.0\n",
       "Cotton_Long Staple      3900.0  4000.0  4050.0  4100.0  4160.0\n",
       "GR.NUT KERNELS          3700.0  4000.0  4000.0  4030.0  4120.0\n",
       "Gram_Yellow             3000.0  3100.0  3175.0  3425.0  3725.0\n",
       "Jowar_Hybrid            1500.0  1500.0  1530.0  1570.0  1625.0\n",
       "Jute_Yellow             2200.0  2300.0  2400.0  2700.0  3200.0\n",
       "MAIZE                   1175.0  1310.0  1310.0  1325.0  1365.0\n",
       "MUSTARD                 3000.0  3050.0  3100.0  3350.0  3725.0\n",
       "Masur_Yellow            2900.0  2950.0  3075.0  3325.0  3725.0\n",
       "NIGER-SEED              3500.0  3500.0  3600.0  3650.0  3725.0\n",
       "PADDY-UNHUSKED          1250.0  1310.0  1360.0  1410.0  1470.0\n",
       "PIGEON PEA (TUR)        3850.0  4300.0  4350.0  4425.0  4625.0\n",
       "RICE(PADDY-HUS)         1280.0  1345.0  1400.0  1450.0  1510.0\n",
       "Ragi_Maldandi           1500.0  1500.0  1550.0  1650.0  1725.0\n",
       "SAFFLOWER               2800.0  3000.0  3050.0  3300.0  3725.0\n",
       "SESAMUM                 4200.0  4500.0  4600.0  4700.0  4800.0\n",
       "SORGUM(JAWAR)           1520.0  1520.0  1550.0  1590.0  1650.0\n",
       "SOYABEAN                2240.0  2560.0  2560.0  2600.0  2675.0\n",
       "SPILT GERRN GRAM        4400.0  4500.0  4600.0  4650.0  4800.0\n",
       "SPLIT BLACK GRAM        4300.0  4300.0  4350.0  4425.0  4575.0\n",
       "SUGAR-CANE               170.0   210.0   220.0   230.0   230.0\n",
       "SUNFLOWER               3700.0  3700.0  3750.0  3800.0  3850.0\n",
       "Soyabean_Black          2200.0  2500.0  2500.0  3800.0  3850.0\n",
       "Toria_Yellow            2970.0  3020.0  3020.0  3290.0  3725.0\n",
       "WHEAT(HUSKED)           1350.0  1400.0  1450.0  1525.0  3725.0\n",
       "WHEAT(UNHUSKED)         1350.0  1400.0  1450.0  1525.0  3725.0"
      ]
     },
     "execution_count": 25,
     "metadata": {},
     "output_type": "execute_result"
    }
   ],
   "source": [
    "df.pivot(index='commodity', columns='year', values='msprice')"
   ]
  },
  {
   "cell_type": "code",
   "execution_count": 26,
   "metadata": {
    "ExecuteTime": {
     "end_time": "2019-03-11T16:17:25.589774Z",
     "start_time": "2019-03-11T16:17:25.583052Z"
    }
   },
   "outputs": [],
   "source": [
    "matplotlib inline"
   ]
  },
  {
   "cell_type": "code",
   "execution_count": 27,
   "metadata": {
    "ExecuteTime": {
     "end_time": "2019-03-11T16:17:25.600232Z",
     "start_time": "2019-03-11T16:17:25.591565Z"
    }
   },
   "outputs": [],
   "source": [
    "table = df.pivot(index='commodity', columns='year', values='msprice')"
   ]
  },
  {
   "cell_type": "code",
   "execution_count": 28,
   "metadata": {
    "ExecuteTime": {
     "end_time": "2019-03-11T16:17:25.621020Z",
     "start_time": "2019-03-11T16:17:25.602458Z"
    }
   },
   "outputs": [
    {
     "data": {
      "text/html": [
       "<div>\n",
       "<style scoped>\n",
       "    .dataframe tbody tr th:only-of-type {\n",
       "        vertical-align: middle;\n",
       "    }\n",
       "\n",
       "    .dataframe tbody tr th {\n",
       "        vertical-align: top;\n",
       "    }\n",
       "\n",
       "    .dataframe thead th {\n",
       "        text-align: right;\n",
       "    }\n",
       "</style>\n",
       "<table border=\"1\" class=\"dataframe\">\n",
       "  <thead>\n",
       "    <tr style=\"text-align: right;\">\n",
       "      <th>year</th>\n",
       "      <th>2012</th>\n",
       "      <th>2013</th>\n",
       "      <th>2014</th>\n",
       "      <th>2015</th>\n",
       "      <th>2016</th>\n",
       "    </tr>\n",
       "    <tr>\n",
       "      <th>commodity</th>\n",
       "      <th></th>\n",
       "      <th></th>\n",
       "      <th></th>\n",
       "      <th></th>\n",
       "      <th></th>\n",
       "    </tr>\n",
       "  </thead>\n",
       "  <tbody>\n",
       "    <tr>\n",
       "      <th>BAJRI</th>\n",
       "      <td>1175.0</td>\n",
       "      <td>1310.0</td>\n",
       "      <td>1250.0</td>\n",
       "      <td>1275.0</td>\n",
       "      <td>1330.0</td>\n",
       "    </tr>\n",
       "    <tr>\n",
       "      <th>BARLI</th>\n",
       "      <td>980.0</td>\n",
       "      <td>1100.0</td>\n",
       "      <td>1150.0</td>\n",
       "      <td>1225.0</td>\n",
       "      <td>3725.0</td>\n",
       "    </tr>\n",
       "    <tr>\n",
       "      <th>COCONUT</th>\n",
       "      <td>1400.0</td>\n",
       "      <td>1425.0</td>\n",
       "      <td>1425.0</td>\n",
       "      <td>1500.0</td>\n",
       "      <td>1600.0</td>\n",
       "    </tr>\n",
       "    <tr>\n",
       "      <th>COTTON</th>\n",
       "      <td>3600.0</td>\n",
       "      <td>3700.0</td>\n",
       "      <td>3750.0</td>\n",
       "      <td>3800.0</td>\n",
       "      <td>3860.0</td>\n",
       "    </tr>\n",
       "    <tr>\n",
       "      <th>Copra (Ball)_Yellow</th>\n",
       "      <td>5350.0</td>\n",
       "      <td>5500.0</td>\n",
       "      <td>5500.0</td>\n",
       "      <td>5830.0</td>\n",
       "      <td>6240.0</td>\n",
       "    </tr>\n",
       "    <tr>\n",
       "      <th>Copra (Milling)_Yellow</th>\n",
       "      <td>5100.0</td>\n",
       "      <td>5250.0</td>\n",
       "      <td>5250.0</td>\n",
       "      <td>5550.0</td>\n",
       "      <td>5950.0</td>\n",
       "    </tr>\n",
       "    <tr>\n",
       "      <th>Cotton_Long Staple</th>\n",
       "      <td>3900.0</td>\n",
       "      <td>4000.0</td>\n",
       "      <td>4050.0</td>\n",
       "      <td>4100.0</td>\n",
       "      <td>4160.0</td>\n",
       "    </tr>\n",
       "    <tr>\n",
       "      <th>GR.NUT KERNELS</th>\n",
       "      <td>3700.0</td>\n",
       "      <td>4000.0</td>\n",
       "      <td>4000.0</td>\n",
       "      <td>4030.0</td>\n",
       "      <td>4120.0</td>\n",
       "    </tr>\n",
       "    <tr>\n",
       "      <th>Gram_Yellow</th>\n",
       "      <td>3000.0</td>\n",
       "      <td>3100.0</td>\n",
       "      <td>3175.0</td>\n",
       "      <td>3425.0</td>\n",
       "      <td>3725.0</td>\n",
       "    </tr>\n",
       "    <tr>\n",
       "      <th>Jowar_Hybrid</th>\n",
       "      <td>1500.0</td>\n",
       "      <td>1500.0</td>\n",
       "      <td>1530.0</td>\n",
       "      <td>1570.0</td>\n",
       "      <td>1625.0</td>\n",
       "    </tr>\n",
       "    <tr>\n",
       "      <th>Jute_Yellow</th>\n",
       "      <td>2200.0</td>\n",
       "      <td>2300.0</td>\n",
       "      <td>2400.0</td>\n",
       "      <td>2700.0</td>\n",
       "      <td>3200.0</td>\n",
       "    </tr>\n",
       "    <tr>\n",
       "      <th>MAIZE</th>\n",
       "      <td>1175.0</td>\n",
       "      <td>1310.0</td>\n",
       "      <td>1310.0</td>\n",
       "      <td>1325.0</td>\n",
       "      <td>1365.0</td>\n",
       "    </tr>\n",
       "    <tr>\n",
       "      <th>MUSTARD</th>\n",
       "      <td>3000.0</td>\n",
       "      <td>3050.0</td>\n",
       "      <td>3100.0</td>\n",
       "      <td>3350.0</td>\n",
       "      <td>3725.0</td>\n",
       "    </tr>\n",
       "    <tr>\n",
       "      <th>Masur_Yellow</th>\n",
       "      <td>2900.0</td>\n",
       "      <td>2950.0</td>\n",
       "      <td>3075.0</td>\n",
       "      <td>3325.0</td>\n",
       "      <td>3725.0</td>\n",
       "    </tr>\n",
       "    <tr>\n",
       "      <th>NIGER-SEED</th>\n",
       "      <td>3500.0</td>\n",
       "      <td>3500.0</td>\n",
       "      <td>3600.0</td>\n",
       "      <td>3650.0</td>\n",
       "      <td>3725.0</td>\n",
       "    </tr>\n",
       "    <tr>\n",
       "      <th>PADDY-UNHUSKED</th>\n",
       "      <td>1250.0</td>\n",
       "      <td>1310.0</td>\n",
       "      <td>1360.0</td>\n",
       "      <td>1410.0</td>\n",
       "      <td>1470.0</td>\n",
       "    </tr>\n",
       "    <tr>\n",
       "      <th>PIGEON PEA (TUR)</th>\n",
       "      <td>3850.0</td>\n",
       "      <td>4300.0</td>\n",
       "      <td>4350.0</td>\n",
       "      <td>4425.0</td>\n",
       "      <td>4625.0</td>\n",
       "    </tr>\n",
       "    <tr>\n",
       "      <th>RICE(PADDY-HUS)</th>\n",
       "      <td>1280.0</td>\n",
       "      <td>1345.0</td>\n",
       "      <td>1400.0</td>\n",
       "      <td>1450.0</td>\n",
       "      <td>1510.0</td>\n",
       "    </tr>\n",
       "    <tr>\n",
       "      <th>Ragi_Maldandi</th>\n",
       "      <td>1500.0</td>\n",
       "      <td>1500.0</td>\n",
       "      <td>1550.0</td>\n",
       "      <td>1650.0</td>\n",
       "      <td>1725.0</td>\n",
       "    </tr>\n",
       "    <tr>\n",
       "      <th>SAFFLOWER</th>\n",
       "      <td>2800.0</td>\n",
       "      <td>3000.0</td>\n",
       "      <td>3050.0</td>\n",
       "      <td>3300.0</td>\n",
       "      <td>3725.0</td>\n",
       "    </tr>\n",
       "    <tr>\n",
       "      <th>SESAMUM</th>\n",
       "      <td>4200.0</td>\n",
       "      <td>4500.0</td>\n",
       "      <td>4600.0</td>\n",
       "      <td>4700.0</td>\n",
       "      <td>4800.0</td>\n",
       "    </tr>\n",
       "    <tr>\n",
       "      <th>SORGUM(JAWAR)</th>\n",
       "      <td>1520.0</td>\n",
       "      <td>1520.0</td>\n",
       "      <td>1550.0</td>\n",
       "      <td>1590.0</td>\n",
       "      <td>1650.0</td>\n",
       "    </tr>\n",
       "    <tr>\n",
       "      <th>SOYABEAN</th>\n",
       "      <td>2240.0</td>\n",
       "      <td>2560.0</td>\n",
       "      <td>2560.0</td>\n",
       "      <td>2600.0</td>\n",
       "      <td>2675.0</td>\n",
       "    </tr>\n",
       "    <tr>\n",
       "      <th>SPILT GERRN GRAM</th>\n",
       "      <td>4400.0</td>\n",
       "      <td>4500.0</td>\n",
       "      <td>4600.0</td>\n",
       "      <td>4650.0</td>\n",
       "      <td>4800.0</td>\n",
       "    </tr>\n",
       "    <tr>\n",
       "      <th>SPLIT BLACK GRAM</th>\n",
       "      <td>4300.0</td>\n",
       "      <td>4300.0</td>\n",
       "      <td>4350.0</td>\n",
       "      <td>4425.0</td>\n",
       "      <td>4575.0</td>\n",
       "    </tr>\n",
       "    <tr>\n",
       "      <th>SUGAR-CANE</th>\n",
       "      <td>170.0</td>\n",
       "      <td>210.0</td>\n",
       "      <td>220.0</td>\n",
       "      <td>230.0</td>\n",
       "      <td>230.0</td>\n",
       "    </tr>\n",
       "    <tr>\n",
       "      <th>SUNFLOWER</th>\n",
       "      <td>3700.0</td>\n",
       "      <td>3700.0</td>\n",
       "      <td>3750.0</td>\n",
       "      <td>3800.0</td>\n",
       "      <td>3850.0</td>\n",
       "    </tr>\n",
       "    <tr>\n",
       "      <th>Soyabean_Black</th>\n",
       "      <td>2200.0</td>\n",
       "      <td>2500.0</td>\n",
       "      <td>2500.0</td>\n",
       "      <td>3800.0</td>\n",
       "      <td>3850.0</td>\n",
       "    </tr>\n",
       "    <tr>\n",
       "      <th>Toria_Yellow</th>\n",
       "      <td>2970.0</td>\n",
       "      <td>3020.0</td>\n",
       "      <td>3020.0</td>\n",
       "      <td>3290.0</td>\n",
       "      <td>3725.0</td>\n",
       "    </tr>\n",
       "    <tr>\n",
       "      <th>WHEAT(HUSKED)</th>\n",
       "      <td>1350.0</td>\n",
       "      <td>1400.0</td>\n",
       "      <td>1450.0</td>\n",
       "      <td>1525.0</td>\n",
       "      <td>3725.0</td>\n",
       "    </tr>\n",
       "    <tr>\n",
       "      <th>WHEAT(UNHUSKED)</th>\n",
       "      <td>1350.0</td>\n",
       "      <td>1400.0</td>\n",
       "      <td>1450.0</td>\n",
       "      <td>1525.0</td>\n",
       "      <td>3725.0</td>\n",
       "    </tr>\n",
       "  </tbody>\n",
       "</table>\n",
       "</div>"
      ],
      "text/plain": [
       "year                      2012    2013    2014    2015    2016\n",
       "commodity                                                     \n",
       "BAJRI                   1175.0  1310.0  1250.0  1275.0  1330.0\n",
       "BARLI                    980.0  1100.0  1150.0  1225.0  3725.0\n",
       "COCONUT                 1400.0  1425.0  1425.0  1500.0  1600.0\n",
       "COTTON                  3600.0  3700.0  3750.0  3800.0  3860.0\n",
       "Copra (Ball)_Yellow     5350.0  5500.0  5500.0  5830.0  6240.0\n",
       "Copra (Milling)_Yellow  5100.0  5250.0  5250.0  5550.0  5950.0\n",
       "Cotton_Long Staple      3900.0  4000.0  4050.0  4100.0  4160.0\n",
       "GR.NUT KERNELS          3700.0  4000.0  4000.0  4030.0  4120.0\n",
       "Gram_Yellow             3000.0  3100.0  3175.0  3425.0  3725.0\n",
       "Jowar_Hybrid            1500.0  1500.0  1530.0  1570.0  1625.0\n",
       "Jute_Yellow             2200.0  2300.0  2400.0  2700.0  3200.0\n",
       "MAIZE                   1175.0  1310.0  1310.0  1325.0  1365.0\n",
       "MUSTARD                 3000.0  3050.0  3100.0  3350.0  3725.0\n",
       "Masur_Yellow            2900.0  2950.0  3075.0  3325.0  3725.0\n",
       "NIGER-SEED              3500.0  3500.0  3600.0  3650.0  3725.0\n",
       "PADDY-UNHUSKED          1250.0  1310.0  1360.0  1410.0  1470.0\n",
       "PIGEON PEA (TUR)        3850.0  4300.0  4350.0  4425.0  4625.0\n",
       "RICE(PADDY-HUS)         1280.0  1345.0  1400.0  1450.0  1510.0\n",
       "Ragi_Maldandi           1500.0  1500.0  1550.0  1650.0  1725.0\n",
       "SAFFLOWER               2800.0  3000.0  3050.0  3300.0  3725.0\n",
       "SESAMUM                 4200.0  4500.0  4600.0  4700.0  4800.0\n",
       "SORGUM(JAWAR)           1520.0  1520.0  1550.0  1590.0  1650.0\n",
       "SOYABEAN                2240.0  2560.0  2560.0  2600.0  2675.0\n",
       "SPILT GERRN GRAM        4400.0  4500.0  4600.0  4650.0  4800.0\n",
       "SPLIT BLACK GRAM        4300.0  4300.0  4350.0  4425.0  4575.0\n",
       "SUGAR-CANE               170.0   210.0   220.0   230.0   230.0\n",
       "SUNFLOWER               3700.0  3700.0  3750.0  3800.0  3850.0\n",
       "Soyabean_Black          2200.0  2500.0  2500.0  3800.0  3850.0\n",
       "Toria_Yellow            2970.0  3020.0  3020.0  3290.0  3725.0\n",
       "WHEAT(HUSKED)           1350.0  1400.0  1450.0  1525.0  3725.0\n",
       "WHEAT(UNHUSKED)         1350.0  1400.0  1450.0  1525.0  3725.0"
      ]
     },
     "execution_count": 28,
     "metadata": {},
     "output_type": "execute_result"
    }
   ],
   "source": [
    "table"
   ]
  },
  {
   "cell_type": "code",
   "execution_count": 29,
   "metadata": {
    "ExecuteTime": {
     "end_time": "2019-03-11T16:17:26.578409Z",
     "start_time": "2019-03-11T16:17:25.623076Z"
    }
   },
   "outputs": [
    {
     "data": {
      "text/plain": [
       "<matplotlib.axes._subplots.AxesSubplot at 0x1a15be8278>"
      ]
     },
     "execution_count": 29,
     "metadata": {},
     "output_type": "execute_result"
    },
    {
     "data": {
      "text/plain": [
       "<Figure size 216x288 with 0 Axes>"
      ]
     },
     "metadata": {},
     "output_type": "display_data"
    },
    {
     "data": {
      "image/png": "[encoded data removed]",
      "text/plain": [
       "<Figure size 1080x720 with 1 Axes>"
      ]
     },
     "metadata": {},
     "output_type": "display_data"
    }
   ],
   "source": [
    "plt.figure(figsize=(3,4))\n",
    "table.plot(kind='bar',figsize=(15,10))"
   ]
  },
  {
   "cell_type": "code",
   "execution_count": 30,
   "metadata": {
    "ExecuteTime": {
     "end_time": "2019-03-11T16:17:26.608546Z",
     "start_time": "2019-03-11T16:17:26.580354Z"
    }
   },
   "outputs": [
    {
     "data": {
      "text/html": [
       "<div>\n",
       "<style scoped>\n",
       "    .dataframe tbody tr th:only-of-type {\n",
       "        vertical-align: middle;\n",
       "    }\n",
       "\n",
       "    .dataframe tbody tr th {\n",
       "        vertical-align: top;\n",
       "    }\n",
       "\n",
       "    .dataframe thead th {\n",
       "        text-align: right;\n",
       "    }\n",
       "</style>\n",
       "<table border=\"1\" class=\"dataframe\">\n",
       "  <thead>\n",
       "    <tr style=\"text-align: right;\">\n",
       "      <th></th>\n",
       "      <th>year</th>\n",
       "      <th>2012</th>\n",
       "      <th>2013</th>\n",
       "      <th>2014</th>\n",
       "      <th>2015</th>\n",
       "      <th>2016</th>\n",
       "    </tr>\n",
       "    <tr>\n",
       "      <th>commodity</th>\n",
       "      <th>Type</th>\n",
       "      <th></th>\n",
       "      <th></th>\n",
       "      <th></th>\n",
       "      <th></th>\n",
       "      <th></th>\n",
       "    </tr>\n",
       "  </thead>\n",
       "  <tbody>\n",
       "    <tr>\n",
       "      <th>BAJRI</th>\n",
       "      <th>Kharif Crops</th>\n",
       "      <td>1175.0</td>\n",
       "      <td>1310.0</td>\n",
       "      <td>1250.0</td>\n",
       "      <td>1275.0</td>\n",
       "      <td>1330.0</td>\n",
       "    </tr>\n",
       "    <tr>\n",
       "      <th>BARLI</th>\n",
       "      <th>Rabi Crops</th>\n",
       "      <td>980.0</td>\n",
       "      <td>1100.0</td>\n",
       "      <td>1150.0</td>\n",
       "      <td>1225.0</td>\n",
       "      <td>3725.0</td>\n",
       "    </tr>\n",
       "    <tr>\n",
       "      <th>COCONUT</th>\n",
       "      <th>Other Crops</th>\n",
       "      <td>1400.0</td>\n",
       "      <td>1425.0</td>\n",
       "      <td>1425.0</td>\n",
       "      <td>1500.0</td>\n",
       "      <td>1600.0</td>\n",
       "    </tr>\n",
       "    <tr>\n",
       "      <th>COTTON</th>\n",
       "      <th>Kharif Crops</th>\n",
       "      <td>3600.0</td>\n",
       "      <td>3700.0</td>\n",
       "      <td>3750.0</td>\n",
       "      <td>3800.0</td>\n",
       "      <td>3860.0</td>\n",
       "    </tr>\n",
       "    <tr>\n",
       "      <th>Copra (Ball)_Yellow</th>\n",
       "      <th>Other Crops</th>\n",
       "      <td>5350.0</td>\n",
       "      <td>5500.0</td>\n",
       "      <td>5500.0</td>\n",
       "      <td>5830.0</td>\n",
       "      <td>6240.0</td>\n",
       "    </tr>\n",
       "    <tr>\n",
       "      <th>Copra (Milling)_Yellow</th>\n",
       "      <th>Other Crops</th>\n",
       "      <td>5100.0</td>\n",
       "      <td>5250.0</td>\n",
       "      <td>5250.0</td>\n",
       "      <td>5550.0</td>\n",
       "      <td>5950.0</td>\n",
       "    </tr>\n",
       "    <tr>\n",
       "      <th>Cotton_Long Staple</th>\n",
       "      <th>Kharif Crops</th>\n",
       "      <td>3900.0</td>\n",
       "      <td>4000.0</td>\n",
       "      <td>4050.0</td>\n",
       "      <td>4100.0</td>\n",
       "      <td>4160.0</td>\n",
       "    </tr>\n",
       "    <tr>\n",
       "      <th>GR.NUT KERNELS</th>\n",
       "      <th>Kharif Crops</th>\n",
       "      <td>3700.0</td>\n",
       "      <td>4000.0</td>\n",
       "      <td>4000.0</td>\n",
       "      <td>4030.0</td>\n",
       "      <td>4120.0</td>\n",
       "    </tr>\n",
       "    <tr>\n",
       "      <th>Gram_Yellow</th>\n",
       "      <th>Rabi Crops</th>\n",
       "      <td>3000.0</td>\n",
       "      <td>3100.0</td>\n",
       "      <td>3175.0</td>\n",
       "      <td>3425.0</td>\n",
       "      <td>3725.0</td>\n",
       "    </tr>\n",
       "    <tr>\n",
       "      <th>Jowar_Hybrid</th>\n",
       "      <th>Kharif Crops</th>\n",
       "      <td>1500.0</td>\n",
       "      <td>1500.0</td>\n",
       "      <td>1530.0</td>\n",
       "      <td>1570.0</td>\n",
       "      <td>1625.0</td>\n",
       "    </tr>\n",
       "    <tr>\n",
       "      <th>Jute_Yellow</th>\n",
       "      <th>Other Crops</th>\n",
       "      <td>2200.0</td>\n",
       "      <td>2300.0</td>\n",
       "      <td>2400.0</td>\n",
       "      <td>2700.0</td>\n",
       "      <td>3200.0</td>\n",
       "    </tr>\n",
       "    <tr>\n",
       "      <th>MAIZE</th>\n",
       "      <th>Kharif Crops</th>\n",
       "      <td>1175.0</td>\n",
       "      <td>1310.0</td>\n",
       "      <td>1310.0</td>\n",
       "      <td>1325.0</td>\n",
       "      <td>1365.0</td>\n",
       "    </tr>\n",
       "    <tr>\n",
       "      <th>MUSTARD</th>\n",
       "      <th>Rabi Crops</th>\n",
       "      <td>3000.0</td>\n",
       "      <td>3050.0</td>\n",
       "      <td>3100.0</td>\n",
       "      <td>3350.0</td>\n",
       "      <td>3725.0</td>\n",
       "    </tr>\n",
       "    <tr>\n",
       "      <th>Masur_Yellow</th>\n",
       "      <th>Rabi Crops</th>\n",
       "      <td>2900.0</td>\n",
       "      <td>2950.0</td>\n",
       "      <td>3075.0</td>\n",
       "      <td>3325.0</td>\n",
       "      <td>3725.0</td>\n",
       "    </tr>\n",
       "    <tr>\n",
       "      <th>NIGER-SEED</th>\n",
       "      <th>Kharif Crops</th>\n",
       "      <td>3500.0</td>\n",
       "      <td>3500.0</td>\n",
       "      <td>3600.0</td>\n",
       "      <td>3650.0</td>\n",
       "      <td>3725.0</td>\n",
       "    </tr>\n",
       "    <tr>\n",
       "      <th>PADDY-UNHUSKED</th>\n",
       "      <th>Kharif Crops</th>\n",
       "      <td>1250.0</td>\n",
       "      <td>1310.0</td>\n",
       "      <td>1360.0</td>\n",
       "      <td>1410.0</td>\n",
       "      <td>1470.0</td>\n",
       "    </tr>\n",
       "    <tr>\n",
       "      <th>PIGEON PEA (TUR)</th>\n",
       "      <th>Kharif Crops</th>\n",
       "      <td>3850.0</td>\n",
       "      <td>4300.0</td>\n",
       "      <td>4350.0</td>\n",
       "      <td>4425.0</td>\n",
       "      <td>4625.0</td>\n",
       "    </tr>\n",
       "    <tr>\n",
       "      <th>RICE(PADDY-HUS)</th>\n",
       "      <th>Kharif Crops</th>\n",
       "      <td>1280.0</td>\n",
       "      <td>1345.0</td>\n",
       "      <td>1400.0</td>\n",
       "      <td>1450.0</td>\n",
       "      <td>1510.0</td>\n",
       "    </tr>\n",
       "    <tr>\n",
       "      <th>Ragi_Maldandi</th>\n",
       "      <th>Kharif Crops</th>\n",
       "      <td>1500.0</td>\n",
       "      <td>1500.0</td>\n",
       "      <td>1550.0</td>\n",
       "      <td>1650.0</td>\n",
       "      <td>1725.0</td>\n",
       "    </tr>\n",
       "    <tr>\n",
       "      <th>SAFFLOWER</th>\n",
       "      <th>Rabi Crops</th>\n",
       "      <td>2800.0</td>\n",
       "      <td>3000.0</td>\n",
       "      <td>3050.0</td>\n",
       "      <td>3300.0</td>\n",
       "      <td>3725.0</td>\n",
       "    </tr>\n",
       "    <tr>\n",
       "      <th>SESAMUM</th>\n",
       "      <th>Kharif Crops</th>\n",
       "      <td>4200.0</td>\n",
       "      <td>4500.0</td>\n",
       "      <td>4600.0</td>\n",
       "      <td>4700.0</td>\n",
       "      <td>4800.0</td>\n",
       "    </tr>\n",
       "    <tr>\n",
       "      <th>SORGUM(JAWAR)</th>\n",
       "      <th>Kharif Crops</th>\n",
       "      <td>1520.0</td>\n",
       "      <td>1520.0</td>\n",
       "      <td>1550.0</td>\n",
       "      <td>1590.0</td>\n",
       "      <td>1650.0</td>\n",
       "    </tr>\n",
       "    <tr>\n",
       "      <th>SOYABEAN</th>\n",
       "      <th>Kharif Crops</th>\n",
       "      <td>2240.0</td>\n",
       "      <td>2560.0</td>\n",
       "      <td>2560.0</td>\n",
       "      <td>2600.0</td>\n",
       "      <td>2675.0</td>\n",
       "    </tr>\n",
       "    <tr>\n",
       "      <th>SPILT GERRN GRAM</th>\n",
       "      <th>Kharif Crops</th>\n",
       "      <td>4400.0</td>\n",
       "      <td>4500.0</td>\n",
       "      <td>4600.0</td>\n",
       "      <td>4650.0</td>\n",
       "      <td>4800.0</td>\n",
       "    </tr>\n",
       "    <tr>\n",
       "      <th>SPLIT BLACK GRAM</th>\n",
       "      <th>Kharif Crops</th>\n",
       "      <td>4300.0</td>\n",
       "      <td>4300.0</td>\n",
       "      <td>4350.0</td>\n",
       "      <td>4425.0</td>\n",
       "      <td>4575.0</td>\n",
       "    </tr>\n",
       "    <tr>\n",
       "      <th>SUGAR-CANE</th>\n",
       "      <th>Other Crops</th>\n",
       "      <td>170.0</td>\n",
       "      <td>210.0</td>\n",
       "      <td>220.0</td>\n",
       "      <td>230.0</td>\n",
       "      <td>230.0</td>\n",
       "    </tr>\n",
       "    <tr>\n",
       "      <th>SUNFLOWER</th>\n",
       "      <th>Kharif Crops</th>\n",
       "      <td>3700.0</td>\n",
       "      <td>3700.0</td>\n",
       "      <td>3750.0</td>\n",
       "      <td>3800.0</td>\n",
       "      <td>3850.0</td>\n",
       "    </tr>\n",
       "    <tr>\n",
       "      <th>Soyabean_Black</th>\n",
       "      <th>Kharif Crops</th>\n",
       "      <td>2200.0</td>\n",
       "      <td>2500.0</td>\n",
       "      <td>2500.0</td>\n",
       "      <td>3800.0</td>\n",
       "      <td>3850.0</td>\n",
       "    </tr>\n",
       "    <tr>\n",
       "      <th>Toria_Yellow</th>\n",
       "      <th>Rabi Crops</th>\n",
       "      <td>2970.0</td>\n",
       "      <td>3020.0</td>\n",
       "      <td>3020.0</td>\n",
       "      <td>3290.0</td>\n",
       "      <td>3725.0</td>\n",
       "    </tr>\n",
       "    <tr>\n",
       "      <th>WHEAT(HUSKED)</th>\n",
       "      <th>Rabi Crops</th>\n",
       "      <td>1350.0</td>\n",
       "      <td>1400.0</td>\n",
       "      <td>1450.0</td>\n",
       "      <td>1525.0</td>\n",
       "      <td>3725.0</td>\n",
       "    </tr>\n",
       "    <tr>\n",
       "      <th>WHEAT(UNHUSKED)</th>\n",
       "      <th>Rabi Crops</th>\n",
       "      <td>1350.0</td>\n",
       "      <td>1400.0</td>\n",
       "      <td>1450.0</td>\n",
       "      <td>1525.0</td>\n",
       "      <td>3725.0</td>\n",
       "    </tr>\n",
       "  </tbody>\n",
       "</table>\n",
       "</div>"
      ],
      "text/plain": [
       "year                                   2012    2013    2014    2015    2016\n",
       "commodity              Type                                                \n",
       "BAJRI                  Kharif Crops  1175.0  1310.0  1250.0  1275.0  1330.0\n",
       "BARLI                  Rabi Crops     980.0  1100.0  1150.0  1225.0  3725.0\n",
       "COCONUT                Other Crops   1400.0  1425.0  1425.0  1500.0  1600.0\n",
       "COTTON                 Kharif Crops  3600.0  3700.0  3750.0  3800.0  3860.0\n",
       "Copra (Ball)_Yellow    Other Crops   5350.0  5500.0  5500.0  5830.0  6240.0\n",
       "Copra (Milling)_Yellow Other Crops   5100.0  5250.0  5250.0  5550.0  5950.0\n",
       "Cotton_Long Staple     Kharif Crops  3900.0  4000.0  4050.0  4100.0  4160.0\n",
       "GR.NUT KERNELS         Kharif Crops  3700.0  4000.0  4000.0  4030.0  4120.0\n",
       "Gram_Yellow            Rabi Crops    3000.0  3100.0  3175.0  3425.0  3725.0\n",
       "Jowar_Hybrid           Kharif Crops  1500.0  1500.0  1530.0  1570.0  1625.0\n",
       "Jute_Yellow            Other Crops   2200.0  2300.0  2400.0  2700.0  3200.0\n",
       "MAIZE                  Kharif Crops  1175.0  1310.0  1310.0  1325.0  1365.0\n",
       "MUSTARD                Rabi Crops    3000.0  3050.0  3100.0  3350.0  3725.0\n",
       "Masur_Yellow           Rabi Crops    2900.0  2950.0  3075.0  3325.0  3725.0\n",
       "NIGER-SEED             Kharif Crops  3500.0  3500.0  3600.0  3650.0  3725.0\n",
       "PADDY-UNHUSKED         Kharif Crops  1250.0  1310.0  1360.0  1410.0  1470.0\n",
       "PIGEON PEA (TUR)       Kharif Crops  3850.0  4300.0  4350.0  4425.0  4625.0\n",
       "RICE(PADDY-HUS)        Kharif Crops  1280.0  1345.0  1400.0  1450.0  1510.0\n",
       "Ragi_Maldandi          Kharif Crops  1500.0  1500.0  1550.0  1650.0  1725.0\n",
       "SAFFLOWER              Rabi Crops    2800.0  3000.0  3050.0  3300.0  3725.0\n",
       "SESAMUM                Kharif Crops  4200.0  4500.0  4600.0  4700.0  4800.0\n",
       "SORGUM(JAWAR)          Kharif Crops  1520.0  1520.0  1550.0  1590.0  1650.0\n",
       "SOYABEAN               Kharif Crops  2240.0  2560.0  2560.0  2600.0  2675.0\n",
       "SPILT GERRN GRAM       Kharif Crops  4400.0  4500.0  4600.0  4650.0  4800.0\n",
       "SPLIT BLACK GRAM       Kharif Crops  4300.0  4300.0  4350.0  4425.0  4575.0\n",
       "SUGAR-CANE             Other Crops    170.0   210.0   220.0   230.0   230.0\n",
       "SUNFLOWER              Kharif Crops  3700.0  3700.0  3750.0  3800.0  3850.0\n",
       "Soyabean_Black         Kharif Crops  2200.0  2500.0  2500.0  3800.0  3850.0\n",
       "Toria_Yellow           Rabi Crops    2970.0  3020.0  3020.0  3290.0  3725.0\n",
       "WHEAT(HUSKED)          Rabi Crops    1350.0  1400.0  1450.0  1525.0  3725.0\n",
       "WHEAT(UNHUSKED)        Rabi Crops    1350.0  1400.0  1450.0  1525.0  3725.0"
      ]
     },
     "execution_count": 30,
     "metadata": {},
     "output_type": "execute_result"
    }
   ],
   "source": [
    "pd.pivot_table(df, 'msprice', ['commodity', 'Type'], 'year')"
   ]
  },
  {
   "cell_type": "code",
   "execution_count": 31,
   "metadata": {
    "ExecuteTime": {
     "end_time": "2019-03-11T16:17:26.622053Z",
     "start_time": "2019-03-11T16:17:26.610782Z"
    }
   },
   "outputs": [],
   "source": [
    "all_names_index = df.set_index(['Type','commodity','year']).sort_index()"
   ]
  },
  {
   "cell_type": "code",
   "execution_count": 32,
   "metadata": {
    "ExecuteTime": {
     "end_time": "2019-03-11T16:17:26.641012Z",
     "start_time": "2019-03-11T16:17:26.631008Z"
    }
   },
   "outputs": [
    {
     "data": {
      "text/html": [
       "<div>\n",
       "<style scoped>\n",
       "    .dataframe tbody tr th:only-of-type {\n",
       "        vertical-align: middle;\n",
       "    }\n",
       "\n",
       "    .dataframe tbody tr th {\n",
       "        vertical-align: top;\n",
       "    }\n",
       "\n",
       "    .dataframe thead th {\n",
       "        text-align: right;\n",
       "    }\n",
       "</style>\n",
       "<table border=\"1\" class=\"dataframe\">\n",
       "  <thead>\n",
       "    <tr style=\"text-align: right;\">\n",
       "      <th></th>\n",
       "      <th></th>\n",
       "      <th></th>\n",
       "      <th>msprice</th>\n",
       "    </tr>\n",
       "    <tr>\n",
       "      <th>Type</th>\n",
       "      <th>commodity</th>\n",
       "      <th>year</th>\n",
       "      <th></th>\n",
       "    </tr>\n",
       "  </thead>\n",
       "  <tbody>\n",
       "    <tr>\n",
       "      <th rowspan=\"10\" valign=\"top\">Kharif Crops</th>\n",
       "      <th rowspan=\"5\" valign=\"top\">BAJRI</th>\n",
       "      <th>2012</th>\n",
       "      <td>1175.0</td>\n",
       "    </tr>\n",
       "    <tr>\n",
       "      <th>2013</th>\n",
       "      <td>1310.0</td>\n",
       "    </tr>\n",
       "    <tr>\n",
       "      <th>2014</th>\n",
       "      <td>1250.0</td>\n",
       "    </tr>\n",
       "    <tr>\n",
       "      <th>2015</th>\n",
       "      <td>1275.0</td>\n",
       "    </tr>\n",
       "    <tr>\n",
       "      <th>2016</th>\n",
       "      <td>1330.0</td>\n",
       "    </tr>\n",
       "    <tr>\n",
       "      <th rowspan=\"5\" valign=\"top\">COTTON</th>\n",
       "      <th>2012</th>\n",
       "      <td>3600.0</td>\n",
       "    </tr>\n",
       "    <tr>\n",
       "      <th>2013</th>\n",
       "      <td>3700.0</td>\n",
       "    </tr>\n",
       "    <tr>\n",
       "      <th>2014</th>\n",
       "      <td>3750.0</td>\n",
       "    </tr>\n",
       "    <tr>\n",
       "      <th>2015</th>\n",
       "      <td>3800.0</td>\n",
       "    </tr>\n",
       "    <tr>\n",
       "      <th>2016</th>\n",
       "      <td>3860.0</td>\n",
       "    </tr>\n",
       "  </tbody>\n",
       "</table>\n",
       "</div>"
      ],
      "text/plain": [
       "                             msprice\n",
       "Type         commodity year         \n",
       "Kharif Crops BAJRI     2012   1175.0\n",
       "                       2013   1310.0\n",
       "                       2014   1250.0\n",
       "                       2015   1275.0\n",
       "                       2016   1330.0\n",
       "             COTTON    2012   3600.0\n",
       "                       2013   3700.0\n",
       "                       2014   3750.0\n",
       "                       2015   3800.0\n",
       "                       2016   3860.0"
      ]
     },
     "execution_count": 32,
     "metadata": {},
     "output_type": "execute_result"
    }
   ],
   "source": [
    "all_names_index.head(10)"
   ]
  },
  {
   "cell_type": "code",
   "execution_count": 33,
   "metadata": {
    "ExecuteTime": {
     "end_time": "2019-03-11T16:17:26.650769Z",
     "start_time": "2019-03-11T16:17:26.642877Z"
    }
   },
   "outputs": [
    {
     "data": {
      "text/plain": [
       "Kharif Crops    90\n",
       "Rabi Crops      40\n",
       "Other Crops     25\n",
       "Name: Type, dtype: int64"
      ]
     },
     "execution_count": 33,
     "metadata": {},
     "output_type": "execute_result"
    }
   ],
   "source": [
    "df['Type'].value_counts()"
   ]
  },
  {
   "cell_type": "code",
   "execution_count": 34,
   "metadata": {
    "ExecuteTime": {
     "end_time": "2019-03-11T16:17:26.663342Z",
     "start_time": "2019-03-11T16:17:26.654106Z"
    },
    "scrolled": false
   },
   "outputs": [
    {
     "data": {
      "text/plain": [
       "Type          commodity             \n",
       "Kharif Crops  BAJRI                     5\n",
       "              COTTON                    5\n",
       "              Cotton_Long Staple        5\n",
       "              GR.NUT KERNELS            5\n",
       "              Jowar_Hybrid              5\n",
       "              MAIZE                     5\n",
       "              NIGER-SEED                5\n",
       "              PADDY-UNHUSKED            5\n",
       "              PIGEON PEA (TUR)          5\n",
       "              RICE(PADDY-HUS)           5\n",
       "              Ragi_Maldandi             5\n",
       "              SESAMUM                   5\n",
       "              SORGUM(JAWAR)             5\n",
       "              SOYABEAN                  5\n",
       "              SPILT GERRN GRAM          5\n",
       "              SPLIT BLACK GRAM          5\n",
       "              SUNFLOWER                 5\n",
       "              Soyabean_Black            5\n",
       "Other Crops   COCONUT                   5\n",
       "              Copra (Ball)_Yellow       5\n",
       "              Copra (Milling)_Yellow    5\n",
       "              Jute_Yellow               5\n",
       "              SUGAR-CANE                5\n",
       "Rabi Crops    BARLI                     5\n",
       "              Gram_Yellow               5\n",
       "              MUSTARD                   5\n",
       "              Masur_Yellow              5\n",
       "              SAFFLOWER                 5\n",
       "              Toria_Yellow              5\n",
       "              WHEAT(HUSKED)             5\n",
       "              WHEAT(UNHUSKED)           5\n",
       "Name: commodity, dtype: int64"
      ]
     },
     "execution_count": 34,
     "metadata": {},
     "output_type": "execute_result"
    }
   ],
   "source": [
    "df.groupby(df['Type'])['commodity'].value_counts()"
   ]
  },
  {
   "cell_type": "markdown",
   "metadata": {},
   "source": [
    "For Kharif crops:"
   ]
  },
  {
   "cell_type": "code",
   "execution_count": 35,
   "metadata": {
    "ExecuteTime": {
     "end_time": "2019-03-11T16:17:26.671664Z",
     "start_time": "2019-03-11T16:17:26.665103Z"
    }
   },
   "outputs": [
    {
     "data": {
      "text/plain": [
       "array(['PADDY-UNHUSKED', 'RICE(PADDY-HUS)', 'Jowar_Hybrid',\n",
       "       'SORGUM(JAWAR)', 'BAJRI', 'MAIZE', 'Ragi_Maldandi',\n",
       "       'PIGEON PEA (TUR)', 'SPILT GERRN GRAM', 'SPLIT BLACK GRAM',\n",
       "       'COTTON', 'Cotton_Long Staple', 'GR.NUT KERNELS', 'SUNFLOWER',\n",
       "       'Soyabean_Black', 'SOYABEAN', 'SESAMUM', 'NIGER-SEED'],\n",
       "      dtype=object)"
      ]
     },
     "execution_count": 35,
     "metadata": {},
     "output_type": "execute_result"
    }
   ],
   "source": [
    "df.groupby(df['Type'])['commodity'].unique()[0]"
   ]
  },
  {
   "cell_type": "code",
   "execution_count": 36,
   "metadata": {
    "ExecuteTime": {
     "end_time": "2019-03-11T16:17:26.680244Z",
     "start_time": "2019-03-11T16:17:26.673454Z"
    }
   },
   "outputs": [
    {
     "data": {
      "text/plain": [
       "'Kharif Crops'"
      ]
     },
     "execution_count": 36,
     "metadata": {},
     "output_type": "execute_result"
    }
   ],
   "source": [
    "df.groupby(df['Type'])['commodity'].unique().index[0]"
   ]
  },
  {
   "cell_type": "code",
   "execution_count": 37,
   "metadata": {
    "ExecuteTime": {
     "end_time": "2019-03-11T16:17:26.703468Z",
     "start_time": "2019-03-11T16:17:26.682893Z"
    }
   },
   "outputs": [
    {
     "name": "stdout",
     "output_type": "stream",
     "text": [
      "No. of  Kharif Crops  =  18\n",
      "No. of  Other Crops  =  5\n",
      "No. of  Rabi Crops  =  8\n"
     ]
    }
   ],
   "source": [
    "for i,name in enumerate(df.groupby(df['Type'])['commodity'].unique()):\n",
    "    print(\"No. of \", df.groupby(df['Type'])['commodity'].unique().index[i],\" = \", len(df.groupby(df['Type'])['commodity'].unique()[i]))"
   ]
  },
  {
   "cell_type": "code",
   "execution_count": 38,
   "metadata": {
    "ExecuteTime": {
     "end_time": "2019-03-11T16:17:26.712090Z",
     "start_time": "2019-03-11T16:17:26.705762Z"
    }
   },
   "outputs": [
    {
     "data": {
      "text/plain": [
       "PADDY-UNHUSKED        5\n",
       "PIGEON PEA (TUR)      5\n",
       "COTTON                5\n",
       "Cotton_Long Staple    5\n",
       "SORGUM(JAWAR)         5\n",
       "SPLIT BLACK GRAM      5\n",
       "SOYABEAN              5\n",
       "Soyabean_Black        5\n",
       "GR.NUT KERNELS        5\n",
       "RICE(PADDY-HUS)       5\n",
       "Jowar_Hybrid          5\n",
       "NIGER-SEED            5\n",
       "Ragi_Maldandi         5\n",
       "MAIZE                 5\n",
       "BAJRI                 5\n",
       "SUNFLOWER             5\n",
       "SESAMUM               5\n",
       "SPILT GERRN GRAM      5\n",
       "Name: commodity, dtype: int64"
      ]
     },
     "execution_count": 38,
     "metadata": {},
     "output_type": "execute_result"
    }
   ],
   "source": [
    "df[df['Type'].isin(['Kharif Crops'])]['commodity'].value_counts()"
   ]
  },
  {
   "cell_type": "code",
   "execution_count": 39,
   "metadata": {
    "ExecuteTime": {
     "end_time": "2019-03-11T16:17:26.721037Z",
     "start_time": "2019-03-11T16:17:26.713735Z"
    }
   },
   "outputs": [
    {
     "data": {
      "text/html": [
       "<div>\n",
       "<style scoped>\n",
       "    .dataframe tbody tr th:only-of-type {\n",
       "        vertical-align: middle;\n",
       "    }\n",
       "\n",
       "    .dataframe tbody tr th {\n",
       "        vertical-align: top;\n",
       "    }\n",
       "\n",
       "    .dataframe thead th {\n",
       "        text-align: right;\n",
       "    }\n",
       "</style>\n",
       "<table border=\"1\" class=\"dataframe\">\n",
       "  <thead>\n",
       "    <tr style=\"text-align: right;\">\n",
       "      <th></th>\n",
       "      <th>msprice</th>\n",
       "    </tr>\n",
       "    <tr>\n",
       "      <th>year</th>\n",
       "      <th></th>\n",
       "    </tr>\n",
       "  </thead>\n",
       "  <tbody>\n",
       "    <tr>\n",
       "      <th>2012</th>\n",
       "      <td>1280.0</td>\n",
       "    </tr>\n",
       "    <tr>\n",
       "      <th>2013</th>\n",
       "      <td>1345.0</td>\n",
       "    </tr>\n",
       "    <tr>\n",
       "      <th>2014</th>\n",
       "      <td>1400.0</td>\n",
       "    </tr>\n",
       "    <tr>\n",
       "      <th>2015</th>\n",
       "      <td>1450.0</td>\n",
       "    </tr>\n",
       "    <tr>\n",
       "      <th>2016</th>\n",
       "      <td>1510.0</td>\n",
       "    </tr>\n",
       "  </tbody>\n",
       "</table>\n",
       "</div>"
      ],
      "text/plain": [
       "      msprice\n",
       "year         \n",
       "2012   1280.0\n",
       "2013   1345.0\n",
       "2014   1400.0\n",
       "2015   1450.0\n",
       "2016   1510.0"
      ]
     },
     "execution_count": 39,
     "metadata": {},
     "output_type": "execute_result"
    }
   ],
   "source": [
    "all_names_index.loc['Kharif Crops', 'RICE(PADDY-HUS)']"
   ]
  },
  {
   "cell_type": "code",
   "execution_count": 40,
   "metadata": {
    "ExecuteTime": {
     "end_time": "2019-03-11T16:17:26.726308Z",
     "start_time": "2019-03-11T16:17:26.722842Z"
    }
   },
   "outputs": [],
   "source": [
    "def name_plot(crop_type, name):\n",
    "    data = all_names_index.loc[crop_type, name]\n",
    "    plt.plot(data.index, data.values, '--', marker='*')"
   ]
  },
  {
   "cell_type": "code",
   "execution_count": 281,
   "metadata": {
    "ExecuteTime": {
     "end_time": "2019-03-12T16:45:57.370949Z",
     "start_time": "2019-03-12T16:45:55.527116Z"
    },
    "scrolled": false
   },
   "outputs": [
    {
     "data": {
      "image/png": "[encoded data removed]",
      "text/plain": [
       "<Figure size 1296x720 with 18 Axes>"
      ]
     },
     "metadata": {},
     "output_type": "display_data"
    }
   ],
   "source": [
    "fig = plt.figure(figsize = (18, 10))\n",
    "fig.subplots_adjust(hspace=0.4, wspace=0.4)\n",
    "for i, name in enumerate(df[df['Type'].isin(['Kharif Crops'])]['commodity'].value_counts().index):\n",
    "    ax = fig.add_subplot(3, 6, i+1)\n",
    "    name_plot('Kharif Crops', name)\n",
    "    plt.title(name)\n",
    "#     plt.xlabel(\"year\")\n",
    "#     plt.ylabel(\"count\")\n",
    "# fig.tight_layout()\n",
    "\n",
    "plt.text(1998, 4300, 'Year', ha='center', va='center')\n",
    "plt.text(1979, 5000, 'MS Price', ha='center', va='center', rotation='vertical')\n",
    "plt.suptitle(\"Kharif Crops\", fontsize=23, color='black', style='normal', y=1.01)\n",
    "plt.show()"
   ]
  },
  {
   "cell_type": "code",
   "execution_count": 275,
   "metadata": {
    "ExecuteTime": {
     "end_time": "2019-03-12T16:44:40.078388Z",
     "start_time": "2019-03-12T16:44:38.853065Z"
    }
   },
   "outputs": [
    {
     "data": {
      "text/plain": [
       "Text(0.5, 1.01, 'Rabi Crops')"
      ]
     },
     "execution_count": 275,
     "metadata": {},
     "output_type": "execute_result"
    },
    {
     "data": {
      "image/png": "[encoded data removed]",
      "text/plain": [
       "<Figure size 1296x720 with 8 Axes>"
      ]
     },
     "metadata": {},
     "output_type": "display_data"
    }
   ],
   "source": [
    "fig = plt.figure(figsize = (18, 10))\n",
    "fig.subplots_adjust(hspace=0.4, wspace=0.4)\n",
    "for i, name in enumerate(df[df['Type'].isin(['Rabi Crops'])]['commodity'].value_counts().index):\n",
    "    ax = fig.add_subplot(2, 4, i+1)\n",
    "    name_plot('Rabi Crops', name)\n",
    "    plt.title(name)\n",
    "#     plt.xlabel(\"year\")\n",
    "#     plt.ylabel(\"count\")\n",
    "# fig.tight_layout()\n",
    "\n",
    "plt.text(2006, 2500, 'Year', ha='center', va='center')\n",
    "plt.text(1992, 3500, 'MS Price', ha='center', va='center', rotation='vertical')\n",
    "plt.suptitle(\"Rabi Crops\", fontsize=23, color='black', style='normal', y=1.01)"
   ]
  },
  {
   "cell_type": "code",
   "execution_count": 288,
   "metadata": {
    "ExecuteTime": {
     "end_time": "2019-03-12T16:47:10.088514Z",
     "start_time": "2019-03-12T16:47:09.374224Z"
    }
   },
   "outputs": [
    {
     "data": {
      "text/plain": [
       "Text(0.5, 1.01, 'Other Crops')"
      ]
     },
     "execution_count": 288,
     "metadata": {},
     "output_type": "execute_result"
    },
    {
     "data": {
      "image/png": "[encoded data removed]",
      "text/plain": [
       "<Figure size 1296x360 with 5 Axes>"
      ]
     },
     "metadata": {},
     "output_type": "display_data"
    }
   ],
   "source": [
    "fig = plt.figure(figsize = (18, 5))\n",
    "fig.subplots_adjust(hspace=0.4, wspace=0.4)\n",
    "for i, name in enumerate(df[df['Type'].isin(['Other Crops'])]['commodity'].value_counts().index):\n",
    "    ax = fig.add_subplot(1, 5, i+1)\n",
    "    name_plot('Other Crops', name)\n",
    "    plt.title(name)\n",
    "#     plt.xlabel(\"year\")\n",
    "#     plt.ylabel(\"count\")\n",
    "# fig.tight_layout()\n",
    "\n",
    "plt.text(2001, 4960, 'Year', ha='center', va='center')\n",
    "plt.text(1985, 5500, 'MS Price', ha='center', va='center', rotation='vertical')\n",
    "plt.suptitle(\"Other Crops\", fontsize=23, color='black', style='normal', y=1.01)"
   ]
  },
  {
   "cell_type": "markdown",
   "metadata": {},
   "source": [
    "There is eveidently some deviation from a linear behaviour in some of the ms prices over the years. We assume that that prices which lie outside the 1.5 times the range between the first and the third quartiles are outliers."
   ]
  },
  {
   "cell_type": "markdown",
   "metadata": {},
   "source": [
    "# Removing Outliers from CMO Data"
   ]
  },
  {
   "cell_type": "code",
   "execution_count": 44,
   "metadata": {
    "ExecuteTime": {
     "end_time": "2019-03-11T16:17:34.860928Z",
     "start_time": "2019-03-11T16:17:31.500106Z"
    }
   },
   "outputs": [
    {
     "name": "stderr",
     "output_type": "stream",
     "text": [
      "/anaconda3/lib/python3.6/site-packages/ipykernel_launcher.py:14: SettingWithCopyWarning: \n",
      "A value is trying to be set on a copy of a slice from a DataFrame.\n",
      "Try using .loc[row_indexer,col_indexer] = value instead\n",
      "\n",
      "See the caveats in the documentation: http://pandas.pydata.org/pandas-docs/stable/indexing.html#indexing-view-versus-copy\n",
      "  \n",
      "/anaconda3/lib/python3.6/site-packages/ipykernel_launcher.py:15: SettingWithCopyWarning: \n",
      "A value is trying to be set on a copy of a slice from a DataFrame\n",
      "\n",
      "See the caveats in the documentation: http://pandas.pydata.org/pandas-docs/stable/indexing.html#indexing-view-versus-copy\n",
      "  from ipykernel import kernelapp as app\n"
     ]
    }
   ],
   "source": [
    "data_main=pd.DataFrame()\n",
    "commodities=list(df[\"commodity\"].unique())\n",
    "for commodity in commodities:\n",
    "    data_temp=df[df[\"commodity\"]==commodity]\n",
    "    actual=len(data_temp)\n",
    "    if actual>1:\n",
    "        q1 = data_temp[\"msprice\"].quantile(0.25)\n",
    "        q3 = data_temp[\"msprice\"].quantile(0.75)\n",
    "        iqr = q3-q1 #Interquartile range\n",
    "        lower_threshold  = q1-1.5*iqr\n",
    "        upper_threshold = q3+1.5*iqr\n",
    "        filtered_values=[upper_threshold if x> upper_threshold else x for x in data_temp[\"msprice\"].tolist()]\n",
    "        filtered_values=[lower_threshold if x< lower_threshold else x for x in filtered_values]\n",
    "        data_temp[\"msprice\"]=filtered_values\n",
    "        data_temp.sort_values(\"year\",inplace=True)\n",
    "\n",
    "    data_main=pd.concat([data_main,data_temp])\n",
    "    data_main.reset_index(drop=True,inplace=True)\n"
   ]
  },
  {
   "cell_type": "markdown",
   "metadata": {},
   "source": [
    "Let's print out our culprits:"
   ]
  },
  {
   "cell_type": "code",
   "execution_count": 45,
   "metadata": {
    "ExecuteTime": {
     "end_time": "2019-03-11T16:17:34.885029Z",
     "start_time": "2019-03-11T16:17:34.863198Z"
    },
    "scrolled": false
   },
   "outputs": [
    {
     "data": {
      "text/html": [
       "<div>\n",
       "<style scoped>\n",
       "    .dataframe tbody tr th:only-of-type {\n",
       "        vertical-align: middle;\n",
       "    }\n",
       "\n",
       "    .dataframe tbody tr th {\n",
       "        vertical-align: top;\n",
       "    }\n",
       "\n",
       "    .dataframe thead th {\n",
       "        text-align: right;\n",
       "    }\n",
       "</style>\n",
       "<table border=\"1\" class=\"dataframe\">\n",
       "  <thead>\n",
       "    <tr style=\"text-align: right;\">\n",
       "      <th></th>\n",
       "      <th>commodity</th>\n",
       "      <th>year</th>\n",
       "      <th>Type</th>\n",
       "      <th>msprice</th>\n",
       "    </tr>\n",
       "  </thead>\n",
       "  <tbody>\n",
       "    <tr>\n",
       "      <th>5</th>\n",
       "      <td>MAIZE</td>\n",
       "      <td>2012</td>\n",
       "      <td>Kharif Crops</td>\n",
       "      <td>1175.0</td>\n",
       "    </tr>\n",
       "    <tr>\n",
       "      <th>7</th>\n",
       "      <td>PIGEON PEA (TUR)</td>\n",
       "      <td>2012</td>\n",
       "      <td>Kharif Crops</td>\n",
       "      <td>3850.0</td>\n",
       "    </tr>\n",
       "    <tr>\n",
       "      <th>12</th>\n",
       "      <td>GR.NUT KERNELS</td>\n",
       "      <td>2012</td>\n",
       "      <td>Kharif Crops</td>\n",
       "      <td>3700.0</td>\n",
       "    </tr>\n",
       "    <tr>\n",
       "      <th>15</th>\n",
       "      <td>SOYABEAN</td>\n",
       "      <td>2012</td>\n",
       "      <td>Kharif Crops</td>\n",
       "      <td>2240.0</td>\n",
       "    </tr>\n",
       "    <tr>\n",
       "      <th>30</th>\n",
       "      <td>SUGAR-CANE</td>\n",
       "      <td>2012</td>\n",
       "      <td>Other Crops</td>\n",
       "      <td>170.0</td>\n",
       "    </tr>\n",
       "    <tr>\n",
       "      <th>129</th>\n",
       "      <td>MAIZE</td>\n",
       "      <td>2016</td>\n",
       "      <td>Kharif Crops</td>\n",
       "      <td>1365.0</td>\n",
       "    </tr>\n",
       "    <tr>\n",
       "      <th>131</th>\n",
       "      <td>PIGEON PEA (TUR)</td>\n",
       "      <td>2016</td>\n",
       "      <td>Kharif Crops</td>\n",
       "      <td>4625.0</td>\n",
       "    </tr>\n",
       "    <tr>\n",
       "      <th>136</th>\n",
       "      <td>GR.NUT KERNELS</td>\n",
       "      <td>2016</td>\n",
       "      <td>Kharif Crops</td>\n",
       "      <td>4120.0</td>\n",
       "    </tr>\n",
       "    <tr>\n",
       "      <th>139</th>\n",
       "      <td>SOYABEAN</td>\n",
       "      <td>2016</td>\n",
       "      <td>Kharif Crops</td>\n",
       "      <td>2675.0</td>\n",
       "    </tr>\n",
       "    <tr>\n",
       "      <th>142</th>\n",
       "      <td>WHEAT(HUSKED)</td>\n",
       "      <td>2016</td>\n",
       "      <td>Rabi Crops</td>\n",
       "      <td>3725.0</td>\n",
       "    </tr>\n",
       "    <tr>\n",
       "      <th>143</th>\n",
       "      <td>WHEAT(UNHUSKED)</td>\n",
       "      <td>2016</td>\n",
       "      <td>Rabi Crops</td>\n",
       "      <td>3725.0</td>\n",
       "    </tr>\n",
       "    <tr>\n",
       "      <th>144</th>\n",
       "      <td>BARLI</td>\n",
       "      <td>2016</td>\n",
       "      <td>Rabi Crops</td>\n",
       "      <td>3725.0</td>\n",
       "    </tr>\n",
       "    <tr>\n",
       "      <th>149</th>\n",
       "      <td>Toria_Yellow</td>\n",
       "      <td>2016</td>\n",
       "      <td>Rabi Crops</td>\n",
       "      <td>3725.0</td>\n",
       "    </tr>\n",
       "    <tr>\n",
       "      <th>25</th>\n",
       "      <td>MAIZE</td>\n",
       "      <td>2012</td>\n",
       "      <td>Kharif Crops</td>\n",
       "      <td>1287.5</td>\n",
       "    </tr>\n",
       "    <tr>\n",
       "      <th>29</th>\n",
       "      <td>MAIZE</td>\n",
       "      <td>2016</td>\n",
       "      <td>Kharif Crops</td>\n",
       "      <td>1347.5</td>\n",
       "    </tr>\n",
       "    <tr>\n",
       "      <th>35</th>\n",
       "      <td>PIGEON PEA (TUR)</td>\n",
       "      <td>2012</td>\n",
       "      <td>Kharif Crops</td>\n",
       "      <td>4112.5</td>\n",
       "    </tr>\n",
       "    <tr>\n",
       "      <th>39</th>\n",
       "      <td>PIGEON PEA (TUR)</td>\n",
       "      <td>2016</td>\n",
       "      <td>Kharif Crops</td>\n",
       "      <td>4612.5</td>\n",
       "    </tr>\n",
       "    <tr>\n",
       "      <th>60</th>\n",
       "      <td>GR.NUT KERNELS</td>\n",
       "      <td>2012</td>\n",
       "      <td>Kharif Crops</td>\n",
       "      <td>3955.0</td>\n",
       "    </tr>\n",
       "    <tr>\n",
       "      <th>64</th>\n",
       "      <td>GR.NUT KERNELS</td>\n",
       "      <td>2016</td>\n",
       "      <td>Kharif Crops</td>\n",
       "      <td>4075.0</td>\n",
       "    </tr>\n",
       "    <tr>\n",
       "      <th>75</th>\n",
       "      <td>SOYABEAN</td>\n",
       "      <td>2012</td>\n",
       "      <td>Kharif Crops</td>\n",
       "      <td>2500.0</td>\n",
       "    </tr>\n",
       "    <tr>\n",
       "      <th>79</th>\n",
       "      <td>SOYABEAN</td>\n",
       "      <td>2016</td>\n",
       "      <td>Kharif Crops</td>\n",
       "      <td>2660.0</td>\n",
       "    </tr>\n",
       "    <tr>\n",
       "      <th>94</th>\n",
       "      <td>WHEAT(HUSKED)</td>\n",
       "      <td>2016</td>\n",
       "      <td>Rabi Crops</td>\n",
       "      <td>1712.5</td>\n",
       "    </tr>\n",
       "    <tr>\n",
       "      <th>99</th>\n",
       "      <td>WHEAT(UNHUSKED)</td>\n",
       "      <td>2016</td>\n",
       "      <td>Rabi Crops</td>\n",
       "      <td>1712.5</td>\n",
       "    </tr>\n",
       "    <tr>\n",
       "      <th>104</th>\n",
       "      <td>BARLI</td>\n",
       "      <td>2016</td>\n",
       "      <td>Rabi Crops</td>\n",
       "      <td>1412.5</td>\n",
       "    </tr>\n",
       "    <tr>\n",
       "      <th>129</th>\n",
       "      <td>Toria_Yellow</td>\n",
       "      <td>2016</td>\n",
       "      <td>Rabi Crops</td>\n",
       "      <td>3695.0</td>\n",
       "    </tr>\n",
       "    <tr>\n",
       "      <th>150</th>\n",
       "      <td>SUGAR-CANE</td>\n",
       "      <td>2012</td>\n",
       "      <td>Other Crops</td>\n",
       "      <td>180.0</td>\n",
       "    </tr>\n",
       "  </tbody>\n",
       "</table>\n",
       "</div>"
      ],
      "text/plain": [
       "            commodity  year          Type  msprice\n",
       "5               MAIZE  2012  Kharif Crops   1175.0\n",
       "7    PIGEON PEA (TUR)  2012  Kharif Crops   3850.0\n",
       "12     GR.NUT KERNELS  2012  Kharif Crops   3700.0\n",
       "15           SOYABEAN  2012  Kharif Crops   2240.0\n",
       "30         SUGAR-CANE  2012   Other Crops    170.0\n",
       "129             MAIZE  2016  Kharif Crops   1365.0\n",
       "131  PIGEON PEA (TUR)  2016  Kharif Crops   4625.0\n",
       "136    GR.NUT KERNELS  2016  Kharif Crops   4120.0\n",
       "139          SOYABEAN  2016  Kharif Crops   2675.0\n",
       "142     WHEAT(HUSKED)  2016    Rabi Crops   3725.0\n",
       "143   WHEAT(UNHUSKED)  2016    Rabi Crops   3725.0\n",
       "144             BARLI  2016    Rabi Crops   3725.0\n",
       "149      Toria_Yellow  2016    Rabi Crops   3725.0\n",
       "25              MAIZE  2012  Kharif Crops   1287.5\n",
       "29              MAIZE  2016  Kharif Crops   1347.5\n",
       "35   PIGEON PEA (TUR)  2012  Kharif Crops   4112.5\n",
       "39   PIGEON PEA (TUR)  2016  Kharif Crops   4612.5\n",
       "60     GR.NUT KERNELS  2012  Kharif Crops   3955.0\n",
       "64     GR.NUT KERNELS  2016  Kharif Crops   4075.0\n",
       "75           SOYABEAN  2012  Kharif Crops   2500.0\n",
       "79           SOYABEAN  2016  Kharif Crops   2660.0\n",
       "94      WHEAT(HUSKED)  2016    Rabi Crops   1712.5\n",
       "99    WHEAT(UNHUSKED)  2016    Rabi Crops   1712.5\n",
       "104             BARLI  2016    Rabi Crops   1412.5\n",
       "129      Toria_Yellow  2016    Rabi Crops   3695.0\n",
       "150        SUGAR-CANE  2012   Other Crops    180.0"
      ]
     },
     "execution_count": 45,
     "metadata": {},
     "output_type": "execute_result"
    }
   ],
   "source": [
    "pd.concat([df,data_main]).drop_duplicates(keep=False)"
   ]
  },
  {
   "cell_type": "markdown",
   "metadata": {},
   "source": [
    "Let's plot box plots for all the commodities which consist of outliers:"
   ]
  },
  {
   "cell_type": "code",
   "execution_count": 46,
   "metadata": {
    "ExecuteTime": {
     "end_time": "2019-03-11T16:17:34.923546Z",
     "start_time": "2019-03-11T16:17:34.886912Z"
    }
   },
   "outputs": [],
   "source": [
    "def plot_commodity_outliers(df): #plot commodity price outliers in a particular type \n",
    "    commodities=list(df[\"commodity\"].unique())\n",
    "    flag=0\n",
    "    for commodity in commodities:\n",
    "        data_temp=df[df[\"commodity\"]==commodity]\n",
    "        actual=len(data_temp)\n",
    "        if actual>1:\n",
    "            q1 = data_temp[\"msprice\"].quantile(0.25)\n",
    "            q3 = data_temp[\"msprice\"].quantile(0.75)\n",
    "            iqr = q3-q1 #Interquartile range\n",
    "            lower_threshold  = q1-1.5*iqr\n",
    "            upper_threshold = q3+1.5*iqr\n",
    "            data_filter=data_temp[(data_temp[\"msprice\"] > lower_threshold) \n",
    "                                  & (data_temp[\"msprice\"] < upper_threshold)]\n",
    "            filtered=len(data_filter)\n",
    "            \n",
    "            #we will plot only those plots where the outliers are present\n",
    "            if actual!=filtered:\n",
    "                flag=1\n",
    "                plt.figure(figsize=(6,4))\n",
    "                plt.title(commodity)\n",
    "                sns.boxplot(x=\"commodity\", y=\"msprice\",data=data_filter) #box plot\n",
    "                sns.stripplot(x=\"commodity\", y=\"msprice\",data=data_temp,jitter=True,marker='o',alpha=0.5,color='red') #overlay dat points (show outliers which are not compensated)\n",
    "                patch_1 = mpatches.Patch(color='#31749F', label=commodity)\n",
    "                patch_2 = mpatches.Patch(color='red',alpha=0.5,label='Data Points')\n",
    "                plt.legend(handles=[patch_1,patch_2])\n",
    "                plt.show()\n",
    "    if flag==0:\n",
    "        print(\"No commodity price outlier in \",df[\"Type\"].iloc[0] )"
   ]
  },
  {
   "cell_type": "markdown",
   "metadata": {},
   "source": [
    "### Kharif Crops"
   ]
  },
  {
   "cell_type": "code",
   "execution_count": 47,
   "metadata": {
    "ExecuteTime": {
     "end_time": "2019-03-11T16:17:35.947223Z",
     "start_time": "2019-03-11T16:17:34.925689Z"
    },
    "scrolled": false
   },
   "outputs": [
    {
     "data": {
      "image/png": "[encoded data removed]",
      "text/plain": [
       "<Figure size 432x288 with 1 Axes>"
      ]
     },
     "metadata": {},
     "output_type": "display_data"
    },
    {
     "data": {
      "image/png": "[encoded data removed]",
      "text/plain": [
       "<Figure size 432x288 with 1 Axes>"
      ]
     },
     "metadata": {},
     "output_type": "display_data"
    },
    {
     "data": {
      "image/png": "[encoded data removed]",
      "text/plain": [
       "<Figure size 432x288 with 1 Axes>"
      ]
     },
     "metadata": {},
     "output_type": "display_data"
    },
    {
     "data": {
      "image/png": "[encoded data removed]",
      "text/plain": [
       "<Figure size 432x288 with 1 Axes>"
      ]
     },
     "metadata": {},
     "output_type": "display_data"
    },
    {
     "data": {
      "image/png": "[encoded data removed]",
      "text/plain": [
       "<Figure size 432x288 with 1 Axes>"
      ]
     },
     "metadata": {},
     "output_type": "display_data"
    }
   ],
   "source": [
    "plot_commodity_outliers(df[df[\"Type\"]==\"Kharif Crops\"])"
   ]
  },
  {
   "cell_type": "markdown",
   "metadata": {},
   "source": [
    "### Rabi Crops"
   ]
  },
  {
   "cell_type": "code",
   "execution_count": 48,
   "metadata": {
    "ExecuteTime": {
     "end_time": "2019-03-11T16:17:36.831576Z",
     "start_time": "2019-03-11T16:17:35.949550Z"
    },
    "scrolled": false
   },
   "outputs": [
    {
     "data": {
      "image/png": "[encoded data removed]",
      "text/plain": [
       "<Figure size 432x288 with 1 Axes>"
      ]
     },
     "metadata": {},
     "output_type": "display_data"
    },
    {
     "data": {
      "image/png": "[encoded data removed]",
      "text/plain": [
       "<Figure size 432x288 with 1 Axes>"
      ]
     },
     "metadata": {},
     "output_type": "display_data"
    },
    {
     "data": {
      "image/png": "[encoded data removed]",
      "text/plain": [
       "<Figure size 432x288 with 1 Axes>"
      ]
     },
     "metadata": {},
     "output_type": "display_data"
    },
    {
     "data": {
      "image/png": "[encoded data removed]",
      "text/plain": [
       "<Figure size 432x288 with 1 Axes>"
      ]
     },
     "metadata": {},
     "output_type": "display_data"
    }
   ],
   "source": [
    "plot_commodity_outliers(df[df[\"Type\"]==\"Rabi Crops\"])"
   ]
  },
  {
   "cell_type": "markdown",
   "metadata": {},
   "source": [
    "### Other Crops"
   ]
  },
  {
   "cell_type": "code",
   "execution_count": 49,
   "metadata": {
    "ExecuteTime": {
     "end_time": "2019-03-11T16:17:37.060769Z",
     "start_time": "2019-03-11T16:17:36.833733Z"
    },
    "scrolled": true
   },
   "outputs": [
    {
     "data": {
      "image/png": "[encoded data removed]",
      "text/plain": [
       "<Figure size 432x288 with 1 Axes>"
      ]
     },
     "metadata": {},
     "output_type": "display_data"
    }
   ],
   "source": [
    "plot_commodity_outliers(df[df[\"Type\"]==\"Other Crops\"])"
   ]
  },
  {
   "cell_type": "code",
   "execution_count": 50,
   "metadata": {
    "ExecuteTime": {
     "end_time": "2019-03-11T16:17:37.075953Z",
     "start_time": "2019-03-11T16:17:37.064906Z"
    }
   },
   "outputs": [],
   "source": [
    "data_main.to_csv(\"CMO_MSP_Mandi_final.csv\",index=False)"
   ]
  },
  {
   "cell_type": "markdown",
   "metadata": {},
   "source": [
    "# Data in the Monthly Mandi data (_df2_)"
   ]
  },
  {
   "cell_type": "markdown",
   "metadata": {},
   "source": [
    "# Monthly Data of crop sale prices from the Mandi"
   ]
  },
  {
   "cell_type": "code",
   "execution_count": 72,
   "metadata": {
    "ExecuteTime": {
     "end_time": "2019-03-11T16:22:47.040277Z",
     "start_time": "2019-03-11T16:22:42.260975Z"
    }
   },
   "outputs": [],
   "source": [
    "df2 = read_csv(r\"/Users/vibhu/Desktop/Untitled Folder/drive-download-20190303T055038Z-001/Monthly_data_cmo.csv\", \n",
    "               parse_dates = [[2,3]],infer_datetime_format=True)"
   ]
  },
  {
   "cell_type": "code",
   "execution_count": 73,
   "metadata": {
    "ExecuteTime": {
     "end_time": "2019-03-11T16:22:48.667863Z",
     "start_time": "2019-03-11T16:22:48.656670Z"
    },
    "scrolled": false
   },
   "outputs": [
    {
     "data": {
      "text/html": [
       "<div>\n",
       "<style scoped>\n",
       "    .dataframe tbody tr th:only-of-type {\n",
       "        vertical-align: middle;\n",
       "    }\n",
       "\n",
       "    .dataframe tbody tr th {\n",
       "        vertical-align: top;\n",
       "    }\n",
       "\n",
       "    .dataframe thead th {\n",
       "        text-align: right;\n",
       "    }\n",
       "</style>\n",
       "<table border=\"1\" class=\"dataframe\">\n",
       "  <thead>\n",
       "    <tr style=\"text-align: right;\">\n",
       "      <th></th>\n",
       "      <th>Year_Month</th>\n",
       "      <th>APMC</th>\n",
       "      <th>Commodity</th>\n",
       "      <th>arrivals_in_qtl</th>\n",
       "      <th>min_price</th>\n",
       "      <th>max_price</th>\n",
       "      <th>modal_price</th>\n",
       "      <th>date</th>\n",
       "      <th>district_name</th>\n",
       "      <th>state_name</th>\n",
       "    </tr>\n",
       "  </thead>\n",
       "  <tbody>\n",
       "    <tr>\n",
       "      <th>0</th>\n",
       "      <td>2015-04-01</td>\n",
       "      <td>Ahmednagar</td>\n",
       "      <td>Bajri</td>\n",
       "      <td>79</td>\n",
       "      <td>1406</td>\n",
       "      <td>1538</td>\n",
       "      <td>1463</td>\n",
       "      <td>2015-04</td>\n",
       "      <td>Ahmadnagar</td>\n",
       "      <td>Maharashtra</td>\n",
       "    </tr>\n",
       "    <tr>\n",
       "      <th>1</th>\n",
       "      <td>2016-04-01</td>\n",
       "      <td>Ahmednagar</td>\n",
       "      <td>Bajri</td>\n",
       "      <td>106</td>\n",
       "      <td>1788</td>\n",
       "      <td>1925</td>\n",
       "      <td>1875</td>\n",
       "      <td>2016-04</td>\n",
       "      <td>Ahmadnagar</td>\n",
       "      <td>Maharashtra</td>\n",
       "    </tr>\n",
       "    <tr>\n",
       "      <th>2</th>\n",
       "      <td>2015-04-01</td>\n",
       "      <td>Ahmednagar</td>\n",
       "      <td>Wheat(Husked)</td>\n",
       "      <td>1253</td>\n",
       "      <td>1572</td>\n",
       "      <td>1890</td>\n",
       "      <td>1731</td>\n",
       "      <td>2015-04</td>\n",
       "      <td>Ahmadnagar</td>\n",
       "      <td>Maharashtra</td>\n",
       "    </tr>\n",
       "    <tr>\n",
       "      <th>3</th>\n",
       "      <td>2016-04-01</td>\n",
       "      <td>Ahmednagar</td>\n",
       "      <td>Wheat(Husked)</td>\n",
       "      <td>387</td>\n",
       "      <td>1750</td>\n",
       "      <td>2220</td>\n",
       "      <td>1999</td>\n",
       "      <td>2016-04</td>\n",
       "      <td>Ahmadnagar</td>\n",
       "      <td>Maharashtra</td>\n",
       "    </tr>\n",
       "    <tr>\n",
       "      <th>4</th>\n",
       "      <td>2015-04-01</td>\n",
       "      <td>Ahmednagar</td>\n",
       "      <td>Sorgum(Jawar)</td>\n",
       "      <td>3825</td>\n",
       "      <td>1600</td>\n",
       "      <td>2200</td>\n",
       "      <td>1900</td>\n",
       "      <td>2015-04</td>\n",
       "      <td>Ahmadnagar</td>\n",
       "      <td>Maharashtra</td>\n",
       "    </tr>\n",
       "  </tbody>\n",
       "</table>\n",
       "</div>"
      ],
      "text/plain": [
       "  Year_Month        APMC      Commodity  arrivals_in_qtl  min_price  \\\n",
       "0 2015-04-01  Ahmednagar          Bajri               79       1406   \n",
       "1 2016-04-01  Ahmednagar          Bajri              106       1788   \n",
       "2 2015-04-01  Ahmednagar  Wheat(Husked)             1253       1572   \n",
       "3 2016-04-01  Ahmednagar  Wheat(Husked)              387       1750   \n",
       "4 2015-04-01  Ahmednagar  Sorgum(Jawar)             3825       1600   \n",
       "\n",
       "   max_price  modal_price     date district_name   state_name  \n",
       "0       1538         1463  2015-04    Ahmadnagar  Maharashtra  \n",
       "1       1925         1875  2016-04    Ahmadnagar  Maharashtra  \n",
       "2       1890         1731  2015-04    Ahmadnagar  Maharashtra  \n",
       "3       2220         1999  2016-04    Ahmadnagar  Maharashtra  \n",
       "4       2200         1900  2015-04    Ahmadnagar  Maharashtra  "
      ]
     },
     "execution_count": 73,
     "metadata": {},
     "output_type": "execute_result"
    }
   ],
   "source": [
    "df2.head()"
   ]
  },
  {
   "cell_type": "code",
   "execution_count": 74,
   "metadata": {
    "ExecuteTime": {
     "end_time": "2019-03-11T16:22:57.792108Z",
     "start_time": "2019-03-11T16:22:57.788271Z"
    }
   },
   "outputs": [],
   "source": [
    "df2['Year_Month'] = pd.to_datetime(df2['Year_Month'])"
   ]
  },
  {
   "cell_type": "code",
   "execution_count": 75,
   "metadata": {
    "ExecuteTime": {
     "end_time": "2019-03-11T16:22:59.621914Z",
     "start_time": "2019-03-11T16:22:59.611301Z"
    }
   },
   "outputs": [
    {
     "data": {
      "text/html": [
       "<div>\n",
       "<style scoped>\n",
       "    .dataframe tbody tr th:only-of-type {\n",
       "        vertical-align: middle;\n",
       "    }\n",
       "\n",
       "    .dataframe tbody tr th {\n",
       "        vertical-align: top;\n",
       "    }\n",
       "\n",
       "    .dataframe thead th {\n",
       "        text-align: right;\n",
       "    }\n",
       "</style>\n",
       "<table border=\"1\" class=\"dataframe\">\n",
       "  <thead>\n",
       "    <tr style=\"text-align: right;\">\n",
       "      <th></th>\n",
       "      <th>Year_Month</th>\n",
       "      <th>APMC</th>\n",
       "      <th>Commodity</th>\n",
       "      <th>arrivals_in_qtl</th>\n",
       "      <th>min_price</th>\n",
       "      <th>max_price</th>\n",
       "      <th>modal_price</th>\n",
       "      <th>date</th>\n",
       "      <th>district_name</th>\n",
       "      <th>state_name</th>\n",
       "    </tr>\n",
       "  </thead>\n",
       "  <tbody>\n",
       "    <tr>\n",
       "      <th>0</th>\n",
       "      <td>2015-04-01</td>\n",
       "      <td>Ahmednagar</td>\n",
       "      <td>Bajri</td>\n",
       "      <td>79</td>\n",
       "      <td>1406</td>\n",
       "      <td>1538</td>\n",
       "      <td>1463</td>\n",
       "      <td>2015-04</td>\n",
       "      <td>Ahmadnagar</td>\n",
       "      <td>Maharashtra</td>\n",
       "    </tr>\n",
       "    <tr>\n",
       "      <th>1</th>\n",
       "      <td>2016-04-01</td>\n",
       "      <td>Ahmednagar</td>\n",
       "      <td>Bajri</td>\n",
       "      <td>106</td>\n",
       "      <td>1788</td>\n",
       "      <td>1925</td>\n",
       "      <td>1875</td>\n",
       "      <td>2016-04</td>\n",
       "      <td>Ahmadnagar</td>\n",
       "      <td>Maharashtra</td>\n",
       "    </tr>\n",
       "    <tr>\n",
       "      <th>2</th>\n",
       "      <td>2015-04-01</td>\n",
       "      <td>Ahmednagar</td>\n",
       "      <td>Wheat(Husked)</td>\n",
       "      <td>1253</td>\n",
       "      <td>1572</td>\n",
       "      <td>1890</td>\n",
       "      <td>1731</td>\n",
       "      <td>2015-04</td>\n",
       "      <td>Ahmadnagar</td>\n",
       "      <td>Maharashtra</td>\n",
       "    </tr>\n",
       "    <tr>\n",
       "      <th>3</th>\n",
       "      <td>2016-04-01</td>\n",
       "      <td>Ahmednagar</td>\n",
       "      <td>Wheat(Husked)</td>\n",
       "      <td>387</td>\n",
       "      <td>1750</td>\n",
       "      <td>2220</td>\n",
       "      <td>1999</td>\n",
       "      <td>2016-04</td>\n",
       "      <td>Ahmadnagar</td>\n",
       "      <td>Maharashtra</td>\n",
       "    </tr>\n",
       "    <tr>\n",
       "      <th>4</th>\n",
       "      <td>2015-04-01</td>\n",
       "      <td>Ahmednagar</td>\n",
       "      <td>Sorgum(Jawar)</td>\n",
       "      <td>3825</td>\n",
       "      <td>1600</td>\n",
       "      <td>2200</td>\n",
       "      <td>1900</td>\n",
       "      <td>2015-04</td>\n",
       "      <td>Ahmadnagar</td>\n",
       "      <td>Maharashtra</td>\n",
       "    </tr>\n",
       "  </tbody>\n",
       "</table>\n",
       "</div>"
      ],
      "text/plain": [
       "  Year_Month        APMC      Commodity  arrivals_in_qtl  min_price  \\\n",
       "0 2015-04-01  Ahmednagar          Bajri               79       1406   \n",
       "1 2016-04-01  Ahmednagar          Bajri              106       1788   \n",
       "2 2015-04-01  Ahmednagar  Wheat(Husked)             1253       1572   \n",
       "3 2016-04-01  Ahmednagar  Wheat(Husked)              387       1750   \n",
       "4 2015-04-01  Ahmednagar  Sorgum(Jawar)             3825       1600   \n",
       "\n",
       "   max_price  modal_price     date district_name   state_name  \n",
       "0       1538         1463  2015-04    Ahmadnagar  Maharashtra  \n",
       "1       1925         1875  2016-04    Ahmadnagar  Maharashtra  \n",
       "2       1890         1731  2015-04    Ahmadnagar  Maharashtra  \n",
       "3       2220         1999  2016-04    Ahmadnagar  Maharashtra  \n",
       "4       2200         1900  2015-04    Ahmadnagar  Maharashtra  "
      ]
     },
     "execution_count": 75,
     "metadata": {},
     "output_type": "execute_result"
    }
   ],
   "source": [
    "df2.head()"
   ]
  },
  {
   "cell_type": "code",
   "execution_count": 76,
   "metadata": {
    "ExecuteTime": {
     "end_time": "2019-03-11T16:23:21.537284Z",
     "start_time": "2019-03-11T16:23:21.525495Z"
    }
   },
   "outputs": [],
   "source": [
    "df2=df2.sort_values(by='Year_Month')"
   ]
  },
  {
   "cell_type": "code",
   "execution_count": 77,
   "metadata": {
    "ExecuteTime": {
     "end_time": "2019-03-11T16:23:26.475762Z",
     "start_time": "2019-03-11T16:23:26.467534Z"
    }
   },
   "outputs": [],
   "source": [
    "df2= df2.drop(['state_name'], axis=1)"
   ]
  },
  {
   "cell_type": "code",
   "execution_count": 78,
   "metadata": {
    "ExecuteTime": {
     "end_time": "2019-03-11T16:23:40.193090Z",
     "start_time": "2019-03-11T16:23:40.187555Z"
    }
   },
   "outputs": [],
   "source": [
    "df2= df2.drop(['date'], axis=1)"
   ]
  },
  {
   "cell_type": "code",
   "execution_count": 82,
   "metadata": {
    "ExecuteTime": {
     "end_time": "2019-03-11T16:24:20.319532Z",
     "start_time": "2019-03-11T16:24:20.314498Z"
    }
   },
   "outputs": [],
   "source": [
    "df2=df2.reset_index(drop=True)"
   ]
  },
  {
   "cell_type": "code",
   "execution_count": 83,
   "metadata": {
    "ExecuteTime": {
     "end_time": "2019-03-11T16:24:30.876288Z",
     "start_time": "2019-03-11T16:24:30.866336Z"
    },
    "scrolled": true
   },
   "outputs": [
    {
     "data": {
      "text/html": [
       "<div>\n",
       "<style scoped>\n",
       "    .dataframe tbody tr th:only-of-type {\n",
       "        vertical-align: middle;\n",
       "    }\n",
       "\n",
       "    .dataframe tbody tr th {\n",
       "        vertical-align: top;\n",
       "    }\n",
       "\n",
       "    .dataframe thead th {\n",
       "        text-align: right;\n",
       "    }\n",
       "</style>\n",
       "<table border=\"1\" class=\"dataframe\">\n",
       "  <thead>\n",
       "    <tr style=\"text-align: right;\">\n",
       "      <th></th>\n",
       "      <th>Year_Month</th>\n",
       "      <th>APMC</th>\n",
       "      <th>Commodity</th>\n",
       "      <th>arrivals_in_qtl</th>\n",
       "      <th>min_price</th>\n",
       "      <th>max_price</th>\n",
       "      <th>modal_price</th>\n",
       "      <th>district_name</th>\n",
       "    </tr>\n",
       "  </thead>\n",
       "  <tbody>\n",
       "    <tr>\n",
       "      <th>0</th>\n",
       "      <td>2014-09-01</td>\n",
       "      <td>Kurdwadi</td>\n",
       "      <td>Sorgum(Jawar)</td>\n",
       "      <td>454</td>\n",
       "      <td>1353</td>\n",
       "      <td>2610</td>\n",
       "      <td>1981</td>\n",
       "      <td>Solapur</td>\n",
       "    </tr>\n",
       "    <tr>\n",
       "      <th>1</th>\n",
       "      <td>2014-09-01</td>\n",
       "      <td>Satara</td>\n",
       "      <td>Ladies Finger</td>\n",
       "      <td>128</td>\n",
       "      <td>2435</td>\n",
       "      <td>3261</td>\n",
       "      <td>2848</td>\n",
       "      <td>Satara</td>\n",
       "    </tr>\n",
       "    <tr>\n",
       "      <th>2</th>\n",
       "      <td>2014-09-01</td>\n",
       "      <td>Satara</td>\n",
       "      <td>Potato</td>\n",
       "      <td>2988</td>\n",
       "      <td>2175</td>\n",
       "      <td>2488</td>\n",
       "      <td>2331</td>\n",
       "      <td>Satara</td>\n",
       "    </tr>\n",
       "    <tr>\n",
       "      <th>3</th>\n",
       "      <td>2014-09-01</td>\n",
       "      <td>Satara</td>\n",
       "      <td>Ginger (Fresh)</td>\n",
       "      <td>199</td>\n",
       "      <td>3438</td>\n",
       "      <td>4813</td>\n",
       "      <td>4125</td>\n",
       "      <td>Satara</td>\n",
       "    </tr>\n",
       "    <tr>\n",
       "      <th>4</th>\n",
       "      <td>2014-09-01</td>\n",
       "      <td>Satara</td>\n",
       "      <td>Ground Nut Pods (Dry)</td>\n",
       "      <td>1</td>\n",
       "      <td>3000</td>\n",
       "      <td>4000</td>\n",
       "      <td>3500</td>\n",
       "      <td>Satara</td>\n",
       "    </tr>\n",
       "  </tbody>\n",
       "</table>\n",
       "</div>"
      ],
      "text/plain": [
       "  Year_Month      APMC              Commodity  arrivals_in_qtl  min_price  \\\n",
       "0 2014-09-01  Kurdwadi          Sorgum(Jawar)              454       1353   \n",
       "1 2014-09-01    Satara          Ladies Finger              128       2435   \n",
       "2 2014-09-01    Satara                 Potato             2988       2175   \n",
       "3 2014-09-01    Satara         Ginger (Fresh)              199       3438   \n",
       "4 2014-09-01    Satara  Ground Nut Pods (Dry)                1       3000   \n",
       "\n",
       "   max_price  modal_price district_name  \n",
       "0       2610         1981       Solapur  \n",
       "1       3261         2848        Satara  \n",
       "2       2488         2331        Satara  \n",
       "3       4813         4125        Satara  \n",
       "4       4000         3500        Satara  "
      ]
     },
     "execution_count": 83,
     "metadata": {},
     "output_type": "execute_result"
    }
   ],
   "source": [
    "df2.head()"
   ]
  },
  {
   "cell_type": "markdown",
   "metadata": {},
   "source": [
    "## Cleaning outliers"
   ]
  },
  {
   "cell_type": "code",
   "execution_count": 86,
   "metadata": {
    "ExecuteTime": {
     "end_time": "2019-03-11T16:27:54.826587Z",
     "start_time": "2019-03-11T16:27:54.802762Z"
    }
   },
   "outputs": [],
   "source": [
    "def remove_outlier(df): #find outlier according to the modal price of commodity and remove them\n",
    "    data_main=pd.DataFrame()\n",
    "    commodities=list(df[\"Commodity\"].unique())\n",
    "    for commodity in commodities:\n",
    "        data_temp=df[df[\"Commodity\"]==commodity]\n",
    "        actual=len(data_temp)\n",
    "        if actual>1:\n",
    "            q1 = data_temp[\"modal_price\"].quantile(0.25)\n",
    "            q3 = data_temp[\"modal_price\"].quantile(0.75)\n",
    "            iqr = q3-q1 #Interquartile range\n",
    "            lower_threshold  = q1-1.5*iqr\n",
    "            upper_threshold = q3+1.5*iqr\n",
    "            filtered_values=[upper_threshold if x> upper_threshold else x for x in data_temp[\"modal_price\"].tolist()]\n",
    "            filtered_values=[lower_threshold if x< lower_threshold else x for x in filtered_values]\n",
    "            data_temp[\"modal_price\"]=filtered_values\n",
    "            data_temp.sort_values(\"Year_Month\",inplace=True)\n",
    "            \n",
    "        data_main=pd.concat([data_main,data_temp])\n",
    "        data_main.reset_index(drop=True,inplace=True)\n",
    "    return data_main"
   ]
  },
  {
   "cell_type": "code",
   "execution_count": 87,
   "metadata": {
    "ExecuteTime": {
     "end_time": "2019-03-11T16:34:02.729662Z",
     "start_time": "2019-03-11T16:28:00.217705Z"
    },
    "scrolled": false
   },
   "outputs": [
    {
     "name": "stderr",
     "output_type": "stream",
     "text": [
      "/anaconda3/lib/python3.6/site-packages/ipykernel_launcher.py:15: SettingWithCopyWarning: \n",
      "A value is trying to be set on a copy of a slice from a DataFrame.\n",
      "Try using .loc[row_indexer,col_indexer] = value instead\n",
      "\n",
      "See the caveats in the documentation: http://pandas.pydata.org/pandas-docs/stable/indexing.html#indexing-view-versus-copy\n",
      "  from ipykernel import kernelapp as app\n",
      "/anaconda3/lib/python3.6/site-packages/ipykernel_launcher.py:16: SettingWithCopyWarning: \n",
      "A value is trying to be set on a copy of a slice from a DataFrame\n",
      "\n",
      "See the caveats in the documentation: http://pandas.pydata.org/pandas-docs/stable/indexing.html#indexing-view-versus-copy\n",
      "  app.launch_new_instance()\n"
     ]
    }
   ],
   "source": [
    "df_filtered=pd.DataFrame()\n",
    "for apmc in df2[\"APMC\"].unique().tolist():\n",
    "    df_temp = df2[df2[\"APMC\"]==apmc]\n",
    "    data = remove_outlier(df_temp)\n",
    "    df_filtered=pd.concat([df_filtered,data])\n",
    "    \n",
    "df_filtered.reset_index(drop=True,inplace=True)\n",
    "df_filtered.to_csv(\"Monthly_data_cmo_filtered.csv\",index=False)"
   ]
  },
  {
   "cell_type": "markdown",
   "metadata": {},
   "source": [
    "## Exploring Monthly Data"
   ]
  },
  {
   "cell_type": "code",
   "execution_count": 174,
   "metadata": {
    "ExecuteTime": {
     "end_time": "2019-03-11T20:06:20.375607Z",
     "start_time": "2019-03-11T20:06:20.303318Z"
    }
   },
   "outputs": [],
   "source": [
    "df3=pd.read_csv(\"Monthly_data_cmo_filtered.csv\")"
   ]
  },
  {
   "cell_type": "code",
   "execution_count": 175,
   "metadata": {
    "ExecuteTime": {
     "end_time": "2019-03-11T20:06:21.287038Z",
     "start_time": "2019-03-11T20:06:21.271526Z"
    }
   },
   "outputs": [],
   "source": [
    "df3.index = pd.to_datetime(df3['Year_Month'])"
   ]
  },
  {
   "cell_type": "code",
   "execution_count": 176,
   "metadata": {
    "ExecuteTime": {
     "end_time": "2019-03-11T20:06:22.350515Z",
     "start_time": "2019-03-11T20:06:22.346549Z"
    }
   },
   "outputs": [
    {
     "data": {
      "text/plain": [
       "pandas.core.indexes.range.RangeIndex"
      ]
     },
     "execution_count": 176,
     "metadata": {},
     "output_type": "execute_result"
    }
   ],
   "source": [
    "type(df.index)"
   ]
  },
  {
   "cell_type": "code",
   "execution_count": 181,
   "metadata": {
    "ExecuteTime": {
     "end_time": "2019-03-11T20:07:36.352109Z",
     "start_time": "2019-03-11T20:07:36.317924Z"
    }
   },
   "outputs": [],
   "source": [
    "df3[\"Year_Month\"]=pd.to_datetime(df3[\"Year_Month\"])\n",
    "df3[\"quarter\"]=df3[\"Year_Month\"].dt.quarter\n",
    "df3[\"combination_label\"]=df3[\"APMC\"]+\":\"+df3[\"Commodity\"]"
   ]
  },
  {
   "cell_type": "code",
   "execution_count": 182,
   "metadata": {
    "ExecuteTime": {
     "end_time": "2019-03-11T20:07:37.577532Z",
     "start_time": "2019-03-11T20:07:37.554035Z"
    },
    "scrolled": true
   },
   "outputs": [
    {
     "data": {
      "text/html": [
       "<div>\n",
       "<style scoped>\n",
       "    .dataframe tbody tr th:only-of-type {\n",
       "        vertical-align: middle;\n",
       "    }\n",
       "\n",
       "    .dataframe tbody tr th {\n",
       "        vertical-align: top;\n",
       "    }\n",
       "\n",
       "    .dataframe thead th {\n",
       "        text-align: right;\n",
       "    }\n",
       "</style>\n",
       "<table border=\"1\" class=\"dataframe\">\n",
       "  <thead>\n",
       "    <tr style=\"text-align: right;\">\n",
       "      <th></th>\n",
       "      <th>Year_Month</th>\n",
       "      <th>APMC</th>\n",
       "      <th>Commodity</th>\n",
       "      <th>arrivals_in_qtl</th>\n",
       "      <th>min_price</th>\n",
       "      <th>max_price</th>\n",
       "      <th>modal_price</th>\n",
       "      <th>district_name</th>\n",
       "      <th>quarter</th>\n",
       "      <th>combination_label</th>\n",
       "    </tr>\n",
       "    <tr>\n",
       "      <th>Year_Month</th>\n",
       "      <th></th>\n",
       "      <th></th>\n",
       "      <th></th>\n",
       "      <th></th>\n",
       "      <th></th>\n",
       "      <th></th>\n",
       "      <th></th>\n",
       "      <th></th>\n",
       "      <th></th>\n",
       "      <th></th>\n",
       "    </tr>\n",
       "  </thead>\n",
       "  <tbody>\n",
       "    <tr>\n",
       "      <th>2014-09-01</th>\n",
       "      <td>2014-09-01</td>\n",
       "      <td>Ahmednagar</td>\n",
       "      <td>Sorgum(Jawar)</td>\n",
       "      <td>42</td>\n",
       "      <td>1600</td>\n",
       "      <td>2601</td>\n",
       "      <td>2100.0</td>\n",
       "      <td>Ahmadnagar</td>\n",
       "      <td>3</td>\n",
       "      <td>Ahmednagar:Sorgum(Jawar)</td>\n",
       "    </tr>\n",
       "    <tr>\n",
       "      <th>2014-11-01</th>\n",
       "      <td>2014-11-01</td>\n",
       "      <td>Ahmednagar</td>\n",
       "      <td>Sorgum(Jawar)</td>\n",
       "      <td>2024</td>\n",
       "      <td>1782</td>\n",
       "      <td>2713</td>\n",
       "      <td>2248.0</td>\n",
       "      <td>Ahmadnagar</td>\n",
       "      <td>4</td>\n",
       "      <td>Ahmednagar:Sorgum(Jawar)</td>\n",
       "    </tr>\n",
       "    <tr>\n",
       "      <th>2015-01-01</th>\n",
       "      <td>2015-01-01</td>\n",
       "      <td>Ahmednagar</td>\n",
       "      <td>Sorgum(Jawar)</td>\n",
       "      <td>1892</td>\n",
       "      <td>1707</td>\n",
       "      <td>2718</td>\n",
       "      <td>2212.0</td>\n",
       "      <td>Ahmadnagar</td>\n",
       "      <td>1</td>\n",
       "      <td>Ahmednagar:Sorgum(Jawar)</td>\n",
       "    </tr>\n",
       "    <tr>\n",
       "      <th>2015-02-01</th>\n",
       "      <td>2015-02-01</td>\n",
       "      <td>Ahmednagar</td>\n",
       "      <td>Sorgum(Jawar)</td>\n",
       "      <td>602</td>\n",
       "      <td>1575</td>\n",
       "      <td>2000</td>\n",
       "      <td>1787.0</td>\n",
       "      <td>Ahmadnagar</td>\n",
       "      <td>1</td>\n",
       "      <td>Ahmednagar:Sorgum(Jawar)</td>\n",
       "    </tr>\n",
       "    <tr>\n",
       "      <th>2015-03-01</th>\n",
       "      <td>2015-03-01</td>\n",
       "      <td>Ahmednagar</td>\n",
       "      <td>Sorgum(Jawar)</td>\n",
       "      <td>1949</td>\n",
       "      <td>1560</td>\n",
       "      <td>2100</td>\n",
       "      <td>1830.0</td>\n",
       "      <td>Ahmadnagar</td>\n",
       "      <td>1</td>\n",
       "      <td>Ahmednagar:Sorgum(Jawar)</td>\n",
       "    </tr>\n",
       "  </tbody>\n",
       "</table>\n",
       "</div>"
      ],
      "text/plain": [
       "           Year_Month        APMC      Commodity  arrivals_in_qtl  min_price  \\\n",
       "Year_Month                                                                     \n",
       "2014-09-01 2014-09-01  Ahmednagar  Sorgum(Jawar)               42       1600   \n",
       "2014-11-01 2014-11-01  Ahmednagar  Sorgum(Jawar)             2024       1782   \n",
       "2015-01-01 2015-01-01  Ahmednagar  Sorgum(Jawar)             1892       1707   \n",
       "2015-02-01 2015-02-01  Ahmednagar  Sorgum(Jawar)              602       1575   \n",
       "2015-03-01 2015-03-01  Ahmednagar  Sorgum(Jawar)             1949       1560   \n",
       "\n",
       "            max_price  modal_price district_name  quarter  \\\n",
       "Year_Month                                                  \n",
       "2014-09-01       2601       2100.0    Ahmadnagar        3   \n",
       "2014-11-01       2713       2248.0    Ahmadnagar        4   \n",
       "2015-01-01       2718       2212.0    Ahmadnagar        1   \n",
       "2015-02-01       2000       1787.0    Ahmadnagar        1   \n",
       "2015-03-01       2100       1830.0    Ahmadnagar        1   \n",
       "\n",
       "                   combination_label  \n",
       "Year_Month                            \n",
       "2014-09-01  Ahmednagar:Sorgum(Jawar)  \n",
       "2014-11-01  Ahmednagar:Sorgum(Jawar)  \n",
       "2015-01-01  Ahmednagar:Sorgum(Jawar)  \n",
       "2015-02-01  Ahmednagar:Sorgum(Jawar)  \n",
       "2015-03-01  Ahmednagar:Sorgum(Jawar)  "
      ]
     },
     "execution_count": 182,
     "metadata": {},
     "output_type": "execute_result"
    }
   ],
   "source": [
    "df3[df3[\"APMC\" ]== \"Ahmednagar\" ].head()"
   ]
  },
  {
   "cell_type": "code",
   "execution_count": 183,
   "metadata": {
    "ExecuteTime": {
     "end_time": "2019-03-11T20:07:43.324498Z",
     "start_time": "2019-03-11T20:07:43.307862Z"
    }
   },
   "outputs": [
    {
     "data": {
      "text/html": [
       "<div>\n",
       "<style scoped>\n",
       "    .dataframe tbody tr th:only-of-type {\n",
       "        vertical-align: middle;\n",
       "    }\n",
       "\n",
       "    .dataframe tbody tr th {\n",
       "        vertical-align: top;\n",
       "    }\n",
       "\n",
       "    .dataframe thead th {\n",
       "        text-align: right;\n",
       "    }\n",
       "</style>\n",
       "<table border=\"1\" class=\"dataframe\">\n",
       "  <thead>\n",
       "    <tr style=\"text-align: right;\">\n",
       "      <th></th>\n",
       "      <th>Year_Month</th>\n",
       "      <th>APMC</th>\n",
       "      <th>Commodity</th>\n",
       "      <th>arrivals_in_qtl</th>\n",
       "      <th>min_price</th>\n",
       "      <th>max_price</th>\n",
       "      <th>modal_price</th>\n",
       "      <th>district_name</th>\n",
       "      <th>quarter</th>\n",
       "      <th>combination_label</th>\n",
       "    </tr>\n",
       "    <tr>\n",
       "      <th>Year_Month</th>\n",
       "      <th></th>\n",
       "      <th></th>\n",
       "      <th></th>\n",
       "      <th></th>\n",
       "      <th></th>\n",
       "      <th></th>\n",
       "      <th></th>\n",
       "      <th></th>\n",
       "      <th></th>\n",
       "      <th></th>\n",
       "    </tr>\n",
       "  </thead>\n",
       "  <tbody>\n",
       "    <tr>\n",
       "      <th>2015-06-01</th>\n",
       "      <td>2015-06-01</td>\n",
       "      <td>Ahmednagar</td>\n",
       "      <td>Lemon</td>\n",
       "      <td>207</td>\n",
       "      <td>833</td>\n",
       "      <td>2583</td>\n",
       "      <td>1708.0</td>\n",
       "      <td>Ahmadnagar</td>\n",
       "      <td>2</td>\n",
       "      <td>Ahmednagar:Lemon</td>\n",
       "    </tr>\n",
       "    <tr>\n",
       "      <th>2015-07-01</th>\n",
       "      <td>2015-07-01</td>\n",
       "      <td>Ahmednagar</td>\n",
       "      <td>Lemon</td>\n",
       "      <td>298</td>\n",
       "      <td>1450</td>\n",
       "      <td>2275</td>\n",
       "      <td>1863.0</td>\n",
       "      <td>Ahmadnagar</td>\n",
       "      <td>3</td>\n",
       "      <td>Ahmednagar:Lemon</td>\n",
       "    </tr>\n",
       "    <tr>\n",
       "      <th>2015-08-01</th>\n",
       "      <td>2015-08-01</td>\n",
       "      <td>Ahmednagar</td>\n",
       "      <td>Lemon</td>\n",
       "      <td>75</td>\n",
       "      <td>840</td>\n",
       "      <td>1620</td>\n",
       "      <td>1230.0</td>\n",
       "      <td>Ahmadnagar</td>\n",
       "      <td>3</td>\n",
       "      <td>Ahmednagar:Lemon</td>\n",
       "    </tr>\n",
       "    <tr>\n",
       "      <th>2015-09-01</th>\n",
       "      <td>2015-09-01</td>\n",
       "      <td>Ahmednagar</td>\n",
       "      <td>Lemon</td>\n",
       "      <td>16</td>\n",
       "      <td>1500</td>\n",
       "      <td>2750</td>\n",
       "      <td>2125.0</td>\n",
       "      <td>Ahmadnagar</td>\n",
       "      <td>3</td>\n",
       "      <td>Ahmednagar:Lemon</td>\n",
       "    </tr>\n",
       "    <tr>\n",
       "      <th>2015-10-01</th>\n",
       "      <td>2015-10-01</td>\n",
       "      <td>Ahmednagar</td>\n",
       "      <td>Lemon</td>\n",
       "      <td>195</td>\n",
       "      <td>1867</td>\n",
       "      <td>3244</td>\n",
       "      <td>2306.0</td>\n",
       "      <td>Ahmadnagar</td>\n",
       "      <td>4</td>\n",
       "      <td>Ahmednagar:Lemon</td>\n",
       "    </tr>\n",
       "  </tbody>\n",
       "</table>\n",
       "</div>"
      ],
      "text/plain": [
       "           Year_Month        APMC Commodity  arrivals_in_qtl  min_price  \\\n",
       "Year_Month                                                                \n",
       "2015-06-01 2015-06-01  Ahmednagar     Lemon              207        833   \n",
       "2015-07-01 2015-07-01  Ahmednagar     Lemon              298       1450   \n",
       "2015-08-01 2015-08-01  Ahmednagar     Lemon               75        840   \n",
       "2015-09-01 2015-09-01  Ahmednagar     Lemon               16       1500   \n",
       "2015-10-01 2015-10-01  Ahmednagar     Lemon              195       1867   \n",
       "\n",
       "            max_price  modal_price district_name  quarter combination_label  \n",
       "Year_Month                                                                   \n",
       "2015-06-01       2583       1708.0    Ahmadnagar        2  Ahmednagar:Lemon  \n",
       "2015-07-01       2275       1863.0    Ahmadnagar        3  Ahmednagar:Lemon  \n",
       "2015-08-01       1620       1230.0    Ahmadnagar        3  Ahmednagar:Lemon  \n",
       "2015-09-01       2750       2125.0    Ahmadnagar        3  Ahmednagar:Lemon  \n",
       "2015-10-01       3244       2306.0    Ahmadnagar        4  Ahmednagar:Lemon  "
      ]
     },
     "execution_count": 183,
     "metadata": {},
     "output_type": "execute_result"
    }
   ],
   "source": [
    "df3.query('APMC == \"Ahmednagar\" & Commodity == \"Lemon\"').head()"
   ]
  },
  {
   "cell_type": "code",
   "execution_count": 184,
   "metadata": {
    "ExecuteTime": {
     "end_time": "2019-03-11T20:07:45.866101Z",
     "start_time": "2019-03-11T20:07:45.635135Z"
    }
   },
   "outputs": [
    {
     "data": {
      "text/plain": [
       "<matplotlib.axes._subplots.AxesSubplot at 0x1c24be4f28>"
      ]
     },
     "execution_count": 184,
     "metadata": {},
     "output_type": "execute_result"
    },
    {
     "data": {
      "image/png": "[encoded data removed]",
      "text/plain": [
       "<Figure size 432x288 with 1 Axes>"
      ]
     },
     "metadata": {},
     "output_type": "display_data"
    }
   ],
   "source": [
    "df3.query('APMC == \"Ahmednagar\" & Commodity == \"Bajri\"').modal_price.plot()"
   ]
  },
  {
   "cell_type": "code",
   "execution_count": 185,
   "metadata": {
    "ExecuteTime": {
     "end_time": "2019-03-11T20:07:47.749297Z",
     "start_time": "2019-03-11T20:07:47.543075Z"
    }
   },
   "outputs": [
    {
     "name": "stdout",
     "output_type": "stream",
     "text": [
      "Seasonality:  AxesSubplot(0.125,0.2;0.775x0.68)\n"
     ]
    },
    {
     "data": {
      "image/png": "[encoded data removed]",
      "text/plain": [
       "<Figure size 432x288 with 1 Axes>"
      ]
     },
     "metadata": {},
     "output_type": "display_data"
    }
   ],
   "source": [
    "result = seasonal_decompose(df3.query('APMC == \"Ahmednagar\" & Commodity == \"Bajri\"').modal_price, \n",
    "                            model='multiplicative', \n",
    "                            freq = 1)\n",
    "print(\"Seasonality: \",\n",
    "      result.seasonal.plot())"
   ]
  },
  {
   "cell_type": "code",
   "execution_count": 186,
   "metadata": {
    "ExecuteTime": {
     "end_time": "2019-03-11T20:07:49.139187Z",
     "start_time": "2019-03-11T20:07:48.923727Z"
    }
   },
   "outputs": [
    {
     "name": "stdout",
     "output_type": "stream",
     "text": [
      "Seasonality:  AxesSubplot(0.125,0.2;0.775x0.68)\n"
     ]
    },
    {
     "data": {
      "image/png": "[encoded data removed]",
      "text/plain": [
       "<Figure size 432x288 with 1 Axes>"
      ]
     },
     "metadata": {},
     "output_type": "display_data"
    }
   ],
   "source": [
    "result = seasonal_decompose(df3.query('APMC == \"Ahmednagar\" & Commodity == \"Bajri\"').modal_price, \n",
    "                            model='additive', \n",
    "                            freq = 1)\n",
    "print(\"Seasonality: \",\n",
    "      result.seasonal.plot())"
   ]
  },
  {
   "cell_type": "markdown",
   "metadata": {},
   "source": [
    "## Detecting the Seasonality Type"
   ]
  },
  {
   "cell_type": "code",
   "execution_count": 187,
   "metadata": {
    "ExecuteTime": {
     "end_time": "2019-03-11T20:07:55.016823Z",
     "start_time": "2019-03-11T20:07:54.988790Z"
    }
   },
   "outputs": [],
   "source": [
    "def check_seasonality_type(data_filter):\n",
    "    \n",
    "    data_filter[\"trend\"]=data_filter[\"modal_price\"].rolling(window=2).mean()\n",
    "\n",
    "    data_filter[\"detrended_additive\"]=data_filter[\"modal_price\"]-data_filter[\"trend\"]\n",
    "    data_filter[\"detrended_multiplicative\"]=data_filter[\"modal_price\"]/data_filter[\"trend\"]\n",
    "\n",
    "    additive_mean=data_filter[[\"detrended_additive\",\"quarter\"]].groupby([\"quarter\"]).mean().to_dict()[\"detrended_additive\"]\n",
    "    multiplicative_mean=data_filter[[\"detrended_multiplicative\",\"quarter\"]].groupby([\"quarter\"]).mean().to_dict()[\"detrended_multiplicative\"]\n",
    "\n",
    "    data_filter[\"seasonal_additive\"]=data_filter[\"quarter\"].apply(lambda x: additive_mean[x])\n",
    "    data_filter[\"seasonal_multiplicative\"]=data_filter[\"quarter\"].apply(lambda x: multiplicative_mean[x])\n",
    "\n",
    "    data_filter[\"residual_additive\"]=data_filter[\"detrended_additive\"]-data_filter[\"seasonal_additive\"]\n",
    "    data_filter[\"residual_multiplicative\"]=data_filter[\"detrended_multiplicative\"]-data_filter[\"seasonal_multiplicative\"]\n",
    "\n",
    "    additive_acf=sum(np.asarray(acf(data_filter[\"residual_additive\"], missing='drop'))*2)\n",
    "    multiplicative_acf=sum(np.asarray(acf(data_filter[\"residual_multiplicative\"], missing='drop'))*2)\n",
    "\n",
    "    if additive_acf<multiplicative_acf:\n",
    "        return \"Additive\"\n",
    "    else:\n",
    "        return \"Multiplicative\""
   ]
  },
  {
   "cell_type": "code",
   "execution_count": 188,
   "metadata": {
    "ExecuteTime": {
     "end_time": "2019-03-11T20:07:58.488755Z",
     "start_time": "2019-03-11T20:07:58.477059Z"
    }
   },
   "outputs": [
    {
     "data": {
      "text/html": [
       "<div>\n",
       "<style scoped>\n",
       "    .dataframe tbody tr th:only-of-type {\n",
       "        vertical-align: middle;\n",
       "    }\n",
       "\n",
       "    .dataframe tbody tr th {\n",
       "        vertical-align: top;\n",
       "    }\n",
       "\n",
       "    .dataframe thead th {\n",
       "        text-align: right;\n",
       "    }\n",
       "</style>\n",
       "<table border=\"1\" class=\"dataframe\">\n",
       "  <thead>\n",
       "    <tr style=\"text-align: right;\">\n",
       "      <th></th>\n",
       "      <th>Year_Month</th>\n",
       "      <th>APMC</th>\n",
       "      <th>Commodity</th>\n",
       "      <th>arrivals_in_qtl</th>\n",
       "      <th>min_price</th>\n",
       "      <th>max_price</th>\n",
       "      <th>modal_price</th>\n",
       "      <th>district_name</th>\n",
       "      <th>quarter</th>\n",
       "      <th>combination_label</th>\n",
       "    </tr>\n",
       "    <tr>\n",
       "      <th>Year_Month</th>\n",
       "      <th></th>\n",
       "      <th></th>\n",
       "      <th></th>\n",
       "      <th></th>\n",
       "      <th></th>\n",
       "      <th></th>\n",
       "      <th></th>\n",
       "      <th></th>\n",
       "      <th></th>\n",
       "      <th></th>\n",
       "    </tr>\n",
       "  </thead>\n",
       "  <tbody>\n",
       "    <tr>\n",
       "      <th>2014-09-01</th>\n",
       "      <td>2014-09-01</td>\n",
       "      <td>Kurdwadi</td>\n",
       "      <td>Sorgum(Jawar)</td>\n",
       "      <td>454</td>\n",
       "      <td>1353</td>\n",
       "      <td>2610</td>\n",
       "      <td>1981.0</td>\n",
       "      <td>Solapur</td>\n",
       "      <td>3</td>\n",
       "      <td>Kurdwadi:Sorgum(Jawar)</td>\n",
       "    </tr>\n",
       "    <tr>\n",
       "      <th>2014-10-01</th>\n",
       "      <td>2014-10-01</td>\n",
       "      <td>Kurdwadi</td>\n",
       "      <td>Sorgum(Jawar)</td>\n",
       "      <td>241</td>\n",
       "      <td>1212</td>\n",
       "      <td>2345</td>\n",
       "      <td>1779.0</td>\n",
       "      <td>Solapur</td>\n",
       "      <td>4</td>\n",
       "      <td>Kurdwadi:Sorgum(Jawar)</td>\n",
       "    </tr>\n",
       "    <tr>\n",
       "      <th>2014-11-01</th>\n",
       "      <td>2014-11-01</td>\n",
       "      <td>Kurdwadi</td>\n",
       "      <td>Sorgum(Jawar)</td>\n",
       "      <td>558</td>\n",
       "      <td>1183</td>\n",
       "      <td>2764</td>\n",
       "      <td>1973.0</td>\n",
       "      <td>Solapur</td>\n",
       "      <td>4</td>\n",
       "      <td>Kurdwadi:Sorgum(Jawar)</td>\n",
       "    </tr>\n",
       "    <tr>\n",
       "      <th>2014-12-01</th>\n",
       "      <td>2014-12-01</td>\n",
       "      <td>Kurdwadi</td>\n",
       "      <td>Sorgum(Jawar)</td>\n",
       "      <td>657</td>\n",
       "      <td>1114</td>\n",
       "      <td>2609</td>\n",
       "      <td>1861.0</td>\n",
       "      <td>Solapur</td>\n",
       "      <td>4</td>\n",
       "      <td>Kurdwadi:Sorgum(Jawar)</td>\n",
       "    </tr>\n",
       "    <tr>\n",
       "      <th>2015-01-01</th>\n",
       "      <td>2015-01-01</td>\n",
       "      <td>Kurdwadi</td>\n",
       "      <td>Sorgum(Jawar)</td>\n",
       "      <td>6418</td>\n",
       "      <td>1185</td>\n",
       "      <td>2496</td>\n",
       "      <td>1840.0</td>\n",
       "      <td>Solapur</td>\n",
       "      <td>1</td>\n",
       "      <td>Kurdwadi:Sorgum(Jawar)</td>\n",
       "    </tr>\n",
       "  </tbody>\n",
       "</table>\n",
       "</div>"
      ],
      "text/plain": [
       "           Year_Month      APMC      Commodity  arrivals_in_qtl  min_price  \\\n",
       "Year_Month                                                                   \n",
       "2014-09-01 2014-09-01  Kurdwadi  Sorgum(Jawar)              454       1353   \n",
       "2014-10-01 2014-10-01  Kurdwadi  Sorgum(Jawar)              241       1212   \n",
       "2014-11-01 2014-11-01  Kurdwadi  Sorgum(Jawar)              558       1183   \n",
       "2014-12-01 2014-12-01  Kurdwadi  Sorgum(Jawar)              657       1114   \n",
       "2015-01-01 2015-01-01  Kurdwadi  Sorgum(Jawar)             6418       1185   \n",
       "\n",
       "            max_price  modal_price district_name  quarter  \\\n",
       "Year_Month                                                  \n",
       "2014-09-01       2610       1981.0       Solapur        3   \n",
       "2014-10-01       2345       1779.0       Solapur        4   \n",
       "2014-11-01       2764       1973.0       Solapur        4   \n",
       "2014-12-01       2609       1861.0       Solapur        4   \n",
       "2015-01-01       2496       1840.0       Solapur        1   \n",
       "\n",
       "                 combination_label  \n",
       "Year_Month                          \n",
       "2014-09-01  Kurdwadi:Sorgum(Jawar)  \n",
       "2014-10-01  Kurdwadi:Sorgum(Jawar)  \n",
       "2014-11-01  Kurdwadi:Sorgum(Jawar)  \n",
       "2014-12-01  Kurdwadi:Sorgum(Jawar)  \n",
       "2015-01-01  Kurdwadi:Sorgum(Jawar)  "
      ]
     },
     "execution_count": 188,
     "metadata": {},
     "output_type": "execute_result"
    }
   ],
   "source": [
    "df3.head()"
   ]
  },
  {
   "cell_type": "code",
   "execution_count": 202,
   "metadata": {
    "ExecuteTime": {
     "end_time": "2019-03-11T20:12:47.443930Z",
     "start_time": "2019-03-11T20:12:47.437238Z"
    }
   },
   "outputs": [],
   "source": [
    "df3['Year']=pd.DatetimeIndex(df3['Year_Month']).year"
   ]
  },
  {
   "cell_type": "code",
   "execution_count": 205,
   "metadata": {
    "ExecuteTime": {
     "end_time": "2019-03-11T20:13:53.513233Z",
     "start_time": "2019-03-11T20:13:53.459596Z"
    }
   },
   "outputs": [
    {
     "data": {
      "text/html": [
       "<div>\n",
       "<style scoped>\n",
       "    .dataframe tbody tr th:only-of-type {\n",
       "        vertical-align: middle;\n",
       "    }\n",
       "\n",
       "    .dataframe tbody tr th {\n",
       "        vertical-align: top;\n",
       "    }\n",
       "\n",
       "    .dataframe thead th {\n",
       "        text-align: right;\n",
       "    }\n",
       "</style>\n",
       "<table border=\"1\" class=\"dataframe\">\n",
       "  <thead>\n",
       "    <tr style=\"text-align: right;\">\n",
       "      <th></th>\n",
       "      <th>Year_Month</th>\n",
       "      <th>APMC</th>\n",
       "      <th>Commodity</th>\n",
       "      <th>arrivals_in_qtl</th>\n",
       "      <th>min_price</th>\n",
       "      <th>max_price</th>\n",
       "      <th>modal_price</th>\n",
       "      <th>district_name</th>\n",
       "      <th>quarter</th>\n",
       "      <th>combination_label</th>\n",
       "      <th>Year</th>\n",
       "    </tr>\n",
       "  </thead>\n",
       "  <tbody>\n",
       "    <tr>\n",
       "      <th>0</th>\n",
       "      <td>2014-09-01</td>\n",
       "      <td>Kurdwadi</td>\n",
       "      <td>Sorgum(Jawar)</td>\n",
       "      <td>454</td>\n",
       "      <td>1353</td>\n",
       "      <td>2610</td>\n",
       "      <td>1981.0</td>\n",
       "      <td>Solapur</td>\n",
       "      <td>3</td>\n",
       "      <td>Kurdwadi:Sorgum(Jawar)</td>\n",
       "      <td>2014</td>\n",
       "    </tr>\n",
       "    <tr>\n",
       "      <th>1</th>\n",
       "      <td>2014-10-01</td>\n",
       "      <td>Kurdwadi</td>\n",
       "      <td>Sorgum(Jawar)</td>\n",
       "      <td>241</td>\n",
       "      <td>1212</td>\n",
       "      <td>2345</td>\n",
       "      <td>1779.0</td>\n",
       "      <td>Solapur</td>\n",
       "      <td>4</td>\n",
       "      <td>Kurdwadi:Sorgum(Jawar)</td>\n",
       "      <td>2014</td>\n",
       "    </tr>\n",
       "    <tr>\n",
       "      <th>2</th>\n",
       "      <td>2014-11-01</td>\n",
       "      <td>Kurdwadi</td>\n",
       "      <td>Sorgum(Jawar)</td>\n",
       "      <td>558</td>\n",
       "      <td>1183</td>\n",
       "      <td>2764</td>\n",
       "      <td>1973.0</td>\n",
       "      <td>Solapur</td>\n",
       "      <td>4</td>\n",
       "      <td>Kurdwadi:Sorgum(Jawar)</td>\n",
       "      <td>2014</td>\n",
       "    </tr>\n",
       "    <tr>\n",
       "      <th>3</th>\n",
       "      <td>2014-12-01</td>\n",
       "      <td>Kurdwadi</td>\n",
       "      <td>Sorgum(Jawar)</td>\n",
       "      <td>657</td>\n",
       "      <td>1114</td>\n",
       "      <td>2609</td>\n",
       "      <td>1861.0</td>\n",
       "      <td>Solapur</td>\n",
       "      <td>4</td>\n",
       "      <td>Kurdwadi:Sorgum(Jawar)</td>\n",
       "      <td>2014</td>\n",
       "    </tr>\n",
       "    <tr>\n",
       "      <th>4</th>\n",
       "      <td>2015-01-01</td>\n",
       "      <td>Kurdwadi</td>\n",
       "      <td>Sorgum(Jawar)</td>\n",
       "      <td>6418</td>\n",
       "      <td>1185</td>\n",
       "      <td>2496</td>\n",
       "      <td>1840.0</td>\n",
       "      <td>Solapur</td>\n",
       "      <td>1</td>\n",
       "      <td>Kurdwadi:Sorgum(Jawar)</td>\n",
       "      <td>2015</td>\n",
       "    </tr>\n",
       "  </tbody>\n",
       "</table>\n",
       "</div>"
      ],
      "text/plain": [
       "  Year_Month      APMC      Commodity  arrivals_in_qtl  min_price  max_price  \\\n",
       "0 2014-09-01  Kurdwadi  Sorgum(Jawar)              454       1353       2610   \n",
       "1 2014-10-01  Kurdwadi  Sorgum(Jawar)              241       1212       2345   \n",
       "2 2014-11-01  Kurdwadi  Sorgum(Jawar)              558       1183       2764   \n",
       "3 2014-12-01  Kurdwadi  Sorgum(Jawar)              657       1114       2609   \n",
       "4 2015-01-01  Kurdwadi  Sorgum(Jawar)             6418       1185       2496   \n",
       "\n",
       "   modal_price district_name  quarter       combination_label  Year  \n",
       "0       1981.0       Solapur        3  Kurdwadi:Sorgum(Jawar)  2014  \n",
       "1       1779.0       Solapur        4  Kurdwadi:Sorgum(Jawar)  2014  \n",
       "2       1973.0       Solapur        4  Kurdwadi:Sorgum(Jawar)  2014  \n",
       "3       1861.0       Solapur        4  Kurdwadi:Sorgum(Jawar)  2014  \n",
       "4       1840.0       Solapur        1  Kurdwadi:Sorgum(Jawar)  2015  "
      ]
     },
     "execution_count": 205,
     "metadata": {},
     "output_type": "execute_result"
    }
   ],
   "source": [
    "data=df3[[\"APMC\",\"Commodity\",\"modal_price\",\"Year\",\"combination_label\"]\n",
    "       ].groupby([\"APMC\",\"Commodity\",\"Year\",\"combination_label\"],\n",
    "         as_index=False).count().rename(columns={\"modal_price\":\"Count\"}).reset_index(drop=True)\n",
    "data=data[data[\"Count\"]==12].reset_index(drop=True)\n",
    "filtered=data[\"combination_label\"].unique().tolist()\n",
    "df_filtered=df3[df3[\"combination_label\"].isin(filtered)].reset_index(drop=True)\n",
    "df_filtered.head()"
   ]
  },
  {
   "cell_type": "code",
   "execution_count": 206,
   "metadata": {
    "ExecuteTime": {
     "end_time": "2019-03-11T20:19:22.624211Z",
     "start_time": "2019-03-11T20:14:54.439811Z"
    }
   },
   "outputs": [
    {
     "name": "stderr",
     "output_type": "stream",
     "text": [
      "/anaconda3/lib/python3.6/site-packages/ipykernel_launcher.py:3: SettingWithCopyWarning: \n",
      "A value is trying to be set on a copy of a slice from a DataFrame.\n",
      "Try using .loc[row_indexer,col_indexer] = value instead\n",
      "\n",
      "See the caveats in the documentation: http://pandas.pydata.org/pandas-docs/stable/indexing.html#indexing-view-versus-copy\n",
      "  This is separate from the ipykernel package so we can avoid doing imports until\n",
      "/anaconda3/lib/python3.6/site-packages/ipykernel_launcher.py:5: SettingWithCopyWarning: \n",
      "A value is trying to be set on a copy of a slice from a DataFrame.\n",
      "Try using .loc[row_indexer,col_indexer] = value instead\n",
      "\n",
      "See the caveats in the documentation: http://pandas.pydata.org/pandas-docs/stable/indexing.html#indexing-view-versus-copy\n",
      "  \"\"\"\n",
      "/anaconda3/lib/python3.6/site-packages/ipykernel_launcher.py:6: SettingWithCopyWarning: \n",
      "A value is trying to be set on a copy of a slice from a DataFrame.\n",
      "Try using .loc[row_indexer,col_indexer] = value instead\n",
      "\n",
      "See the caveats in the documentation: http://pandas.pydata.org/pandas-docs/stable/indexing.html#indexing-view-versus-copy\n",
      "  \n",
      "/anaconda3/lib/python3.6/site-packages/ipykernel_launcher.py:11: SettingWithCopyWarning: \n",
      "A value is trying to be set on a copy of a slice from a DataFrame.\n",
      "Try using .loc[row_indexer,col_indexer] = value instead\n",
      "\n",
      "See the caveats in the documentation: http://pandas.pydata.org/pandas-docs/stable/indexing.html#indexing-view-versus-copy\n",
      "  # This is added back by InteractiveShellApp.init_path()\n",
      "/anaconda3/lib/python3.6/site-packages/ipykernel_launcher.py:12: SettingWithCopyWarning: \n",
      "A value is trying to be set on a copy of a slice from a DataFrame.\n",
      "Try using .loc[row_indexer,col_indexer] = value instead\n",
      "\n",
      "See the caveats in the documentation: http://pandas.pydata.org/pandas-docs/stable/indexing.html#indexing-view-versus-copy\n",
      "  if sys.path[0] == '':\n",
      "/anaconda3/lib/python3.6/site-packages/ipykernel_launcher.py:14: SettingWithCopyWarning: \n",
      "A value is trying to be set on a copy of a slice from a DataFrame.\n",
      "Try using .loc[row_indexer,col_indexer] = value instead\n",
      "\n",
      "See the caveats in the documentation: http://pandas.pydata.org/pandas-docs/stable/indexing.html#indexing-view-versus-copy\n",
      "  \n",
      "/anaconda3/lib/python3.6/site-packages/ipykernel_launcher.py:15: SettingWithCopyWarning: \n",
      "A value is trying to be set on a copy of a slice from a DataFrame.\n",
      "Try using .loc[row_indexer,col_indexer] = value instead\n",
      "\n",
      "See the caveats in the documentation: http://pandas.pydata.org/pandas-docs/stable/indexing.html#indexing-view-versus-copy\n",
      "  from ipykernel import kernelapp as app\n",
      "/anaconda3/lib/python3.6/site-packages/statsmodels/tsa/stattools.py:475: RuntimeWarning: invalid value encountered in true_divide\n",
      "  acf = avf[:nlags + 1] / avf[0]\n",
      "/anaconda3/lib/python3.6/site-packages/statsmodels/tsa/stattools.py:349: RuntimeWarning: invalid value encountered in double_scalars\n",
      "  xo = x - x.sum()/notmask_int.sum()\n"
     ]
    },
    {
     "ename": "ValueError",
     "evalue": "negative dimensions are not allowed",
     "output_type": "error",
     "traceback": [
      "\u001b[0;31m---------------------------------------------------------------------------\u001b[0m",
      "\u001b[0;31mValueError\u001b[0m                                Traceback (most recent call last)",
      "\u001b[0;32m<ipython-input-206-436e3d526ad7>\u001b[0m in \u001b[0;36m<module>\u001b[0;34m()\u001b[0m\n\u001b[1;32m      3\u001b[0m \u001b[0;32mfor\u001b[0m \u001b[0mcommodity\u001b[0m \u001b[0;32min\u001b[0m \u001b[0mcommodities\u001b[0m\u001b[0;34m:\u001b[0m\u001b[0;34m\u001b[0m\u001b[0m\n\u001b[1;32m      4\u001b[0m     \u001b[0mdata_filter\u001b[0m\u001b[0;34m=\u001b[0m\u001b[0mdf_filtered\u001b[0m\u001b[0;34m[\u001b[0m\u001b[0mdf_filtered\u001b[0m\u001b[0;34m[\u001b[0m\u001b[0;34m\"combination_label\"\u001b[0m\u001b[0;34m]\u001b[0m\u001b[0;34m==\u001b[0m\u001b[0mcommodity\u001b[0m\u001b[0;34m]\u001b[0m\u001b[0;34m\u001b[0m\u001b[0m\n\u001b[0;32m----> 5\u001b[0;31m     \u001b[0mseasonality_type\u001b[0m\u001b[0;34m.\u001b[0m\u001b[0mappend\u001b[0m\u001b[0;34m(\u001b[0m\u001b[0;34m(\u001b[0m\u001b[0mcommodity\u001b[0m\u001b[0;34m,\u001b[0m\u001b[0mcheck_seasonality_type\u001b[0m\u001b[0;34m(\u001b[0m\u001b[0mdata_filter\u001b[0m\u001b[0;34m)\u001b[0m\u001b[0;34m)\u001b[0m\u001b[0;34m)\u001b[0m\u001b[0;34m\u001b[0m\u001b[0m\n\u001b[0m",
      "\u001b[0;32m<ipython-input-187-77dd59775d71>\u001b[0m in \u001b[0;36mcheck_seasonality_type\u001b[0;34m(data_filter)\u001b[0m\n\u001b[1;32m     16\u001b[0m \u001b[0;34m\u001b[0m\u001b[0m\n\u001b[1;32m     17\u001b[0m     \u001b[0madditive_acf\u001b[0m\u001b[0;34m=\u001b[0m\u001b[0msum\u001b[0m\u001b[0;34m(\u001b[0m\u001b[0mnp\u001b[0m\u001b[0;34m.\u001b[0m\u001b[0masarray\u001b[0m\u001b[0;34m(\u001b[0m\u001b[0macf\u001b[0m\u001b[0;34m(\u001b[0m\u001b[0mdata_filter\u001b[0m\u001b[0;34m[\u001b[0m\u001b[0;34m\"residual_additive\"\u001b[0m\u001b[0;34m]\u001b[0m\u001b[0;34m,\u001b[0m \u001b[0mmissing\u001b[0m\u001b[0;34m=\u001b[0m\u001b[0;34m'drop'\u001b[0m\u001b[0;34m)\u001b[0m\u001b[0;34m)\u001b[0m\u001b[0;34m*\u001b[0m\u001b[0;36m2\u001b[0m\u001b[0;34m)\u001b[0m\u001b[0;34m\u001b[0m\u001b[0m\n\u001b[0;32m---> 18\u001b[0;31m     \u001b[0mmultiplicative_acf\u001b[0m\u001b[0;34m=\u001b[0m\u001b[0msum\u001b[0m\u001b[0;34m(\u001b[0m\u001b[0mnp\u001b[0m\u001b[0;34m.\u001b[0m\u001b[0masarray\u001b[0m\u001b[0;34m(\u001b[0m\u001b[0macf\u001b[0m\u001b[0;34m(\u001b[0m\u001b[0mdata_filter\u001b[0m\u001b[0;34m[\u001b[0m\u001b[0;34m\"residual_multiplicative\"\u001b[0m\u001b[0;34m]\u001b[0m\u001b[0;34m,\u001b[0m \u001b[0mmissing\u001b[0m\u001b[0;34m=\u001b[0m\u001b[0;34m'drop'\u001b[0m\u001b[0;34m)\u001b[0m\u001b[0;34m)\u001b[0m\u001b[0;34m*\u001b[0m\u001b[0;36m2\u001b[0m\u001b[0;34m)\u001b[0m\u001b[0;34m\u001b[0m\u001b[0m\n\u001b[0m\u001b[1;32m     19\u001b[0m \u001b[0;34m\u001b[0m\u001b[0m\n\u001b[1;32m     20\u001b[0m     \u001b[0;32mif\u001b[0m \u001b[0madditive_acf\u001b[0m\u001b[0;34m<\u001b[0m\u001b[0mmultiplicative_acf\u001b[0m\u001b[0;34m:\u001b[0m\u001b[0;34m\u001b[0m\u001b[0m\n",
      "\u001b[0;32m/anaconda3/lib/python3.6/site-packages/statsmodels/tsa/stattools.py\u001b[0m in \u001b[0;36macf\u001b[0;34m(x, unbiased, nlags, qstat, fft, alpha, missing)\u001b[0m\n\u001b[1;32m    472\u001b[0m     \"\"\"\n\u001b[1;32m    473\u001b[0m     \u001b[0mnobs\u001b[0m \u001b[0;34m=\u001b[0m \u001b[0mlen\u001b[0m\u001b[0;34m(\u001b[0m\u001b[0mx\u001b[0m\u001b[0;34m)\u001b[0m  \u001b[0;31m# should this shrink for missing='drop' and NaNs in x?\u001b[0m\u001b[0;34m\u001b[0m\u001b[0m\n\u001b[0;32m--> 474\u001b[0;31m     \u001b[0mavf\u001b[0m \u001b[0;34m=\u001b[0m \u001b[0macovf\u001b[0m\u001b[0;34m(\u001b[0m\u001b[0mx\u001b[0m\u001b[0;34m,\u001b[0m \u001b[0munbiased\u001b[0m\u001b[0;34m=\u001b[0m\u001b[0munbiased\u001b[0m\u001b[0;34m,\u001b[0m \u001b[0mdemean\u001b[0m\u001b[0;34m=\u001b[0m\u001b[0;32mTrue\u001b[0m\u001b[0;34m,\u001b[0m \u001b[0mfft\u001b[0m\u001b[0;34m=\u001b[0m\u001b[0mfft\u001b[0m\u001b[0;34m,\u001b[0m \u001b[0mmissing\u001b[0m\u001b[0;34m=\u001b[0m\u001b[0mmissing\u001b[0m\u001b[0;34m)\u001b[0m\u001b[0;34m\u001b[0m\u001b[0m\n\u001b[0m\u001b[1;32m    475\u001b[0m     \u001b[0macf\u001b[0m \u001b[0;34m=\u001b[0m \u001b[0mavf\u001b[0m\u001b[0;34m[\u001b[0m\u001b[0;34m:\u001b[0m\u001b[0mnlags\u001b[0m \u001b[0;34m+\u001b[0m \u001b[0;36m1\u001b[0m\u001b[0;34m]\u001b[0m \u001b[0;34m/\u001b[0m \u001b[0mavf\u001b[0m\u001b[0;34m[\u001b[0m\u001b[0;36m0\u001b[0m\u001b[0;34m]\u001b[0m\u001b[0;34m\u001b[0m\u001b[0m\n\u001b[1;32m    476\u001b[0m     \u001b[0;32mif\u001b[0m \u001b[0;32mnot\u001b[0m \u001b[0;34m(\u001b[0m\u001b[0mqstat\u001b[0m \u001b[0;32mor\u001b[0m \u001b[0malpha\u001b[0m\u001b[0;34m)\u001b[0m\u001b[0;34m:\u001b[0m\u001b[0;34m\u001b[0m\u001b[0m\n",
      "\u001b[0;32m/anaconda3/lib/python3.6/site-packages/statsmodels/tsa/stattools.py\u001b[0m in \u001b[0;36macovf\u001b[0;34m(x, unbiased, demean, fft, missing)\u001b[0m\n\u001b[1;32m    362\u001b[0m         \u001b[0md\u001b[0m \u001b[0;34m=\u001b[0m \u001b[0mnp\u001b[0m\u001b[0;34m.\u001b[0m\u001b[0mhstack\u001b[0m\u001b[0;34m(\u001b[0m\u001b[0;34m(\u001b[0m\u001b[0mxi\u001b[0m\u001b[0;34m,\u001b[0m \u001b[0mxi\u001b[0m\u001b[0;34m[\u001b[0m\u001b[0;34m:\u001b[0m\u001b[0;34m-\u001b[0m\u001b[0;36m1\u001b[0m\u001b[0;34m]\u001b[0m\u001b[0;34m[\u001b[0m\u001b[0;34m:\u001b[0m\u001b[0;34m:\u001b[0m\u001b[0;34m-\u001b[0m\u001b[0;36m1\u001b[0m\u001b[0;34m]\u001b[0m\u001b[0;34m)\u001b[0m\u001b[0;34m)\u001b[0m\u001b[0;34m\u001b[0m\u001b[0m\n\u001b[1;32m    363\u001b[0m     \u001b[0;32melif\u001b[0m \u001b[0mdeal_with_masked\u001b[0m\u001b[0;34m:\u001b[0m \u001b[0;31m#biased and NaNs given and ('drop' or 'conservative')\u001b[0m\u001b[0;34m\u001b[0m\u001b[0m\n\u001b[0;32m--> 364\u001b[0;31m         \u001b[0md\u001b[0m \u001b[0;34m=\u001b[0m \u001b[0mnotmask_int\u001b[0m\u001b[0;34m.\u001b[0m\u001b[0msum\u001b[0m\u001b[0;34m(\u001b[0m\u001b[0;34m)\u001b[0m \u001b[0;34m*\u001b[0m \u001b[0mnp\u001b[0m\u001b[0;34m.\u001b[0m\u001b[0mones\u001b[0m\u001b[0;34m(\u001b[0m\u001b[0;36m2\u001b[0m\u001b[0;34m*\u001b[0m\u001b[0mn\u001b[0m\u001b[0;34m-\u001b[0m\u001b[0;36m1\u001b[0m\u001b[0;34m)\u001b[0m\u001b[0;34m\u001b[0m\u001b[0m\n\u001b[0m\u001b[1;32m    365\u001b[0m     \u001b[0;32melse\u001b[0m\u001b[0;34m:\u001b[0m \u001b[0;31m#biased and no NaNs or missing=='none'\u001b[0m\u001b[0;34m\u001b[0m\u001b[0m\n\u001b[1;32m    366\u001b[0m         \u001b[0md\u001b[0m \u001b[0;34m=\u001b[0m \u001b[0mn\u001b[0m \u001b[0;34m*\u001b[0m \u001b[0mnp\u001b[0m\u001b[0;34m.\u001b[0m\u001b[0mones\u001b[0m\u001b[0;34m(\u001b[0m\u001b[0;36m2\u001b[0m \u001b[0;34m*\u001b[0m \u001b[0mn\u001b[0m \u001b[0;34m-\u001b[0m \u001b[0;36m1\u001b[0m\u001b[0;34m)\u001b[0m\u001b[0;34m\u001b[0m\u001b[0m\n",
      "\u001b[0;32m/anaconda3/lib/python3.6/site-packages/numpy/core/numeric.py\u001b[0m in \u001b[0;36mones\u001b[0;34m(shape, dtype, order)\u001b[0m\n\u001b[1;32m    201\u001b[0m \u001b[0;34m\u001b[0m\u001b[0m\n\u001b[1;32m    202\u001b[0m     \"\"\"\n\u001b[0;32m--> 203\u001b[0;31m     \u001b[0ma\u001b[0m \u001b[0;34m=\u001b[0m \u001b[0mempty\u001b[0m\u001b[0;34m(\u001b[0m\u001b[0mshape\u001b[0m\u001b[0;34m,\u001b[0m \u001b[0mdtype\u001b[0m\u001b[0;34m,\u001b[0m \u001b[0morder\u001b[0m\u001b[0;34m)\u001b[0m\u001b[0;34m\u001b[0m\u001b[0m\n\u001b[0m\u001b[1;32m    204\u001b[0m     \u001b[0mmultiarray\u001b[0m\u001b[0;34m.\u001b[0m\u001b[0mcopyto\u001b[0m\u001b[0;34m(\u001b[0m\u001b[0ma\u001b[0m\u001b[0;34m,\u001b[0m \u001b[0;36m1\u001b[0m\u001b[0;34m,\u001b[0m \u001b[0mcasting\u001b[0m\u001b[0;34m=\u001b[0m\u001b[0;34m'unsafe'\u001b[0m\u001b[0;34m)\u001b[0m\u001b[0;34m\u001b[0m\u001b[0m\n\u001b[1;32m    205\u001b[0m     \u001b[0;32mreturn\u001b[0m \u001b[0ma\u001b[0m\u001b[0;34m\u001b[0m\u001b[0m\n",
      "\u001b[0;31mValueError\u001b[0m: negative dimensions are not allowed"
     ]
    }
   ],
   "source": [
    "commodities=list(df_filtered[\"combination_label\"].unique())\n",
    "seasonality_type=[]\n",
    "for commodity in commodities:\n",
    "    data_filter=df_filtered[df_filtered[\"combination_label\"]==commodity]\n",
    "    seasonality_type.append((commodity,check_seasonality_type(data_filter)))"
   ]
  },
  {
   "cell_type": "code",
   "execution_count": 210,
   "metadata": {
    "ExecuteTime": {
     "end_time": "2019-03-11T20:24:49.901061Z",
     "start_time": "2019-03-11T20:24:49.896523Z"
    }
   },
   "outputs": [
    {
     "data": {
      "text/plain": [
       "[('Kurdwadi:Sorgum(Jawar)', 'Multiplicative'),\n",
       " ('Kurdwadi:Wheat(Husked)', 'Additive'),\n",
       " ('Kurdwadi:Maize', 'Additive'),\n",
       " ('Kurdwadi:Gram', 'Additive'),\n",
       " ('Satara:Ladies Finger', 'Multiplicative'),\n",
       " ('Satara:Potato', 'Multiplicative'),\n",
       " ('Satara:Ginger (Fresh)', 'Multiplicative'),\n",
       " ('Satara:Bottle Gourd', 'Multiplicative'),\n",
       " ('Satara:Flower', 'Multiplicative'),\n",
       " ('Satara:Green Chilli', 'Additive')]"
      ]
     },
     "execution_count": 210,
     "metadata": {},
     "output_type": "execute_result"
    }
   ],
   "source": [
    "seasonality_type[:10]"
   ]
  },
  {
   "cell_type": "code",
   "execution_count": 211,
   "metadata": {
    "ExecuteTime": {
     "end_time": "2019-03-11T20:24:53.782643Z",
     "start_time": "2019-03-11T20:24:53.769280Z"
    }
   },
   "outputs": [],
   "source": [
    "dataframe=pd.DataFrame(seasonality_type,columns=[\"Commodity\",\"Seasonality Type\"])\n",
    "dataframe.to_csv(\"seasonality_type.csv\",index=False)"
   ]
  },
  {
   "cell_type": "markdown",
   "metadata": {},
   "source": [
    "## Deseasonalising the prices"
   ]
  },
  {
   "cell_type": "code",
   "execution_count": 220,
   "metadata": {
    "ExecuteTime": {
     "end_time": "2019-03-12T16:14:38.902128Z",
     "start_time": "2019-03-12T16:14:38.853506Z"
    }
   },
   "outputs": [],
   "source": [
    "def deseasonalise_values(data_filter,value):\n",
    "    data_filter[\"trend\"]=data_filter[\"modal_price\"].rolling(window=2).mean()\n",
    "    \n",
    "    if (value==\"Additive\"):\n",
    "        data_filter[\"detrended_additive\"]=data_filter[\"modal_price\"]-data_filter[\"trend\"]\n",
    "        additive_mean=data_filter[[\"detrended_additive\",\"quarter\"]].groupby([\"quarter\"]).mean().to_dict()[\"detrended_additive\"]\n",
    "        data_filter[\"seasonal_additive\"]=data_filter[\"quarter\"].apply(lambda x: additive_mean[x])\n",
    "        values=data_filter[\"modal_price\"]-data_filter[\"seasonal_additive\"]\n",
    "        values=values.tolist()\n",
    "        \n",
    "    else:\n",
    "        data_filter[\"detrended_multiplicative\"]=data_filter[\"modal_price\"]/data_filter[\"trend\"]\n",
    "        multiplicative_mean=data_filter[[\"detrended_multiplicative\",\"quarter\"]].groupby([\"quarter\"]).mean().to_dict()[\"detrended_multiplicative\"]\n",
    "        data_filter[\"seasonal_multiplicative\"]=data_filter[\"quarter\"].apply(lambda x: multiplicative_mean[x])\n",
    "        values=data_filter[\"modal_price\"]/data_filter[\"seasonal_multiplicative\"]\n",
    "        values=values.tolist()\n",
    "        \n",
    "    indexes=data_filter.index.tolist()\n",
    "\n",
    "    values_range=range(0,len(values))\n",
    "    \n",
    "    for index,value in zip(indexes,values_range):\n",
    "        \n",
    "        data_filter.at[index,\"deseasonalise_price\"]=values[value]\n",
    "        \n",
    "    return data_filter[[\"APMC\",\"Commodity\",\"combination_label\",\"Year_Month\",\"Year\",\"modal_price\",\"quarter\",\"deseasonalise_price\"]]"
   ]
  },
  {
   "cell_type": "code",
   "execution_count": 221,
   "metadata": {
    "ExecuteTime": {
     "end_time": "2019-03-12T16:14:40.075945Z",
     "start_time": "2019-03-12T16:14:40.027373Z"
    }
   },
   "outputs": [],
   "source": [
    "df_type=pd.read_csv(\"seasonality_type.csv\").set_index(\"Commodity\").to_dict()[\"Seasonality Type\"]\n",
    "\n",
    "df_filtered[\"deseasonalise_price\"]=np.nan"
   ]
  },
  {
   "cell_type": "code",
   "execution_count": 222,
   "metadata": {
    "ExecuteTime": {
     "end_time": "2019-03-12T16:16:40.297619Z",
     "start_time": "2019-03-12T16:14:42.832773Z"
    }
   },
   "outputs": [
    {
     "name": "stderr",
     "output_type": "stream",
     "text": [
      "/anaconda3/lib/python3.6/site-packages/ipykernel_launcher.py:2: SettingWithCopyWarning: \n",
      "A value is trying to be set on a copy of a slice from a DataFrame.\n",
      "Try using .loc[row_indexer,col_indexer] = value instead\n",
      "\n",
      "See the caveats in the documentation: http://pandas.pydata.org/pandas-docs/stable/indexing.html#indexing-view-versus-copy\n",
      "  \n",
      "/anaconda3/lib/python3.6/site-packages/ipykernel_launcher.py:12: SettingWithCopyWarning: \n",
      "A value is trying to be set on a copy of a slice from a DataFrame.\n",
      "Try using .loc[row_indexer,col_indexer] = value instead\n",
      "\n",
      "See the caveats in the documentation: http://pandas.pydata.org/pandas-docs/stable/indexing.html#indexing-view-versus-copy\n",
      "  if sys.path[0] == '':\n",
      "/anaconda3/lib/python3.6/site-packages/ipykernel_launcher.py:14: SettingWithCopyWarning: \n",
      "A value is trying to be set on a copy of a slice from a DataFrame.\n",
      "Try using .loc[row_indexer,col_indexer] = value instead\n",
      "\n",
      "See the caveats in the documentation: http://pandas.pydata.org/pandas-docs/stable/indexing.html#indexing-view-versus-copy\n",
      "  \n",
      "/anaconda3/lib/python3.6/site-packages/ipykernel_launcher.py:5: SettingWithCopyWarning: \n",
      "A value is trying to be set on a copy of a slice from a DataFrame.\n",
      "Try using .loc[row_indexer,col_indexer] = value instead\n",
      "\n",
      "See the caveats in the documentation: http://pandas.pydata.org/pandas-docs/stable/indexing.html#indexing-view-versus-copy\n",
      "  \"\"\"\n",
      "/anaconda3/lib/python3.6/site-packages/ipykernel_launcher.py:7: SettingWithCopyWarning: \n",
      "A value is trying to be set on a copy of a slice from a DataFrame.\n",
      "Try using .loc[row_indexer,col_indexer] = value instead\n",
      "\n",
      "See the caveats in the documentation: http://pandas.pydata.org/pandas-docs/stable/indexing.html#indexing-view-versus-copy\n",
      "  import sys\n"
     ]
    }
   ],
   "source": [
    "commoditites=list(df_type.keys())\n",
    "data_main=pd.DataFrame() #new data frame \n",
    "for commoditiy in commoditites:\n",
    "    data_temp=deseasonalise_values(df_filtered[df_filtered[\"combination_label\"]==commoditiy],df_type[commoditiy])\n",
    "    data_main=pd.concat([data_main,data_temp])\n",
    "data_main.to_csv(\"deseasonalize_data.csv\",index=False)"
   ]
  },
  {
   "cell_type": "code",
   "execution_count": 223,
   "metadata": {
    "ExecuteTime": {
     "end_time": "2019-03-12T16:17:46.398949Z",
     "start_time": "2019-03-12T16:17:46.387839Z"
    }
   },
   "outputs": [
    {
     "data": {
      "text/html": [
       "<div>\n",
       "<style scoped>\n",
       "    .dataframe tbody tr th:only-of-type {\n",
       "        vertical-align: middle;\n",
       "    }\n",
       "\n",
       "    .dataframe tbody tr th {\n",
       "        vertical-align: top;\n",
       "    }\n",
       "\n",
       "    .dataframe thead th {\n",
       "        text-align: right;\n",
       "    }\n",
       "</style>\n",
       "<table border=\"1\" class=\"dataframe\">\n",
       "  <thead>\n",
       "    <tr style=\"text-align: right;\">\n",
       "      <th></th>\n",
       "      <th>APMC</th>\n",
       "      <th>Commodity</th>\n",
       "      <th>combination_label</th>\n",
       "      <th>Year_Month</th>\n",
       "      <th>Year</th>\n",
       "      <th>modal_price</th>\n",
       "      <th>quarter</th>\n",
       "      <th>deseasonalise_price</th>\n",
       "    </tr>\n",
       "  </thead>\n",
       "  <tbody>\n",
       "    <tr>\n",
       "      <th>0</th>\n",
       "      <td>Kurdwadi</td>\n",
       "      <td>Sorgum(Jawar)</td>\n",
       "      <td>Kurdwadi:Sorgum(Jawar)</td>\n",
       "      <td>2014-09-01</td>\n",
       "      <td>2014</td>\n",
       "      <td>1981.0</td>\n",
       "      <td>3</td>\n",
       "      <td>1958.761615</td>\n",
       "    </tr>\n",
       "    <tr>\n",
       "      <th>1</th>\n",
       "      <td>Kurdwadi</td>\n",
       "      <td>Sorgum(Jawar)</td>\n",
       "      <td>Kurdwadi:Sorgum(Jawar)</td>\n",
       "      <td>2014-10-01</td>\n",
       "      <td>2014</td>\n",
       "      <td>1779.0</td>\n",
       "      <td>4</td>\n",
       "      <td>1777.633268</td>\n",
       "    </tr>\n",
       "    <tr>\n",
       "      <th>2</th>\n",
       "      <td>Kurdwadi</td>\n",
       "      <td>Sorgum(Jawar)</td>\n",
       "      <td>Kurdwadi:Sorgum(Jawar)</td>\n",
       "      <td>2014-11-01</td>\n",
       "      <td>2014</td>\n",
       "      <td>1973.0</td>\n",
       "      <td>4</td>\n",
       "      <td>1971.484226</td>\n",
       "    </tr>\n",
       "    <tr>\n",
       "      <th>3</th>\n",
       "      <td>Kurdwadi</td>\n",
       "      <td>Sorgum(Jawar)</td>\n",
       "      <td>Kurdwadi:Sorgum(Jawar)</td>\n",
       "      <td>2014-12-01</td>\n",
       "      <td>2014</td>\n",
       "      <td>1861.0</td>\n",
       "      <td>4</td>\n",
       "      <td>1859.570271</td>\n",
       "    </tr>\n",
       "    <tr>\n",
       "      <th>4</th>\n",
       "      <td>Kurdwadi</td>\n",
       "      <td>Sorgum(Jawar)</td>\n",
       "      <td>Kurdwadi:Sorgum(Jawar)</td>\n",
       "      <td>2015-01-01</td>\n",
       "      <td>2015</td>\n",
       "      <td>1840.0</td>\n",
       "      <td>1</td>\n",
       "      <td>1856.049896</td>\n",
       "    </tr>\n",
       "  </tbody>\n",
       "</table>\n",
       "</div>"
      ],
      "text/plain": [
       "       APMC      Commodity       combination_label Year_Month  Year  \\\n",
       "0  Kurdwadi  Sorgum(Jawar)  Kurdwadi:Sorgum(Jawar) 2014-09-01  2014   \n",
       "1  Kurdwadi  Sorgum(Jawar)  Kurdwadi:Sorgum(Jawar) 2014-10-01  2014   \n",
       "2  Kurdwadi  Sorgum(Jawar)  Kurdwadi:Sorgum(Jawar) 2014-11-01  2014   \n",
       "3  Kurdwadi  Sorgum(Jawar)  Kurdwadi:Sorgum(Jawar) 2014-12-01  2014   \n",
       "4  Kurdwadi  Sorgum(Jawar)  Kurdwadi:Sorgum(Jawar) 2015-01-01  2015   \n",
       "\n",
       "   modal_price  quarter  deseasonalise_price  \n",
       "0       1981.0        3          1958.761615  \n",
       "1       1779.0        4          1777.633268  \n",
       "2       1973.0        4          1971.484226  \n",
       "3       1861.0        4          1859.570271  \n",
       "4       1840.0        1          1856.049896  "
      ]
     },
     "execution_count": 223,
     "metadata": {},
     "output_type": "execute_result"
    }
   ],
   "source": [
    "data_main.head()"
   ]
  },
  {
   "cell_type": "code",
   "execution_count": 224,
   "metadata": {
    "ExecuteTime": {
     "end_time": "2019-03-12T16:18:27.671506Z",
     "start_time": "2019-03-12T16:18:27.668140Z"
    }
   },
   "outputs": [],
   "source": [
    "data_main['Year_Month']=pd.to_datetime(data_main['Year_Month'])"
   ]
  },
  {
   "cell_type": "code",
   "execution_count": 262,
   "metadata": {
    "ExecuteTime": {
     "end_time": "2019-03-12T16:35:52.281376Z",
     "start_time": "2019-03-12T16:35:52.273182Z"
    }
   },
   "outputs": [],
   "source": [
    " def plot_deseasonalised():\n",
    "    input_APMC=input(\"Input the APMC: \")\n",
    "    input_commodity=input(\"Input the Commodity: \")\n",
    "    label = input_APMC+\":\"+input_commodity\n",
    "    source=data_main[data_main[\"combination_label\"]==label]\n",
    "    p = Figure(x_axis_type=\"datetime\", plot_width=800, plot_height=350)\n",
    "    p.line('Year_Month', 'deseasonalise_price',color='green',source=source)\n",
    "    p.line('Year_Month', 'modal_price',color='blue', source=source)\n",
    "    p.title.text=\"APMC:Akole   Commodity:Gram\"\n",
    "    show(p)"
   ]
  },
  {
   "cell_type": "code",
   "execution_count": 263,
   "metadata": {
    "ExecuteTime": {
     "end_time": "2019-03-12T16:36:03.533850Z",
     "start_time": "2019-03-12T16:35:54.253596Z"
    }
   },
   "outputs": [
    {
     "name": "stdout",
     "output_type": "stream",
     "text": [
      "Input the APMC: Kurdwadi\n",
      "Input the Commodity: Sorgum(Jawar)\n"
     ]
    }
   ],
   "source": [
    "plot_deseasonalised()"
   ]
  },
  {
   "cell_type": "markdown",
   "metadata": {},
   "source": [
    "## Finding fluctuations"
   ]
  },
  {
   "cell_type": "code",
   "execution_count": 266,
   "metadata": {
    "ExecuteTime": {
     "end_time": "2019-03-12T16:37:37.523174Z",
     "start_time": "2019-03-12T16:37:37.514924Z"
    }
   },
   "outputs": [],
   "source": [
    "def highest_price_fluctuation_commodities(df): \n",
    "    #return name of commodities with highest price (max_price) fluctuation in each APMC\n",
    "    data=[]\n",
    "    commodities=df[\"combination_label\"].unique().tolist()\n",
    "    for commodity in commodities:\n",
    "        df_temp=df[df[\"combination_label\"]==commodity]\n",
    "        value=stats.variation(df_temp[\"max_price\"])\n",
    "        data.append((commodity,value))\n",
    "    data.sort(key=lambda x: x[1],reverse= True)\n",
    "    data=[x[0] for x in data[:20]] #top 20 APMC commodities cluster name\n",
    "    return data"
   ]
  },
  {
   "cell_type": "code",
   "execution_count": 289,
   "metadata": {
    "ExecuteTime": {
     "end_time": "2019-03-12T16:47:42.864265Z",
     "start_time": "2019-03-12T16:47:40.811994Z"
    }
   },
   "outputs": [
    {
     "data": {
      "text/plain": [
       "['Barshi:Brinjal',\n",
       " 'Barshi:Tomato',\n",
       " 'Barshi:Cabbage',\n",
       " 'Barshi:Green Chilli',\n",
       " 'Barshi:Flower',\n",
       " 'Barshi:Lemon',\n",
       " 'Barshi:Cluster Bean',\n",
       " 'Barshi:Cucumber',\n",
       " 'Barshi:Ladies Finger',\n",
       " 'Barshi:Capsicum',\n",
       " 'Barshi:Bitter Gourd',\n",
       " 'Pune:Squash Gourd',\n",
       " 'Vadgaon Peth:Tomato',\n",
       " 'Mumbai:Squash Gourd',\n",
       " 'Aurangabad:Tomato',\n",
       " 'Solapur:Papai',\n",
       " 'Shahada:Maize',\n",
       " 'Kalvan:Onion',\n",
       " 'Yeola:Onion',\n",
       " 'Pune-Manjri:Onion']"
      ]
     },
     "execution_count": 289,
     "metadata": {},
     "output_type": "execute_result"
    }
   ],
   "source": [
    "fluctuation=highest_price_fluctuation_commodities(df_filtered)\n",
    "fluctuation"
   ]
  },
  {
   "cell_type": "code",
   "execution_count": null,
   "metadata": {},
   "outputs": [],
   "source": []
  }
 ],
 "metadata": {
  "kernelspec": {
   "display_name": "Python 3",
   "language": "python",
   "name": "python3"
  },
  "language_info": {
   "codemirror_mode": {
    "name": "ipython",
    "version": 3
   },
   "file_extension": ".py",
   "mimetype": "text/x-python",
   "name": "python",
   "nbconvert_exporter": "python",
   "pygments_lexer": "ipython3",
   "version": "3.6.4"
  },
  "varInspector": {
   "cols": {
    "lenName": 16,
    "lenType": 16,
    "lenVar": 40
   },
   "kernels_config": {
    "python": {
     "delete_cmd_postfix": "",
     "delete_cmd_prefix": "del ",
     "library": "var_list.py",
     "varRefreshCmd": "print(var_dic_list())"
    },
    "r": {
     "delete_cmd_postfix": ") ",
     "delete_cmd_prefix": "rm(",
     "library": "var_list.r",
     "varRefreshCmd": "cat(var_dic_list()) "
    }
   },
   "types_to_exclude": [
    "module",
    "function",
    "builtin_function_or_method",
    "instance",
    "_Feature"
   ],
   "window_display": false
  }
 },
 "nbformat": 4,
 "nbformat_minor": 2
}
